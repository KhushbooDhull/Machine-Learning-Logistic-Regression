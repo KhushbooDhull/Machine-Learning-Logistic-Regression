{
 "cells": [
  {
   "cell_type": "markdown",
   "id": "c926855c",
   "metadata": {},
   "source": [
    "# Term Deposit Prediction"
   ]
  },
  {
   "cell_type": "markdown",
   "id": "fe81db13",
   "metadata": {},
   "source": [
    "\n",
    "### Bank Business Use Case\n",
    "There has been a revenue decline for a bank and they would like to know what actions to take. After investigation, they found out that the root cause is that their clients are not depositing as frequently as before. Knowing that term deposits allow banks to hold onto a deposit for a specific amount of time, so banks can invest in higher gain financial products to make a profit. In addition, banks also hold better chance to persuade term deposit clients into buying other products such as funds or insurance to further increase their revenues. As a result, the Portuguese bank would like to identify existing clients that have higher chance to subscribe for a term deposit and focus marketing efforts on such clients.\n",
    "\n",
    "## Problem Statement\n",
    "\n",
    "Predict if the client will subscribe to a term deposit based on the analysis of the marketing campaigns the bank performed."
   ]
  },
  {
   "cell_type": "markdown",
   "id": "1a851c36",
   "metadata": {},
   "source": [
    "### Feature Description\n",
    "\n",
    "1 - age (numeric)\n",
    "\n",
    "2 - job : type of job (categorical: 'admin.','blue-collar','entrepreneur','housemaid','management','retired','self-employed','services','student','technician','unemployed','unknown')\n",
    "\n",
    "3 - marital : marital status (categorical: 'divorced','married','single','unknown'; note: 'divorced' means divorced or widowed)\n",
    "\n",
    "4 - education (categorical: 'basic.4y','basic.6y','basic.9y','high.school','illiterate','professional.course','university.degree','unknown')\n",
    "\n",
    "5 - default: has credit in default? (categorical: 'no','yes','unknown')\n",
    "\n",
    "6 - housing: has housing loan? (categorical: 'no','yes','unknown')\n",
    "\n",
    "7 - loan: has personal loan? (categorical: 'no','yes','unknown')\n",
    "\n",
    "8 - contact: contact communication type (categorical: 'cellular','telephone')\n",
    "\n",
    "9 - month: last contact month of year (categorical: 'jan', 'feb', 'mar', ..., 'nov', 'dec')\n",
    "\n",
    "10 - day_of_week: last contact day of the week (categorical: 'mon','tue','wed','thu','fri')\n",
    "\n",
    "11 - duration: last contact duration, in seconds (numeric). Important note: this attribute highly affects the output target (e.g., if duration=0 then y='no'). Yet, the duration is not known before a call is performed. Also, after the end of the call y is obviously known. Thus, this input should only be included for benchmark purposes and should be discarded if the intention is to have a realistic predictive model.\n",
    "\n",
    "12 - campaign: number of contacts performed during this campaign and for this client (numeric, includes last contact)\n",
    "\n",
    "13 - pdays: number of days that passed by after the client was last contacted from a previous campaign (numeric; 999 means client was not previously contacted)\n",
    "\n",
    "14 - previous: number of contacts performed before this campaign and for this client (numeric)\n",
    "\n",
    "15 - poutcome: outcome of the previous marketing campaign (categorical: 'failure','nonexistent','success')\n",
    "\n",
    "16 - emp.var.rate: employment variation rate - (numeric)\n",
    "\n",
    "17 - cons.price.idx: consumer price index - (numeric)\n",
    "\n",
    "18 - cons.conf.idx: consumer confidence index - (numeric) \n",
    "\n",
    "19 - euribor3m: euribor 3 month rate - (numeric)\n",
    "\n",
    "20 - nr.employed: number of employees - (numeric)\n",
    "\n",
    "#### Predict variable (desired target):\n",
    "\n",
    "y - has the client subscribed a term deposit? (binary: '1','0')"
   ]
  },
  {
   "cell_type": "markdown",
   "id": "08b8624e",
   "metadata": {},
   "source": [
    "### Importing Libraries"
   ]
  },
  {
   "cell_type": "code",
   "execution_count": 1,
   "id": "fb867f02",
   "metadata": {},
   "outputs": [],
   "source": [
    "import pandas as pd\n",
    "import numpy as np\n",
    "import matplotlib.pyplot as plt\n",
    "import seaborn as sns\n",
    "from warnings import filterwarnings\n",
    "filterwarnings('ignore')"
   ]
  },
  {
   "cell_type": "markdown",
   "id": "2c948004",
   "metadata": {},
   "source": [
    "### Read the dataset"
   ]
  },
  {
   "cell_type": "code",
   "execution_count": 2,
   "id": "d16e3d40",
   "metadata": {},
   "outputs": [
    {
     "data": {
      "text/html": [
       "<div>\n",
       "<style scoped>\n",
       "    .dataframe tbody tr th:only-of-type {\n",
       "        vertical-align: middle;\n",
       "    }\n",
       "\n",
       "    .dataframe tbody tr th {\n",
       "        vertical-align: top;\n",
       "    }\n",
       "\n",
       "    .dataframe thead th {\n",
       "        text-align: right;\n",
       "    }\n",
       "</style>\n",
       "<table border=\"1\" class=\"dataframe\">\n",
       "  <thead>\n",
       "    <tr style=\"text-align: right;\">\n",
       "      <th></th>\n",
       "      <th>Unnamed: 0</th>\n",
       "      <th>Unnamed: 0.1</th>\n",
       "      <th>age</th>\n",
       "      <th>job</th>\n",
       "      <th>marital</th>\n",
       "      <th>education</th>\n",
       "      <th>default</th>\n",
       "      <th>housing</th>\n",
       "      <th>loan</th>\n",
       "      <th>contact</th>\n",
       "      <th>...</th>\n",
       "      <th>campaign</th>\n",
       "      <th>pdays</th>\n",
       "      <th>previous</th>\n",
       "      <th>poutcome</th>\n",
       "      <th>emp_var_rate</th>\n",
       "      <th>cons_price_idx</th>\n",
       "      <th>cons_conf_idx</th>\n",
       "      <th>euribor3m</th>\n",
       "      <th>nr_employed</th>\n",
       "      <th>y</th>\n",
       "    </tr>\n",
       "  </thead>\n",
       "  <tbody>\n",
       "    <tr>\n",
       "      <th>0</th>\n",
       "      <td>0</td>\n",
       "      <td>0</td>\n",
       "      <td>44</td>\n",
       "      <td>blue-collar</td>\n",
       "      <td>married</td>\n",
       "      <td>basic.4y</td>\n",
       "      <td>unknown</td>\n",
       "      <td>yes</td>\n",
       "      <td>no</td>\n",
       "      <td>cellular</td>\n",
       "      <td>...</td>\n",
       "      <td>1</td>\n",
       "      <td>999</td>\n",
       "      <td>0</td>\n",
       "      <td>nonexistent</td>\n",
       "      <td>1.4</td>\n",
       "      <td>93.444</td>\n",
       "      <td>-36.1</td>\n",
       "      <td>4.963</td>\n",
       "      <td>5228.1</td>\n",
       "      <td>0</td>\n",
       "    </tr>\n",
       "    <tr>\n",
       "      <th>1</th>\n",
       "      <td>1</td>\n",
       "      <td>1</td>\n",
       "      <td>53</td>\n",
       "      <td>technician</td>\n",
       "      <td>married</td>\n",
       "      <td>unknown</td>\n",
       "      <td>no</td>\n",
       "      <td>no</td>\n",
       "      <td>no</td>\n",
       "      <td>cellular</td>\n",
       "      <td>...</td>\n",
       "      <td>1</td>\n",
       "      <td>999</td>\n",
       "      <td>0</td>\n",
       "      <td>nonexistent</td>\n",
       "      <td>-0.1</td>\n",
       "      <td>93.200</td>\n",
       "      <td>-42.0</td>\n",
       "      <td>4.021</td>\n",
       "      <td>5195.8</td>\n",
       "      <td>0</td>\n",
       "    </tr>\n",
       "    <tr>\n",
       "      <th>2</th>\n",
       "      <td>2</td>\n",
       "      <td>2</td>\n",
       "      <td>28</td>\n",
       "      <td>management</td>\n",
       "      <td>single</td>\n",
       "      <td>university.degree</td>\n",
       "      <td>no</td>\n",
       "      <td>yes</td>\n",
       "      <td>no</td>\n",
       "      <td>cellular</td>\n",
       "      <td>...</td>\n",
       "      <td>3</td>\n",
       "      <td>6</td>\n",
       "      <td>2</td>\n",
       "      <td>success</td>\n",
       "      <td>-1.7</td>\n",
       "      <td>94.055</td>\n",
       "      <td>-39.8</td>\n",
       "      <td>0.729</td>\n",
       "      <td>4991.6</td>\n",
       "      <td>1</td>\n",
       "    </tr>\n",
       "    <tr>\n",
       "      <th>3</th>\n",
       "      <td>3</td>\n",
       "      <td>3</td>\n",
       "      <td>39</td>\n",
       "      <td>services</td>\n",
       "      <td>married</td>\n",
       "      <td>high.school</td>\n",
       "      <td>no</td>\n",
       "      <td>no</td>\n",
       "      <td>no</td>\n",
       "      <td>cellular</td>\n",
       "      <td>...</td>\n",
       "      <td>2</td>\n",
       "      <td>999</td>\n",
       "      <td>0</td>\n",
       "      <td>nonexistent</td>\n",
       "      <td>-1.8</td>\n",
       "      <td>93.075</td>\n",
       "      <td>-47.1</td>\n",
       "      <td>1.405</td>\n",
       "      <td>5099.1</td>\n",
       "      <td>0</td>\n",
       "    </tr>\n",
       "    <tr>\n",
       "      <th>4</th>\n",
       "      <td>4</td>\n",
       "      <td>4</td>\n",
       "      <td>55</td>\n",
       "      <td>retired</td>\n",
       "      <td>married</td>\n",
       "      <td>basic.4y</td>\n",
       "      <td>no</td>\n",
       "      <td>yes</td>\n",
       "      <td>no</td>\n",
       "      <td>cellular</td>\n",
       "      <td>...</td>\n",
       "      <td>1</td>\n",
       "      <td>3</td>\n",
       "      <td>1</td>\n",
       "      <td>success</td>\n",
       "      <td>-2.9</td>\n",
       "      <td>92.201</td>\n",
       "      <td>-31.4</td>\n",
       "      <td>0.869</td>\n",
       "      <td>5076.2</td>\n",
       "      <td>1</td>\n",
       "    </tr>\n",
       "  </tbody>\n",
       "</table>\n",
       "<p>5 rows × 23 columns</p>\n",
       "</div>"
      ],
      "text/plain": [
       "   Unnamed: 0  Unnamed: 0.1  age          job  marital          education  \\\n",
       "0           0             0   44  blue-collar  married           basic.4y   \n",
       "1           1             1   53   technician  married            unknown   \n",
       "2           2             2   28   management   single  university.degree   \n",
       "3           3             3   39     services  married        high.school   \n",
       "4           4             4   55      retired  married           basic.4y   \n",
       "\n",
       "   default housing loan   contact  ... campaign pdays  previous     poutcome  \\\n",
       "0  unknown     yes   no  cellular  ...        1   999         0  nonexistent   \n",
       "1       no      no   no  cellular  ...        1   999         0  nonexistent   \n",
       "2       no     yes   no  cellular  ...        3     6         2      success   \n",
       "3       no      no   no  cellular  ...        2   999         0  nonexistent   \n",
       "4       no     yes   no  cellular  ...        1     3         1      success   \n",
       "\n",
       "   emp_var_rate  cons_price_idx cons_conf_idx  euribor3m  nr_employed  y  \n",
       "0           1.4          93.444         -36.1      4.963       5228.1  0  \n",
       "1          -0.1          93.200         -42.0      4.021       5195.8  0  \n",
       "2          -1.7          94.055         -39.8      0.729       4991.6  1  \n",
       "3          -1.8          93.075         -47.1      1.405       5099.1  0  \n",
       "4          -2.9          92.201         -31.4      0.869       5076.2  1  \n",
       "\n",
       "[5 rows x 23 columns]"
      ]
     },
     "execution_count": 2,
     "metadata": {},
     "output_type": "execute_result"
    }
   ],
   "source": [
    "df = pd.read_csv('term_deposit.csv')\n",
    "df.head()"
   ]
  },
  {
   "cell_type": "code",
   "execution_count": 3,
   "id": "5dabf783",
   "metadata": {},
   "outputs": [],
   "source": [
    "df.drop('Unnamed: 0',axis=1,inplace=True)\n",
    "df.drop('Unnamed: 0.1',axis=1,inplace=True)"
   ]
  },
  {
   "cell_type": "code",
   "execution_count": 4,
   "id": "41569662",
   "metadata": {},
   "outputs": [
    {
     "data": {
      "text/html": [
       "<div>\n",
       "<style scoped>\n",
       "    .dataframe tbody tr th:only-of-type {\n",
       "        vertical-align: middle;\n",
       "    }\n",
       "\n",
       "    .dataframe tbody tr th {\n",
       "        vertical-align: top;\n",
       "    }\n",
       "\n",
       "    .dataframe thead th {\n",
       "        text-align: right;\n",
       "    }\n",
       "</style>\n",
       "<table border=\"1\" class=\"dataframe\">\n",
       "  <thead>\n",
       "    <tr style=\"text-align: right;\">\n",
       "      <th></th>\n",
       "      <th>age</th>\n",
       "      <th>job</th>\n",
       "      <th>marital</th>\n",
       "      <th>education</th>\n",
       "      <th>default</th>\n",
       "      <th>housing</th>\n",
       "      <th>loan</th>\n",
       "      <th>contact</th>\n",
       "      <th>month</th>\n",
       "      <th>day_of_week</th>\n",
       "      <th>...</th>\n",
       "      <th>campaign</th>\n",
       "      <th>pdays</th>\n",
       "      <th>previous</th>\n",
       "      <th>poutcome</th>\n",
       "      <th>emp_var_rate</th>\n",
       "      <th>cons_price_idx</th>\n",
       "      <th>cons_conf_idx</th>\n",
       "      <th>euribor3m</th>\n",
       "      <th>nr_employed</th>\n",
       "      <th>y</th>\n",
       "    </tr>\n",
       "  </thead>\n",
       "  <tbody>\n",
       "    <tr>\n",
       "      <th>0</th>\n",
       "      <td>44</td>\n",
       "      <td>blue-collar</td>\n",
       "      <td>married</td>\n",
       "      <td>basic.4y</td>\n",
       "      <td>unknown</td>\n",
       "      <td>yes</td>\n",
       "      <td>no</td>\n",
       "      <td>cellular</td>\n",
       "      <td>aug</td>\n",
       "      <td>thu</td>\n",
       "      <td>...</td>\n",
       "      <td>1</td>\n",
       "      <td>999</td>\n",
       "      <td>0</td>\n",
       "      <td>nonexistent</td>\n",
       "      <td>1.4</td>\n",
       "      <td>93.444</td>\n",
       "      <td>-36.1</td>\n",
       "      <td>4.963</td>\n",
       "      <td>5228.1</td>\n",
       "      <td>0</td>\n",
       "    </tr>\n",
       "    <tr>\n",
       "      <th>1</th>\n",
       "      <td>53</td>\n",
       "      <td>technician</td>\n",
       "      <td>married</td>\n",
       "      <td>unknown</td>\n",
       "      <td>no</td>\n",
       "      <td>no</td>\n",
       "      <td>no</td>\n",
       "      <td>cellular</td>\n",
       "      <td>nov</td>\n",
       "      <td>fri</td>\n",
       "      <td>...</td>\n",
       "      <td>1</td>\n",
       "      <td>999</td>\n",
       "      <td>0</td>\n",
       "      <td>nonexistent</td>\n",
       "      <td>-0.1</td>\n",
       "      <td>93.200</td>\n",
       "      <td>-42.0</td>\n",
       "      <td>4.021</td>\n",
       "      <td>5195.8</td>\n",
       "      <td>0</td>\n",
       "    </tr>\n",
       "    <tr>\n",
       "      <th>2</th>\n",
       "      <td>28</td>\n",
       "      <td>management</td>\n",
       "      <td>single</td>\n",
       "      <td>university.degree</td>\n",
       "      <td>no</td>\n",
       "      <td>yes</td>\n",
       "      <td>no</td>\n",
       "      <td>cellular</td>\n",
       "      <td>jun</td>\n",
       "      <td>thu</td>\n",
       "      <td>...</td>\n",
       "      <td>3</td>\n",
       "      <td>6</td>\n",
       "      <td>2</td>\n",
       "      <td>success</td>\n",
       "      <td>-1.7</td>\n",
       "      <td>94.055</td>\n",
       "      <td>-39.8</td>\n",
       "      <td>0.729</td>\n",
       "      <td>4991.6</td>\n",
       "      <td>1</td>\n",
       "    </tr>\n",
       "    <tr>\n",
       "      <th>3</th>\n",
       "      <td>39</td>\n",
       "      <td>services</td>\n",
       "      <td>married</td>\n",
       "      <td>high.school</td>\n",
       "      <td>no</td>\n",
       "      <td>no</td>\n",
       "      <td>no</td>\n",
       "      <td>cellular</td>\n",
       "      <td>apr</td>\n",
       "      <td>fri</td>\n",
       "      <td>...</td>\n",
       "      <td>2</td>\n",
       "      <td>999</td>\n",
       "      <td>0</td>\n",
       "      <td>nonexistent</td>\n",
       "      <td>-1.8</td>\n",
       "      <td>93.075</td>\n",
       "      <td>-47.1</td>\n",
       "      <td>1.405</td>\n",
       "      <td>5099.1</td>\n",
       "      <td>0</td>\n",
       "    </tr>\n",
       "    <tr>\n",
       "      <th>4</th>\n",
       "      <td>55</td>\n",
       "      <td>retired</td>\n",
       "      <td>married</td>\n",
       "      <td>basic.4y</td>\n",
       "      <td>no</td>\n",
       "      <td>yes</td>\n",
       "      <td>no</td>\n",
       "      <td>cellular</td>\n",
       "      <td>aug</td>\n",
       "      <td>fri</td>\n",
       "      <td>...</td>\n",
       "      <td>1</td>\n",
       "      <td>3</td>\n",
       "      <td>1</td>\n",
       "      <td>success</td>\n",
       "      <td>-2.9</td>\n",
       "      <td>92.201</td>\n",
       "      <td>-31.4</td>\n",
       "      <td>0.869</td>\n",
       "      <td>5076.2</td>\n",
       "      <td>1</td>\n",
       "    </tr>\n",
       "  </tbody>\n",
       "</table>\n",
       "<p>5 rows × 21 columns</p>\n",
       "</div>"
      ],
      "text/plain": [
       "   age          job  marital          education  default housing loan  \\\n",
       "0   44  blue-collar  married           basic.4y  unknown     yes   no   \n",
       "1   53   technician  married            unknown       no      no   no   \n",
       "2   28   management   single  university.degree       no     yes   no   \n",
       "3   39     services  married        high.school       no      no   no   \n",
       "4   55      retired  married           basic.4y       no     yes   no   \n",
       "\n",
       "    contact month day_of_week  ...  campaign  pdays  previous     poutcome  \\\n",
       "0  cellular   aug         thu  ...         1    999         0  nonexistent   \n",
       "1  cellular   nov         fri  ...         1    999         0  nonexistent   \n",
       "2  cellular   jun         thu  ...         3      6         2      success   \n",
       "3  cellular   apr         fri  ...         2    999         0  nonexistent   \n",
       "4  cellular   aug         fri  ...         1      3         1      success   \n",
       "\n",
       "  emp_var_rate  cons_price_idx  cons_conf_idx  euribor3m  nr_employed  y  \n",
       "0          1.4          93.444          -36.1      4.963       5228.1  0  \n",
       "1         -0.1          93.200          -42.0      4.021       5195.8  0  \n",
       "2         -1.7          94.055          -39.8      0.729       4991.6  1  \n",
       "3         -1.8          93.075          -47.1      1.405       5099.1  0  \n",
       "4         -2.9          92.201          -31.4      0.869       5076.2  1  \n",
       "\n",
       "[5 rows x 21 columns]"
      ]
     },
     "execution_count": 4,
     "metadata": {},
     "output_type": "execute_result"
    }
   ],
   "source": [
    "df.head()"
   ]
  },
  {
   "cell_type": "markdown",
   "id": "185f2055",
   "metadata": {},
   "source": [
    "### Data Analysis and Preparation\n",
    "    \n",
    "Data preparation is the process of cleaning and transforming raw data before building predictive models.\n",
    "​\n",
    "Here, we analyze and perform the following tasks:\n",
    "1. Check data types. Ensure your data types are correct.\n",
    "2. We need to change the data types as per requirement If they are not as per business definition\n",
    "3. Go through the summary statistics\n",
    "4. Distribution of variables\n",
    "5. Study the correlation\n",
    "6. Detect outliers from the data\n",
    "7. Look for the missing values"
   ]
  },
  {
   "cell_type": "markdown",
   "id": "838e0cbc",
   "metadata": {},
   "source": [
    "### Understanding the Dataset"
   ]
  },
  {
   "cell_type": "code",
   "execution_count": 5,
   "id": "444f8842",
   "metadata": {},
   "outputs": [],
   "source": [
    "df1=df.copy()"
   ]
  },
  {
   "cell_type": "code",
   "execution_count": 6,
   "id": "7ff85346",
   "metadata": {},
   "outputs": [
    {
     "data": {
      "text/plain": [
       "(41188, 21)"
      ]
     },
     "execution_count": 6,
     "metadata": {},
     "output_type": "execute_result"
    }
   ],
   "source": [
    "df1.shape"
   ]
  },
  {
   "cell_type": "code",
   "execution_count": 7,
   "id": "f8c5a073",
   "metadata": {},
   "outputs": [
    {
     "data": {
      "text/plain": [
       "Index(['age', 'job', 'marital', 'education', 'default', 'housing', 'loan',\n",
       "       'contact', 'month', 'day_of_week', 'duration', 'campaign', 'pdays',\n",
       "       'previous', 'poutcome', 'emp_var_rate', 'cons_price_idx',\n",
       "       'cons_conf_idx', 'euribor3m', 'nr_employed', 'y'],\n",
       "      dtype='object')"
      ]
     },
     "execution_count": 7,
     "metadata": {},
     "output_type": "execute_result"
    }
   ],
   "source": [
    "df1.columns"
   ]
  },
  {
   "cell_type": "markdown",
   "id": "e2bc1d9e",
   "metadata": {},
   "source": [
    "### Checking for Data Types"
   ]
  },
  {
   "cell_type": "code",
   "execution_count": 8,
   "id": "3e790561",
   "metadata": {},
   "outputs": [
    {
     "name": "stdout",
     "output_type": "stream",
     "text": [
      "<class 'pandas.core.frame.DataFrame'>\n",
      "RangeIndex: 41188 entries, 0 to 41187\n",
      "Data columns (total 21 columns):\n",
      " #   Column          Non-Null Count  Dtype  \n",
      "---  ------          --------------  -----  \n",
      " 0   age             41188 non-null  int64  \n",
      " 1   job             41188 non-null  object \n",
      " 2   marital         41188 non-null  object \n",
      " 3   education       41188 non-null  object \n",
      " 4   default         41188 non-null  object \n",
      " 5   housing         41188 non-null  object \n",
      " 6   loan            41188 non-null  object \n",
      " 7   contact         41188 non-null  object \n",
      " 8   month           41188 non-null  object \n",
      " 9   day_of_week     41188 non-null  object \n",
      " 10  duration        41188 non-null  int64  \n",
      " 11  campaign        41188 non-null  int64  \n",
      " 12  pdays           41188 non-null  int64  \n",
      " 13  previous        41188 non-null  int64  \n",
      " 14  poutcome        41188 non-null  object \n",
      " 15  emp_var_rate    41188 non-null  float64\n",
      " 16  cons_price_idx  41188 non-null  float64\n",
      " 17  cons_conf_idx   41188 non-null  float64\n",
      " 18  euribor3m       41188 non-null  float64\n",
      " 19  nr_employed     41188 non-null  float64\n",
      " 20  y               41188 non-null  int64  \n",
      "dtypes: float64(5), int64(6), object(10)\n",
      "memory usage: 6.6+ MB\n"
     ]
    }
   ],
   "source": [
    "df1.info()"
   ]
  },
  {
   "cell_type": "code",
   "execution_count": 9,
   "id": "4dd6e20b",
   "metadata": {},
   "outputs": [
    {
     "data": {
      "text/plain": [
       "object     10\n",
       "int64       6\n",
       "float64     5\n",
       "dtype: int64"
      ]
     },
     "execution_count": 9,
     "metadata": {},
     "output_type": "execute_result"
    }
   ],
   "source": [
    "df1.dtypes.value_counts()"
   ]
  },
  {
   "cell_type": "markdown",
   "id": "b47004e1",
   "metadata": {},
   "source": [
    "#### 1. For getting the statistical summary of numerical variables we use the describe()"
   ]
  },
  {
   "cell_type": "code",
   "execution_count": 10,
   "id": "22c53b98",
   "metadata": {},
   "outputs": [
    {
     "data": {
      "text/html": [
       "<div>\n",
       "<style scoped>\n",
       "    .dataframe tbody tr th:only-of-type {\n",
       "        vertical-align: middle;\n",
       "    }\n",
       "\n",
       "    .dataframe tbody tr th {\n",
       "        vertical-align: top;\n",
       "    }\n",
       "\n",
       "    .dataframe thead th {\n",
       "        text-align: right;\n",
       "    }\n",
       "</style>\n",
       "<table border=\"1\" class=\"dataframe\">\n",
       "  <thead>\n",
       "    <tr style=\"text-align: right;\">\n",
       "      <th></th>\n",
       "      <th>age</th>\n",
       "      <th>duration</th>\n",
       "      <th>campaign</th>\n",
       "      <th>pdays</th>\n",
       "      <th>previous</th>\n",
       "      <th>emp_var_rate</th>\n",
       "      <th>cons_price_idx</th>\n",
       "      <th>cons_conf_idx</th>\n",
       "      <th>euribor3m</th>\n",
       "      <th>nr_employed</th>\n",
       "      <th>y</th>\n",
       "    </tr>\n",
       "  </thead>\n",
       "  <tbody>\n",
       "    <tr>\n",
       "      <th>count</th>\n",
       "      <td>41188.00000</td>\n",
       "      <td>41188.000000</td>\n",
       "      <td>41188.000000</td>\n",
       "      <td>41188.000000</td>\n",
       "      <td>41188.000000</td>\n",
       "      <td>41188.000000</td>\n",
       "      <td>41188.000000</td>\n",
       "      <td>41188.000000</td>\n",
       "      <td>41188.000000</td>\n",
       "      <td>41188.000000</td>\n",
       "      <td>41188.000000</td>\n",
       "    </tr>\n",
       "    <tr>\n",
       "      <th>mean</th>\n",
       "      <td>40.02406</td>\n",
       "      <td>258.285010</td>\n",
       "      <td>2.567593</td>\n",
       "      <td>962.475454</td>\n",
       "      <td>0.172963</td>\n",
       "      <td>0.081886</td>\n",
       "      <td>93.575664</td>\n",
       "      <td>-40.502600</td>\n",
       "      <td>3.621291</td>\n",
       "      <td>5167.035911</td>\n",
       "      <td>0.112654</td>\n",
       "    </tr>\n",
       "    <tr>\n",
       "      <th>std</th>\n",
       "      <td>10.42125</td>\n",
       "      <td>259.279249</td>\n",
       "      <td>2.770014</td>\n",
       "      <td>186.910907</td>\n",
       "      <td>0.494901</td>\n",
       "      <td>1.570960</td>\n",
       "      <td>0.578840</td>\n",
       "      <td>4.628198</td>\n",
       "      <td>1.734447</td>\n",
       "      <td>72.251528</td>\n",
       "      <td>0.316173</td>\n",
       "    </tr>\n",
       "    <tr>\n",
       "      <th>min</th>\n",
       "      <td>17.00000</td>\n",
       "      <td>0.000000</td>\n",
       "      <td>1.000000</td>\n",
       "      <td>0.000000</td>\n",
       "      <td>0.000000</td>\n",
       "      <td>-3.400000</td>\n",
       "      <td>92.201000</td>\n",
       "      <td>-50.800000</td>\n",
       "      <td>0.634000</td>\n",
       "      <td>4963.600000</td>\n",
       "      <td>0.000000</td>\n",
       "    </tr>\n",
       "    <tr>\n",
       "      <th>25%</th>\n",
       "      <td>32.00000</td>\n",
       "      <td>102.000000</td>\n",
       "      <td>1.000000</td>\n",
       "      <td>999.000000</td>\n",
       "      <td>0.000000</td>\n",
       "      <td>-1.800000</td>\n",
       "      <td>93.075000</td>\n",
       "      <td>-42.700000</td>\n",
       "      <td>1.344000</td>\n",
       "      <td>5099.100000</td>\n",
       "      <td>0.000000</td>\n",
       "    </tr>\n",
       "    <tr>\n",
       "      <th>50%</th>\n",
       "      <td>38.00000</td>\n",
       "      <td>180.000000</td>\n",
       "      <td>2.000000</td>\n",
       "      <td>999.000000</td>\n",
       "      <td>0.000000</td>\n",
       "      <td>1.100000</td>\n",
       "      <td>93.749000</td>\n",
       "      <td>-41.800000</td>\n",
       "      <td>4.857000</td>\n",
       "      <td>5191.000000</td>\n",
       "      <td>0.000000</td>\n",
       "    </tr>\n",
       "    <tr>\n",
       "      <th>75%</th>\n",
       "      <td>47.00000</td>\n",
       "      <td>319.000000</td>\n",
       "      <td>3.000000</td>\n",
       "      <td>999.000000</td>\n",
       "      <td>0.000000</td>\n",
       "      <td>1.400000</td>\n",
       "      <td>93.994000</td>\n",
       "      <td>-36.400000</td>\n",
       "      <td>4.961000</td>\n",
       "      <td>5228.100000</td>\n",
       "      <td>0.000000</td>\n",
       "    </tr>\n",
       "    <tr>\n",
       "      <th>max</th>\n",
       "      <td>98.00000</td>\n",
       "      <td>4918.000000</td>\n",
       "      <td>56.000000</td>\n",
       "      <td>999.000000</td>\n",
       "      <td>7.000000</td>\n",
       "      <td>1.400000</td>\n",
       "      <td>94.767000</td>\n",
       "      <td>-26.900000</td>\n",
       "      <td>5.045000</td>\n",
       "      <td>5228.100000</td>\n",
       "      <td>1.000000</td>\n",
       "    </tr>\n",
       "  </tbody>\n",
       "</table>\n",
       "</div>"
      ],
      "text/plain": [
       "               age      duration      campaign         pdays      previous  \\\n",
       "count  41188.00000  41188.000000  41188.000000  41188.000000  41188.000000   \n",
       "mean      40.02406    258.285010      2.567593    962.475454      0.172963   \n",
       "std       10.42125    259.279249      2.770014    186.910907      0.494901   \n",
       "min       17.00000      0.000000      1.000000      0.000000      0.000000   \n",
       "25%       32.00000    102.000000      1.000000    999.000000      0.000000   \n",
       "50%       38.00000    180.000000      2.000000    999.000000      0.000000   \n",
       "75%       47.00000    319.000000      3.000000    999.000000      0.000000   \n",
       "max       98.00000   4918.000000     56.000000    999.000000      7.000000   \n",
       "\n",
       "       emp_var_rate  cons_price_idx  cons_conf_idx     euribor3m  \\\n",
       "count  41188.000000    41188.000000   41188.000000  41188.000000   \n",
       "mean       0.081886       93.575664     -40.502600      3.621291   \n",
       "std        1.570960        0.578840       4.628198      1.734447   \n",
       "min       -3.400000       92.201000     -50.800000      0.634000   \n",
       "25%       -1.800000       93.075000     -42.700000      1.344000   \n",
       "50%        1.100000       93.749000     -41.800000      4.857000   \n",
       "75%        1.400000       93.994000     -36.400000      4.961000   \n",
       "max        1.400000       94.767000     -26.900000      5.045000   \n",
       "\n",
       "        nr_employed             y  \n",
       "count  41188.000000  41188.000000  \n",
       "mean    5167.035911      0.112654  \n",
       "std       72.251528      0.316173  \n",
       "min     4963.600000      0.000000  \n",
       "25%     5099.100000      0.000000  \n",
       "50%     5191.000000      0.000000  \n",
       "75%     5228.100000      0.000000  \n",
       "max     5228.100000      1.000000  "
      ]
     },
     "execution_count": 10,
     "metadata": {},
     "output_type": "execute_result"
    }
   ],
   "source": [
    "df1.describe()"
   ]
  },
  {
   "cell_type": "markdown",
   "id": "8de717b7",
   "metadata": {},
   "source": [
    "- The above output displays the summary statistics of all the numeric variables like mean, median, standard deviation, minimum, and the maximum values, the first and third quantiles.\n",
    "\n",
    "- We can see that the age ranges from 17 to 98, with mean 40.02."
   ]
  },
  {
   "cell_type": "markdown",
   "id": "f0e45e87",
   "metadata": {},
   "source": [
    "<b> 2. For getting the statistical summary of categorical features we use the describe(include = object)"
   ]
  },
  {
   "cell_type": "code",
   "execution_count": 11,
   "id": "815c6e8b",
   "metadata": {},
   "outputs": [
    {
     "data": {
      "text/html": [
       "<div>\n",
       "<style scoped>\n",
       "    .dataframe tbody tr th:only-of-type {\n",
       "        vertical-align: middle;\n",
       "    }\n",
       "\n",
       "    .dataframe tbody tr th {\n",
       "        vertical-align: top;\n",
       "    }\n",
       "\n",
       "    .dataframe thead th {\n",
       "        text-align: right;\n",
       "    }\n",
       "</style>\n",
       "<table border=\"1\" class=\"dataframe\">\n",
       "  <thead>\n",
       "    <tr style=\"text-align: right;\">\n",
       "      <th></th>\n",
       "      <th>job</th>\n",
       "      <th>marital</th>\n",
       "      <th>education</th>\n",
       "      <th>default</th>\n",
       "      <th>housing</th>\n",
       "      <th>loan</th>\n",
       "      <th>contact</th>\n",
       "      <th>month</th>\n",
       "      <th>day_of_week</th>\n",
       "      <th>poutcome</th>\n",
       "    </tr>\n",
       "  </thead>\n",
       "  <tbody>\n",
       "    <tr>\n",
       "      <th>count</th>\n",
       "      <td>41188</td>\n",
       "      <td>41188</td>\n",
       "      <td>41188</td>\n",
       "      <td>41188</td>\n",
       "      <td>41188</td>\n",
       "      <td>41188</td>\n",
       "      <td>41188</td>\n",
       "      <td>41188</td>\n",
       "      <td>41188</td>\n",
       "      <td>41188</td>\n",
       "    </tr>\n",
       "    <tr>\n",
       "      <th>unique</th>\n",
       "      <td>12</td>\n",
       "      <td>4</td>\n",
       "      <td>8</td>\n",
       "      <td>3</td>\n",
       "      <td>3</td>\n",
       "      <td>3</td>\n",
       "      <td>2</td>\n",
       "      <td>10</td>\n",
       "      <td>5</td>\n",
       "      <td>3</td>\n",
       "    </tr>\n",
       "    <tr>\n",
       "      <th>top</th>\n",
       "      <td>admin.</td>\n",
       "      <td>married</td>\n",
       "      <td>university.degree</td>\n",
       "      <td>no</td>\n",
       "      <td>yes</td>\n",
       "      <td>no</td>\n",
       "      <td>cellular</td>\n",
       "      <td>may</td>\n",
       "      <td>thu</td>\n",
       "      <td>nonexistent</td>\n",
       "    </tr>\n",
       "    <tr>\n",
       "      <th>freq</th>\n",
       "      <td>10422</td>\n",
       "      <td>24928</td>\n",
       "      <td>12168</td>\n",
       "      <td>32588</td>\n",
       "      <td>21576</td>\n",
       "      <td>33950</td>\n",
       "      <td>26144</td>\n",
       "      <td>13769</td>\n",
       "      <td>8623</td>\n",
       "      <td>35563</td>\n",
       "    </tr>\n",
       "  </tbody>\n",
       "</table>\n",
       "</div>"
      ],
      "text/plain": [
       "           job  marital          education default housing   loan   contact  \\\n",
       "count    41188    41188              41188   41188   41188  41188     41188   \n",
       "unique      12        4                  8       3       3      3         2   \n",
       "top     admin.  married  university.degree      no     yes     no  cellular   \n",
       "freq     10422    24928              12168   32588   21576  33950     26144   \n",
       "\n",
       "        month day_of_week     poutcome  \n",
       "count   41188       41188        41188  \n",
       "unique     10           5            3  \n",
       "top       may         thu  nonexistent  \n",
       "freq    13769        8623        35563  "
      ]
     },
     "execution_count": 11,
     "metadata": {},
     "output_type": "execute_result"
    }
   ],
   "source": [
    "df1.describe(include=object)"
   ]
  },
  {
   "cell_type": "markdown",
   "id": "5256cdc4",
   "metadata": {},
   "source": [
    "- The summary statistics for categorical variables contains information about the total number of observations, number of unique classes, the most occurring class, and its frequency.\n",
    "\n",
    "- Lets understand the outputs of the above table using variable <b>'job'<br></b>\n",
    "count: Number of observations = 41188<br>\n",
    "unique: Number of unique classes in the column = 12 classes<br>\n",
    "top: The most occurring class = admin<br>\n",
    "frequency: Frequency of the most repeated class; out of 41188 observations Reg has a frequency of 10422<br>\n"
   ]
  },
  {
   "cell_type": "markdown",
   "id": "632de251",
   "metadata": {},
   "source": [
    "### Checking For Null Values & Duplicates"
   ]
  },
  {
   "cell_type": "code",
   "execution_count": 12,
   "id": "9a794aaa",
   "metadata": {},
   "outputs": [
    {
     "data": {
      "text/plain": [
       "age               0\n",
       "job               0\n",
       "marital           0\n",
       "education         0\n",
       "default           0\n",
       "housing           0\n",
       "loan              0\n",
       "contact           0\n",
       "month             0\n",
       "day_of_week       0\n",
       "duration          0\n",
       "campaign          0\n",
       "pdays             0\n",
       "previous          0\n",
       "poutcome          0\n",
       "emp_var_rate      0\n",
       "cons_price_idx    0\n",
       "cons_conf_idx     0\n",
       "euribor3m         0\n",
       "nr_employed       0\n",
       "y                 0\n",
       "dtype: int64"
      ]
     },
     "execution_count": 12,
     "metadata": {},
     "output_type": "execute_result"
    }
   ],
   "source": [
    "df1.isnull().sum()"
   ]
  },
  {
   "cell_type": "code",
   "execution_count": 13,
   "id": "fb19bc9b",
   "metadata": {},
   "outputs": [
    {
     "data": {
      "text/plain": [
       "12"
      ]
     },
     "execution_count": 13,
     "metadata": {},
     "output_type": "execute_result"
    }
   ],
   "source": [
    "df1.duplicated().sum()"
   ]
  },
  {
   "cell_type": "code",
   "execution_count": 14,
   "id": "a481c051",
   "metadata": {},
   "outputs": [],
   "source": [
    "df1.drop_duplicates(inplace=True)"
   ]
  },
  {
   "cell_type": "code",
   "execution_count": 15,
   "id": "0a558880",
   "metadata": {},
   "outputs": [
    {
     "data": {
      "text/plain": [
       "(41176, 21)"
      ]
     },
     "execution_count": 15,
     "metadata": {},
     "output_type": "execute_result"
    }
   ],
   "source": [
    "df1.shape"
   ]
  },
  {
   "cell_type": "markdown",
   "id": "80b5833a",
   "metadata": {},
   "source": [
    "### Univariate Data Analysis"
   ]
  },
  {
   "cell_type": "code",
   "execution_count": 16,
   "id": "5e83dff2",
   "metadata": {},
   "outputs": [
    {
     "name": "stdout",
     "output_type": "stream",
     "text": [
      "\n",
      "age\n",
      "31    1947\n",
      "32    1845\n",
      "33    1833\n",
      "36    1779\n",
      "35    1758\n",
      "      ... \n",
      "91       2\n",
      "89       2\n",
      "94       1\n",
      "87       1\n",
      "95       1\n",
      "Name: age, Length: 78, dtype: int64\n",
      "\n",
      "job\n",
      "admin.           10419\n",
      "blue-collar       9253\n",
      "technician        6739\n",
      "services          3967\n",
      "management        2924\n",
      "retired           1718\n",
      "entrepreneur      1456\n",
      "self-employed     1421\n",
      "housemaid         1060\n",
      "unemployed        1014\n",
      "student            875\n",
      "unknown            330\n",
      "Name: job, dtype: int64\n",
      "\n",
      "marital\n",
      "married     24921\n",
      "single      11564\n",
      "divorced     4611\n",
      "unknown        80\n",
      "Name: marital, dtype: int64\n",
      "\n",
      "education\n",
      "university.degree      12164\n",
      "high.school             9512\n",
      "basic.9y                6045\n",
      "professional.course     5240\n",
      "basic.4y                4176\n",
      "basic.6y                2291\n",
      "unknown                 1730\n",
      "illiterate                18\n",
      "Name: education, dtype: int64\n",
      "\n",
      "default\n",
      "no         32577\n",
      "unknown     8596\n",
      "yes            3\n",
      "Name: default, dtype: int64\n",
      "\n",
      "housing\n",
      "yes        21571\n",
      "no         18615\n",
      "unknown      990\n",
      "Name: housing, dtype: int64\n",
      "\n",
      "loan\n",
      "no         33938\n",
      "yes         6248\n",
      "unknown      990\n",
      "Name: loan, dtype: int64\n",
      "\n",
      "contact\n",
      "cellular     26135\n",
      "telephone    15041\n",
      "Name: contact, dtype: int64\n",
      "\n",
      "month\n",
      "may    13767\n",
      "jul     7169\n",
      "aug     6176\n",
      "jun     5318\n",
      "nov     4100\n",
      "apr     2631\n",
      "oct      717\n",
      "sep      570\n",
      "mar      546\n",
      "dec      182\n",
      "Name: month, dtype: int64\n",
      "\n",
      "day_of_week\n",
      "thu    8618\n",
      "mon    8512\n",
      "wed    8134\n",
      "tue    8086\n",
      "fri    7826\n",
      "Name: day_of_week, dtype: int64\n",
      "\n",
      "duration\n",
      "90      170\n",
      "85      170\n",
      "136     168\n",
      "73      167\n",
      "124     163\n",
      "       ... \n",
      "1788      1\n",
      "3422      1\n",
      "1488      1\n",
      "1306      1\n",
      "1490      1\n",
      "Name: duration, Length: 1544, dtype: int64\n",
      "\n",
      "campaign\n",
      "1     17634\n",
      "2     10568\n",
      "3      5340\n",
      "4      2650\n",
      "5      1599\n",
      "6       979\n",
      "7       629\n",
      "8       400\n",
      "9       283\n",
      "10      225\n",
      "11      177\n",
      "12      125\n",
      "13       92\n",
      "14       69\n",
      "17       58\n",
      "15       51\n",
      "16       51\n",
      "18       33\n",
      "20       30\n",
      "19       26\n",
      "21       24\n",
      "22       17\n",
      "23       16\n",
      "24       15\n",
      "27       11\n",
      "29       10\n",
      "28        8\n",
      "25        8\n",
      "26        8\n",
      "31        7\n",
      "30        7\n",
      "35        5\n",
      "33        4\n",
      "32        4\n",
      "34        3\n",
      "42        2\n",
      "43        2\n",
      "40        2\n",
      "39        1\n",
      "41        1\n",
      "56        1\n",
      "37        1\n",
      "Name: campaign, dtype: int64\n",
      "\n",
      "pdays\n",
      "999    39661\n",
      "3        439\n",
      "6        412\n",
      "4        118\n",
      "9         64\n",
      "2         61\n",
      "7         60\n",
      "12        58\n",
      "10        52\n",
      "5         46\n",
      "13        36\n",
      "11        28\n",
      "1         26\n",
      "15        24\n",
      "14        20\n",
      "8         18\n",
      "0         15\n",
      "16        11\n",
      "17         8\n",
      "18         7\n",
      "19         3\n",
      "22         3\n",
      "21         2\n",
      "26         1\n",
      "20         1\n",
      "25         1\n",
      "27         1\n",
      "Name: pdays, dtype: int64\n",
      "\n",
      "previous\n",
      "0    35551\n",
      "1     4561\n",
      "2      754\n",
      "3      216\n",
      "4       70\n",
      "5       18\n",
      "6        5\n",
      "7        1\n",
      "Name: previous, dtype: int64\n",
      "\n",
      "poutcome\n",
      "nonexistent    35551\n",
      "failure         4252\n",
      "success         1373\n",
      "Name: poutcome, dtype: int64\n",
      "\n",
      "emp_var_rate\n",
      " 1.4    16228\n",
      "-1.8     9182\n",
      " 1.1     7762\n",
      "-0.1     3682\n",
      "-2.9     1662\n",
      "-3.4     1070\n",
      "-1.7      773\n",
      "-1.1      635\n",
      "-3.0      172\n",
      "-0.2       10\n",
      "Name: emp_var_rate, dtype: int64\n",
      "\n",
      "cons_price_idx\n",
      "93.994    7762\n",
      "93.918    6681\n",
      "92.893    5793\n",
      "93.444    5173\n",
      "94.465    4374\n",
      "93.200    3615\n",
      "93.075    2457\n",
      "92.201     770\n",
      "92.963     715\n",
      "92.431     446\n",
      "92.649     357\n",
      "94.215     311\n",
      "94.199     303\n",
      "92.843     282\n",
      "92.379     267\n",
      "93.369     264\n",
      "94.027     233\n",
      "94.055     229\n",
      "93.876     212\n",
      "94.601     204\n",
      "92.469     177\n",
      "93.749     174\n",
      "92.713     172\n",
      "94.767     128\n",
      "93.798      67\n",
      "92.756      10\n",
      "Name: cons_price_idx, dtype: int64\n",
      "\n",
      "cons_conf_idx\n",
      "-36.4    7762\n",
      "-42.7    6681\n",
      "-46.2    5793\n",
      "-36.1    5173\n",
      "-41.8    4374\n",
      "-42.0    3615\n",
      "-47.1    2457\n",
      "-31.4     770\n",
      "-40.8     715\n",
      "-26.9     446\n",
      "-30.1     357\n",
      "-40.3     311\n",
      "-37.5     303\n",
      "-50.0     282\n",
      "-29.8     267\n",
      "-34.8     264\n",
      "-38.3     233\n",
      "-39.8     229\n",
      "-40.0     212\n",
      "-49.5     204\n",
      "-33.6     177\n",
      "-34.6     174\n",
      "-33.0     172\n",
      "-50.8     128\n",
      "-40.4      67\n",
      "-45.9      10\n",
      "Name: cons_conf_idx, dtype: int64\n",
      "\n",
      "euribor3m\n",
      "4.857    2868\n",
      "4.962    2611\n",
      "4.963    2487\n",
      "4.961    1902\n",
      "4.856    1210\n",
      "         ... \n",
      "3.743       1\n",
      "3.901       1\n",
      "3.853       1\n",
      "0.969       1\n",
      "3.282       1\n",
      "Name: euribor3m, Length: 316, dtype: int64\n",
      "\n",
      "nr_employed\n",
      "5228.1    16228\n",
      "5099.1     8532\n",
      "5191.0     7762\n",
      "5195.8     3682\n",
      "5076.2     1662\n",
      "5017.5     1070\n",
      "4991.6      773\n",
      "5008.7      650\n",
      "4963.6      635\n",
      "5023.5      172\n",
      "5176.3       10\n",
      "Name: nr_employed, dtype: int64\n",
      "\n",
      "y\n",
      "0    36537\n",
      "1     4639\n",
      "Name: y, dtype: int64\n"
     ]
    }
   ],
   "source": [
    "for column in df1.columns:\n",
    "     print(\"\\n\" + column)\n",
    "     print(df1[column].value_counts())"
   ]
  },
  {
   "cell_type": "markdown",
   "id": "f28ad0f5",
   "metadata": {},
   "source": [
    "#### Numerical Columns"
   ]
  },
  {
   "cell_type": "code",
   "execution_count": 17,
   "id": "9d0315bf",
   "metadata": {},
   "outputs": [],
   "source": [
    "df1_numerical= df1.select_dtypes(include='number')"
   ]
  },
  {
   "cell_type": "code",
   "execution_count": 18,
   "id": "b2073439",
   "metadata": {},
   "outputs": [
    {
     "data": {
      "image/png": "[encoded data removed]",
      "text/plain": [
       "<Figure size 1440x1440 with 12 Axes>"
      ]
     },
     "metadata": {
      "needs_background": "light"
     },
     "output_type": "display_data"
    }
   ],
   "source": [
    "a=df1_numerical.hist(figsize=(20,20))"
   ]
  },
  {
   "cell_type": "markdown",
   "id": "1fdc346a",
   "metadata": {},
   "source": [
    "#### Categorical Columns"
   ]
  },
  {
   "cell_type": "code",
   "execution_count": 19,
   "id": "94a08f62",
   "metadata": {},
   "outputs": [],
   "source": [
    "df1_categorical= df1.select_dtypes(exclude='number')"
   ]
  },
  {
   "cell_type": "code",
   "execution_count": 20,
   "id": "b2ea7ffd",
   "metadata": {},
   "outputs": [
    {
     "data": {
      "image/png": "[encoded data removed]",
      "text/plain": [
       "<Figure size 5040x5760 with 10 Axes>"
      ]
     },
     "metadata": {
      "needs_background": "light"
     },
     "output_type": "display_data"
    }
   ],
   "source": [
    "fig, ax = plt.subplots(nrows=5, ncols=2, figsize = (70, 80))\n",
    "\n",
    "# plot the count plot using countplot() for each categorical variable\n",
    "for variable, subplot in zip(df1_categorical, ax.flatten()):\n",
    "    sns.countplot(df1_categorical[variable], ax = subplot)"
   ]
  },
  {
   "cell_type": "markdown",
   "id": "c1b1d483",
   "metadata": {},
   "source": [
    "#### Understanding the target variable"
   ]
  },
  {
   "cell_type": "code",
   "execution_count": 21,
   "id": "e4361beb",
   "metadata": {},
   "outputs": [
    {
     "data": {
      "text/plain": [
       "0    36537\n",
       "1     4639\n",
       "Name: y, dtype: int64"
      ]
     },
     "execution_count": 21,
     "metadata": {},
     "output_type": "execute_result"
    }
   ],
   "source": [
    "df1['y'].value_counts()"
   ]
  },
  {
   "cell_type": "code",
   "execution_count": 22,
   "id": "8eabe63f",
   "metadata": {},
   "outputs": [
    {
     "data": {
      "image/png": "[encoded data removed]",
      "text/plain": [
       "<Figure size 432x288 with 1 Axes>"
      ]
     },
     "metadata": {
      "needs_background": "light"
     },
     "output_type": "display_data"
    }
   ],
   "source": [
    "sns.countplot(x=df1['y'])\n",
    "plt.show()"
   ]
  },
  {
   "cell_type": "markdown",
   "id": "f4bea2dc",
   "metadata": {},
   "source": [
    "### Bi-variate Analysis"
   ]
  },
  {
   "cell_type": "code",
   "execution_count": 23,
   "id": "7d90cabb",
   "metadata": {},
   "outputs": [
    {
     "name": "stdout",
     "output_type": "stream",
     "text": [
      "['job', 'marital', 'education', 'default', 'housing', 'loan', 'contact', 'month', 'day_of_week', 'poutcome']\n"
     ]
    }
   ],
   "source": [
    "df1_cat = [i for i in df1.columns if df1[i].dtypes=='object']\n",
    "print(df1_cat)"
   ]
  },
  {
   "cell_type": "code",
   "execution_count": 24,
   "id": "ec0137dc",
   "metadata": {},
   "outputs": [
    {
     "data": {
      "text/html": [
       "<div>\n",
       "<style scoped>\n",
       "    .dataframe tbody tr th:only-of-type {\n",
       "        vertical-align: middle;\n",
       "    }\n",
       "\n",
       "    .dataframe tbody tr th {\n",
       "        vertical-align: top;\n",
       "    }\n",
       "\n",
       "    .dataframe thead th {\n",
       "        text-align: right;\n",
       "    }\n",
       "</style>\n",
       "<table border=\"1\" class=\"dataframe\">\n",
       "  <thead>\n",
       "    <tr style=\"text-align: right;\">\n",
       "      <th></th>\n",
       "      <th>job</th>\n",
       "      <th>marital</th>\n",
       "      <th>education</th>\n",
       "      <th>default</th>\n",
       "      <th>housing</th>\n",
       "      <th>loan</th>\n",
       "      <th>contact</th>\n",
       "      <th>month</th>\n",
       "      <th>day_of_week</th>\n",
       "      <th>poutcome</th>\n",
       "    </tr>\n",
       "  </thead>\n",
       "  <tbody>\n",
       "    <tr>\n",
       "      <th>0</th>\n",
       "      <td>blue-collar</td>\n",
       "      <td>married</td>\n",
       "      <td>basic.4y</td>\n",
       "      <td>unknown</td>\n",
       "      <td>yes</td>\n",
       "      <td>no</td>\n",
       "      <td>cellular</td>\n",
       "      <td>aug</td>\n",
       "      <td>thu</td>\n",
       "      <td>nonexistent</td>\n",
       "    </tr>\n",
       "    <tr>\n",
       "      <th>1</th>\n",
       "      <td>technician</td>\n",
       "      <td>married</td>\n",
       "      <td>unknown</td>\n",
       "      <td>no</td>\n",
       "      <td>no</td>\n",
       "      <td>no</td>\n",
       "      <td>cellular</td>\n",
       "      <td>nov</td>\n",
       "      <td>fri</td>\n",
       "      <td>nonexistent</td>\n",
       "    </tr>\n",
       "    <tr>\n",
       "      <th>2</th>\n",
       "      <td>management</td>\n",
       "      <td>single</td>\n",
       "      <td>university.degree</td>\n",
       "      <td>no</td>\n",
       "      <td>yes</td>\n",
       "      <td>no</td>\n",
       "      <td>cellular</td>\n",
       "      <td>jun</td>\n",
       "      <td>thu</td>\n",
       "      <td>success</td>\n",
       "    </tr>\n",
       "    <tr>\n",
       "      <th>3</th>\n",
       "      <td>services</td>\n",
       "      <td>married</td>\n",
       "      <td>high.school</td>\n",
       "      <td>no</td>\n",
       "      <td>no</td>\n",
       "      <td>no</td>\n",
       "      <td>cellular</td>\n",
       "      <td>apr</td>\n",
       "      <td>fri</td>\n",
       "      <td>nonexistent</td>\n",
       "    </tr>\n",
       "    <tr>\n",
       "      <th>4</th>\n",
       "      <td>retired</td>\n",
       "      <td>married</td>\n",
       "      <td>basic.4y</td>\n",
       "      <td>no</td>\n",
       "      <td>yes</td>\n",
       "      <td>no</td>\n",
       "      <td>cellular</td>\n",
       "      <td>aug</td>\n",
       "      <td>fri</td>\n",
       "      <td>success</td>\n",
       "    </tr>\n",
       "  </tbody>\n",
       "</table>\n",
       "</div>"
      ],
      "text/plain": [
       "           job  marital          education  default housing loan   contact  \\\n",
       "0  blue-collar  married           basic.4y  unknown     yes   no  cellular   \n",
       "1   technician  married            unknown       no      no   no  cellular   \n",
       "2   management   single  university.degree       no     yes   no  cellular   \n",
       "3     services  married        high.school       no      no   no  cellular   \n",
       "4      retired  married           basic.4y       no     yes   no  cellular   \n",
       "\n",
       "  month day_of_week     poutcome  \n",
       "0   aug         thu  nonexistent  \n",
       "1   nov         fri  nonexistent  \n",
       "2   jun         thu      success  \n",
       "3   apr         fri  nonexistent  \n",
       "4   aug         fri      success  "
      ]
     },
     "execution_count": 24,
     "metadata": {},
     "output_type": "execute_result"
    }
   ],
   "source": [
    "df1[df1_cat].head()"
   ]
  },
  {
   "cell_type": "code",
   "execution_count": 25,
   "id": "80e90997",
   "metadata": {
    "scrolled": false
   },
   "outputs": [
    {
     "data": {
      "image/png": "[encoded data removed]",
      "text/plain": [
       "<Figure size 432x288 with 1 Axes>"
      ]
     },
     "metadata": {
      "needs_background": "light"
     },
     "output_type": "display_data"
    },
    {
     "data": {
      "image/png": "[encoded data removed]",
      "text/plain": [
       "<Figure size 432x288 with 1 Axes>"
      ]
     },
     "metadata": {
      "needs_background": "light"
     },
     "output_type": "display_data"
    },
    {
     "data": {
      "image/png": "[encoded data removed]",
      "text/plain": [
       "<Figure size 432x288 with 1 Axes>"
      ]
     },
     "metadata": {
      "needs_background": "light"
     },
     "output_type": "display_data"
    },
    {
     "data": {
      "image/png": "[encoded data removed]",
      "text/plain": [
       "<Figure size 432x288 with 1 Axes>"
      ]
     },
     "metadata": {
      "needs_background": "light"
     },
     "output_type": "display_data"
    },
    {
     "data": {
      "image/png": "[encoded data removed]",
      "text/plain": [
       "<Figure size 432x288 with 1 Axes>"
      ]
     },
     "metadata": {
      "needs_background": "light"
     },
     "output_type": "display_data"
    },
    {
     "data": {
      "image/png": "[encoded data removed]",
      "text/plain": [
       "<Figure size 432x288 with 1 Axes>"
      ]
     },
     "metadata": {
      "needs_background": "light"
     },
     "output_type": "display_data"
    },
    {
     "data": {
      "image/png": "[encoded data removed]",
      "text/plain": [
       "<Figure size 432x288 with 1 Axes>"
      ]
     },
     "metadata": {
      "needs_background": "light"
     },
     "output_type": "display_data"
    },
    {
     "data": {
      "image/png": "[encoded data removed]",
      "text/plain": [
       "<Figure size 432x288 with 1 Axes>"
      ]
     },
     "metadata": {
      "needs_background": "light"
     },
     "output_type": "display_data"
    },
    {
     "data": {
      "image/png": "[encoded data removed]",
      "text/plain": [
       "<Figure size 432x288 with 1 Axes>"
      ]
     },
     "metadata": {
      "needs_background": "light"
     },
     "output_type": "display_data"
    },
    {
     "data": {
      "image/png": "[encoded data removed]",
      "text/plain": [
       "<Figure size 432x288 with 1 Axes>"
      ]
     },
     "metadata": {
      "needs_background": "light"
     },
     "output_type": "display_data"
    }
   ],
   "source": [
    "for i in df1_cat:\n",
    "    sns.countplot(x = df1[i], hue=df1['y'])\n",
    "    plt.xticks(rotation=90)\n",
    "    plt.show()"
   ]
  },
  {
   "cell_type": "markdown",
   "id": "9a0f8c4d",
   "metadata": {},
   "source": [
    "### Encode Categorical Variables\n",
    "We need to perform label encoding on our categorical variables before we proceed further."
   ]
  },
  {
   "cell_type": "code",
   "execution_count": 26,
   "id": "0e8f697b",
   "metadata": {},
   "outputs": [],
   "source": [
    "from sklearn.preprocessing import LabelEncoder"
   ]
  },
  {
   "cell_type": "code",
   "execution_count": 27,
   "id": "7e5f9832",
   "metadata": {},
   "outputs": [],
   "source": [
    "lb = LabelEncoder()\n",
    "for i in df1_cat:\n",
    "    df1[i] = lb.fit_transform(df1[i])"
   ]
  },
  {
   "cell_type": "code",
   "execution_count": 28,
   "id": "0425d0e3",
   "metadata": {},
   "outputs": [
    {
     "data": {
      "text/plain": [
       "int64      16\n",
       "float64     5\n",
       "dtype: int64"
      ]
     },
     "execution_count": 28,
     "metadata": {},
     "output_type": "execute_result"
    }
   ],
   "source": [
    "df1.dtypes.value_counts()"
   ]
  },
  {
   "cell_type": "markdown",
   "id": "9f362d54",
   "metadata": {},
   "source": [
    "### Outlier Treatment"
   ]
  },
  {
   "cell_type": "code",
   "execution_count": 29,
   "id": "a7e026c8",
   "metadata": {},
   "outputs": [
    {
     "data": {
      "text/html": [
       "<div>\n",
       "<style scoped>\n",
       "    .dataframe tbody tr th:only-of-type {\n",
       "        vertical-align: middle;\n",
       "    }\n",
       "\n",
       "    .dataframe tbody tr th {\n",
       "        vertical-align: top;\n",
       "    }\n",
       "\n",
       "    .dataframe thead th {\n",
       "        text-align: right;\n",
       "    }\n",
       "</style>\n",
       "<table border=\"1\" class=\"dataframe\">\n",
       "  <thead>\n",
       "    <tr style=\"text-align: right;\">\n",
       "      <th></th>\n",
       "      <th>count</th>\n",
       "      <th>mean</th>\n",
       "      <th>std</th>\n",
       "      <th>min</th>\n",
       "      <th>10%</th>\n",
       "      <th>20%</th>\n",
       "      <th>30%</th>\n",
       "      <th>50%</th>\n",
       "      <th>95%</th>\n",
       "      <th>97%</th>\n",
       "      <th>98%</th>\n",
       "      <th>99%</th>\n",
       "      <th>max</th>\n",
       "    </tr>\n",
       "  </thead>\n",
       "  <tbody>\n",
       "    <tr>\n",
       "      <th>age</th>\n",
       "      <td>41176.0</td>\n",
       "      <td>40.023800</td>\n",
       "      <td>10.420680</td>\n",
       "      <td>17.000</td>\n",
       "      <td>28.000</td>\n",
       "      <td>31.000</td>\n",
       "      <td>33.00</td>\n",
       "      <td>38.000</td>\n",
       "      <td>58.000</td>\n",
       "      <td>59.000</td>\n",
       "      <td>62.000</td>\n",
       "      <td>71.000</td>\n",
       "      <td>98.000</td>\n",
       "    </tr>\n",
       "    <tr>\n",
       "      <th>job</th>\n",
       "      <td>41176.0</td>\n",
       "      <td>3.724184</td>\n",
       "      <td>3.594459</td>\n",
       "      <td>0.000</td>\n",
       "      <td>0.000</td>\n",
       "      <td>0.000</td>\n",
       "      <td>1.00</td>\n",
       "      <td>2.000</td>\n",
       "      <td>9.000</td>\n",
       "      <td>10.000</td>\n",
       "      <td>10.000</td>\n",
       "      <td>10.000</td>\n",
       "      <td>11.000</td>\n",
       "    </tr>\n",
       "    <tr>\n",
       "      <th>marital</th>\n",
       "      <td>41176.0</td>\n",
       "      <td>1.172746</td>\n",
       "      <td>0.608905</td>\n",
       "      <td>0.000</td>\n",
       "      <td>0.000</td>\n",
       "      <td>1.000</td>\n",
       "      <td>1.00</td>\n",
       "      <td>1.000</td>\n",
       "      <td>2.000</td>\n",
       "      <td>2.000</td>\n",
       "      <td>2.000</td>\n",
       "      <td>2.000</td>\n",
       "      <td>3.000</td>\n",
       "    </tr>\n",
       "    <tr>\n",
       "      <th>education</th>\n",
       "      <td>41176.0</td>\n",
       "      <td>3.746916</td>\n",
       "      <td>2.136539</td>\n",
       "      <td>0.000</td>\n",
       "      <td>0.000</td>\n",
       "      <td>2.000</td>\n",
       "      <td>2.00</td>\n",
       "      <td>3.000</td>\n",
       "      <td>6.000</td>\n",
       "      <td>7.000</td>\n",
       "      <td>7.000</td>\n",
       "      <td>7.000</td>\n",
       "      <td>7.000</td>\n",
       "    </tr>\n",
       "    <tr>\n",
       "      <th>default</th>\n",
       "      <td>41176.0</td>\n",
       "      <td>0.208908</td>\n",
       "      <td>0.406713</td>\n",
       "      <td>0.000</td>\n",
       "      <td>0.000</td>\n",
       "      <td>0.000</td>\n",
       "      <td>0.00</td>\n",
       "      <td>0.000</td>\n",
       "      <td>1.000</td>\n",
       "      <td>1.000</td>\n",
       "      <td>1.000</td>\n",
       "      <td>1.000</td>\n",
       "      <td>2.000</td>\n",
       "    </tr>\n",
       "    <tr>\n",
       "      <th>housing</th>\n",
       "      <td>41176.0</td>\n",
       "      <td>1.071789</td>\n",
       "      <td>0.985305</td>\n",
       "      <td>0.000</td>\n",
       "      <td>0.000</td>\n",
       "      <td>0.000</td>\n",
       "      <td>0.00</td>\n",
       "      <td>2.000</td>\n",
       "      <td>2.000</td>\n",
       "      <td>2.000</td>\n",
       "      <td>2.000</td>\n",
       "      <td>2.000</td>\n",
       "      <td>2.000</td>\n",
       "    </tr>\n",
       "    <tr>\n",
       "      <th>loan</th>\n",
       "      <td>41176.0</td>\n",
       "      <td>0.327521</td>\n",
       "      <td>0.723700</td>\n",
       "      <td>0.000</td>\n",
       "      <td>0.000</td>\n",
       "      <td>0.000</td>\n",
       "      <td>0.00</td>\n",
       "      <td>0.000</td>\n",
       "      <td>2.000</td>\n",
       "      <td>2.000</td>\n",
       "      <td>2.000</td>\n",
       "      <td>2.000</td>\n",
       "      <td>2.000</td>\n",
       "    </tr>\n",
       "    <tr>\n",
       "      <th>contact</th>\n",
       "      <td>41176.0</td>\n",
       "      <td>0.365286</td>\n",
       "      <td>0.481516</td>\n",
       "      <td>0.000</td>\n",
       "      <td>0.000</td>\n",
       "      <td>0.000</td>\n",
       "      <td>0.00</td>\n",
       "      <td>0.000</td>\n",
       "      <td>1.000</td>\n",
       "      <td>1.000</td>\n",
       "      <td>1.000</td>\n",
       "      <td>1.000</td>\n",
       "      <td>1.000</td>\n",
       "    </tr>\n",
       "    <tr>\n",
       "      <th>month</th>\n",
       "      <td>41176.0</td>\n",
       "      <td>4.231033</td>\n",
       "      <td>2.319973</td>\n",
       "      <td>0.000</td>\n",
       "      <td>1.000</td>\n",
       "      <td>1.000</td>\n",
       "      <td>3.00</td>\n",
       "      <td>4.000</td>\n",
       "      <td>7.000</td>\n",
       "      <td>8.000</td>\n",
       "      <td>8.000</td>\n",
       "      <td>9.000</td>\n",
       "      <td>9.000</td>\n",
       "    </tr>\n",
       "    <tr>\n",
       "      <th>day_of_week</th>\n",
       "      <td>41176.0</td>\n",
       "      <td>2.004614</td>\n",
       "      <td>1.397692</td>\n",
       "      <td>0.000</td>\n",
       "      <td>0.000</td>\n",
       "      <td>1.000</td>\n",
       "      <td>1.00</td>\n",
       "      <td>2.000</td>\n",
       "      <td>4.000</td>\n",
       "      <td>4.000</td>\n",
       "      <td>4.000</td>\n",
       "      <td>4.000</td>\n",
       "      <td>4.000</td>\n",
       "    </tr>\n",
       "    <tr>\n",
       "      <th>duration</th>\n",
       "      <td>41176.0</td>\n",
       "      <td>258.315815</td>\n",
       "      <td>259.305321</td>\n",
       "      <td>0.000</td>\n",
       "      <td>59.000</td>\n",
       "      <td>89.000</td>\n",
       "      <td>116.00</td>\n",
       "      <td>180.000</td>\n",
       "      <td>753.000</td>\n",
       "      <td>911.000</td>\n",
       "      <td>1052.500</td>\n",
       "      <td>1271.250</td>\n",
       "      <td>4918.000</td>\n",
       "    </tr>\n",
       "    <tr>\n",
       "      <th>campaign</th>\n",
       "      <td>41176.0</td>\n",
       "      <td>2.567879</td>\n",
       "      <td>2.770318</td>\n",
       "      <td>1.000</td>\n",
       "      <td>1.000</td>\n",
       "      <td>1.000</td>\n",
       "      <td>1.00</td>\n",
       "      <td>2.000</td>\n",
       "      <td>7.000</td>\n",
       "      <td>9.000</td>\n",
       "      <td>11.000</td>\n",
       "      <td>14.000</td>\n",
       "      <td>56.000</td>\n",
       "    </tr>\n",
       "    <tr>\n",
       "      <th>pdays</th>\n",
       "      <td>41176.0</td>\n",
       "      <td>962.464810</td>\n",
       "      <td>186.937102</td>\n",
       "      <td>0.000</td>\n",
       "      <td>999.000</td>\n",
       "      <td>999.000</td>\n",
       "      <td>999.00</td>\n",
       "      <td>999.000</td>\n",
       "      <td>999.000</td>\n",
       "      <td>999.000</td>\n",
       "      <td>999.000</td>\n",
       "      <td>999.000</td>\n",
       "      <td>999.000</td>\n",
       "    </tr>\n",
       "    <tr>\n",
       "      <th>previous</th>\n",
       "      <td>41176.0</td>\n",
       "      <td>0.173013</td>\n",
       "      <td>0.494964</td>\n",
       "      <td>0.000</td>\n",
       "      <td>0.000</td>\n",
       "      <td>0.000</td>\n",
       "      <td>0.00</td>\n",
       "      <td>0.000</td>\n",
       "      <td>1.000</td>\n",
       "      <td>1.000</td>\n",
       "      <td>2.000</td>\n",
       "      <td>2.000</td>\n",
       "      <td>7.000</td>\n",
       "    </tr>\n",
       "    <tr>\n",
       "      <th>poutcome</th>\n",
       "      <td>41176.0</td>\n",
       "      <td>0.930081</td>\n",
       "      <td>0.362937</td>\n",
       "      <td>0.000</td>\n",
       "      <td>0.000</td>\n",
       "      <td>1.000</td>\n",
       "      <td>1.00</td>\n",
       "      <td>1.000</td>\n",
       "      <td>1.000</td>\n",
       "      <td>2.000</td>\n",
       "      <td>2.000</td>\n",
       "      <td>2.000</td>\n",
       "      <td>2.000</td>\n",
       "    </tr>\n",
       "    <tr>\n",
       "      <th>emp_var_rate</th>\n",
       "      <td>41176.0</td>\n",
       "      <td>0.081922</td>\n",
       "      <td>1.570883</td>\n",
       "      <td>-3.400</td>\n",
       "      <td>-1.800</td>\n",
       "      <td>-1.800</td>\n",
       "      <td>-1.70</td>\n",
       "      <td>1.100</td>\n",
       "      <td>1.400</td>\n",
       "      <td>1.400</td>\n",
       "      <td>1.400</td>\n",
       "      <td>1.400</td>\n",
       "      <td>1.400</td>\n",
       "    </tr>\n",
       "    <tr>\n",
       "      <th>cons_price_idx</th>\n",
       "      <td>41176.0</td>\n",
       "      <td>93.575720</td>\n",
       "      <td>0.578839</td>\n",
       "      <td>92.201</td>\n",
       "      <td>92.893</td>\n",
       "      <td>92.893</td>\n",
       "      <td>93.20</td>\n",
       "      <td>93.749</td>\n",
       "      <td>94.465</td>\n",
       "      <td>94.465</td>\n",
       "      <td>94.465</td>\n",
       "      <td>94.465</td>\n",
       "      <td>94.767</td>\n",
       "    </tr>\n",
       "    <tr>\n",
       "      <th>cons_conf_idx</th>\n",
       "      <td>41176.0</td>\n",
       "      <td>-40.502863</td>\n",
       "      <td>4.627860</td>\n",
       "      <td>-50.800</td>\n",
       "      <td>-46.200</td>\n",
       "      <td>-46.200</td>\n",
       "      <td>-42.70</td>\n",
       "      <td>-41.800</td>\n",
       "      <td>-33.600</td>\n",
       "      <td>-31.400</td>\n",
       "      <td>-30.100</td>\n",
       "      <td>-26.900</td>\n",
       "      <td>-26.900</td>\n",
       "    </tr>\n",
       "    <tr>\n",
       "      <th>euribor3m</th>\n",
       "      <td>41176.0</td>\n",
       "      <td>3.621293</td>\n",
       "      <td>1.734437</td>\n",
       "      <td>0.634</td>\n",
       "      <td>1.046</td>\n",
       "      <td>1.299</td>\n",
       "      <td>1.41</td>\n",
       "      <td>4.857</td>\n",
       "      <td>4.966</td>\n",
       "      <td>4.967</td>\n",
       "      <td>4.968</td>\n",
       "      <td>4.968</td>\n",
       "      <td>5.045</td>\n",
       "    </tr>\n",
       "    <tr>\n",
       "      <th>nr_employed</th>\n",
       "      <td>41176.0</td>\n",
       "      <td>5167.034870</td>\n",
       "      <td>72.251364</td>\n",
       "      <td>4963.600</td>\n",
       "      <td>5076.200</td>\n",
       "      <td>5099.100</td>\n",
       "      <td>5099.10</td>\n",
       "      <td>5191.000</td>\n",
       "      <td>5228.100</td>\n",
       "      <td>5228.100</td>\n",
       "      <td>5228.100</td>\n",
       "      <td>5228.100</td>\n",
       "      <td>5228.100</td>\n",
       "    </tr>\n",
       "    <tr>\n",
       "      <th>y</th>\n",
       "      <td>41176.0</td>\n",
       "      <td>0.112663</td>\n",
       "      <td>0.316184</td>\n",
       "      <td>0.000</td>\n",
       "      <td>0.000</td>\n",
       "      <td>0.000</td>\n",
       "      <td>0.00</td>\n",
       "      <td>0.000</td>\n",
       "      <td>1.000</td>\n",
       "      <td>1.000</td>\n",
       "      <td>1.000</td>\n",
       "      <td>1.000</td>\n",
       "      <td>1.000</td>\n",
       "    </tr>\n",
       "  </tbody>\n",
       "</table>\n",
       "</div>"
      ],
      "text/plain": [
       "                  count         mean         std       min       10%  \\\n",
       "age             41176.0    40.023800   10.420680    17.000    28.000   \n",
       "job             41176.0     3.724184    3.594459     0.000     0.000   \n",
       "marital         41176.0     1.172746    0.608905     0.000     0.000   \n",
       "education       41176.0     3.746916    2.136539     0.000     0.000   \n",
       "default         41176.0     0.208908    0.406713     0.000     0.000   \n",
       "housing         41176.0     1.071789    0.985305     0.000     0.000   \n",
       "loan            41176.0     0.327521    0.723700     0.000     0.000   \n",
       "contact         41176.0     0.365286    0.481516     0.000     0.000   \n",
       "month           41176.0     4.231033    2.319973     0.000     1.000   \n",
       "day_of_week     41176.0     2.004614    1.397692     0.000     0.000   \n",
       "duration        41176.0   258.315815  259.305321     0.000    59.000   \n",
       "campaign        41176.0     2.567879    2.770318     1.000     1.000   \n",
       "pdays           41176.0   962.464810  186.937102     0.000   999.000   \n",
       "previous        41176.0     0.173013    0.494964     0.000     0.000   \n",
       "poutcome        41176.0     0.930081    0.362937     0.000     0.000   \n",
       "emp_var_rate    41176.0     0.081922    1.570883    -3.400    -1.800   \n",
       "cons_price_idx  41176.0    93.575720    0.578839    92.201    92.893   \n",
       "cons_conf_idx   41176.0   -40.502863    4.627860   -50.800   -46.200   \n",
       "euribor3m       41176.0     3.621293    1.734437     0.634     1.046   \n",
       "nr_employed     41176.0  5167.034870   72.251364  4963.600  5076.200   \n",
       "y               41176.0     0.112663    0.316184     0.000     0.000   \n",
       "\n",
       "                     20%      30%       50%       95%       97%       98%  \\\n",
       "age               31.000    33.00    38.000    58.000    59.000    62.000   \n",
       "job                0.000     1.00     2.000     9.000    10.000    10.000   \n",
       "marital            1.000     1.00     1.000     2.000     2.000     2.000   \n",
       "education          2.000     2.00     3.000     6.000     7.000     7.000   \n",
       "default            0.000     0.00     0.000     1.000     1.000     1.000   \n",
       "housing            0.000     0.00     2.000     2.000     2.000     2.000   \n",
       "loan               0.000     0.00     0.000     2.000     2.000     2.000   \n",
       "contact            0.000     0.00     0.000     1.000     1.000     1.000   \n",
       "month              1.000     3.00     4.000     7.000     8.000     8.000   \n",
       "day_of_week        1.000     1.00     2.000     4.000     4.000     4.000   \n",
       "duration          89.000   116.00   180.000   753.000   911.000  1052.500   \n",
       "campaign           1.000     1.00     2.000     7.000     9.000    11.000   \n",
       "pdays            999.000   999.00   999.000   999.000   999.000   999.000   \n",
       "previous           0.000     0.00     0.000     1.000     1.000     2.000   \n",
       "poutcome           1.000     1.00     1.000     1.000     2.000     2.000   \n",
       "emp_var_rate      -1.800    -1.70     1.100     1.400     1.400     1.400   \n",
       "cons_price_idx    92.893    93.20    93.749    94.465    94.465    94.465   \n",
       "cons_conf_idx    -46.200   -42.70   -41.800   -33.600   -31.400   -30.100   \n",
       "euribor3m          1.299     1.41     4.857     4.966     4.967     4.968   \n",
       "nr_employed     5099.100  5099.10  5191.000  5228.100  5228.100  5228.100   \n",
       "y                  0.000     0.00     0.000     1.000     1.000     1.000   \n",
       "\n",
       "                     99%       max  \n",
       "age               71.000    98.000  \n",
       "job               10.000    11.000  \n",
       "marital            2.000     3.000  \n",
       "education          7.000     7.000  \n",
       "default            1.000     2.000  \n",
       "housing            2.000     2.000  \n",
       "loan               2.000     2.000  \n",
       "contact            1.000     1.000  \n",
       "month              9.000     9.000  \n",
       "day_of_week        4.000     4.000  \n",
       "duration        1271.250  4918.000  \n",
       "campaign          14.000    56.000  \n",
       "pdays            999.000   999.000  \n",
       "previous           2.000     7.000  \n",
       "poutcome           2.000     2.000  \n",
       "emp_var_rate       1.400     1.400  \n",
       "cons_price_idx    94.465    94.767  \n",
       "cons_conf_idx    -26.900   -26.900  \n",
       "euribor3m          4.968     5.045  \n",
       "nr_employed     5228.100  5228.100  \n",
       "y                  1.000     1.000  "
      ]
     },
     "execution_count": 29,
     "metadata": {},
     "output_type": "execute_result"
    }
   ],
   "source": [
    "df1.describe(percentiles=[0.1,0.2,0.3,0.5,0.95,0.97,0.98,0.99]).T"
   ]
  },
  {
   "cell_type": "code",
   "execution_count": 30,
   "id": "53b1a160",
   "metadata": {},
   "outputs": [],
   "source": [
    "def outlier_treatment(x):\n",
    "    x = x.clip(upper= x.quantile(0.98))\n",
    "    x = x.clip(lower = x.quantile(0.02))\n",
    "    return x"
   ]
  },
  {
   "cell_type": "code",
   "execution_count": 31,
   "id": "00f89e8a",
   "metadata": {},
   "outputs": [],
   "source": [
    "df1 = df1.apply(outlier_treatment)"
   ]
  },
  {
   "cell_type": "code",
   "execution_count": 32,
   "id": "dd5bcf3c",
   "metadata": {},
   "outputs": [
    {
     "data": {
      "text/html": [
       "<div>\n",
       "<style scoped>\n",
       "    .dataframe tbody tr th:only-of-type {\n",
       "        vertical-align: middle;\n",
       "    }\n",
       "\n",
       "    .dataframe tbody tr th {\n",
       "        vertical-align: top;\n",
       "    }\n",
       "\n",
       "    .dataframe thead th {\n",
       "        text-align: right;\n",
       "    }\n",
       "</style>\n",
       "<table border=\"1\" class=\"dataframe\">\n",
       "  <thead>\n",
       "    <tr style=\"text-align: right;\">\n",
       "      <th></th>\n",
       "      <th>count</th>\n",
       "      <th>mean</th>\n",
       "      <th>std</th>\n",
       "      <th>min</th>\n",
       "      <th>10%</th>\n",
       "      <th>20%</th>\n",
       "      <th>30%</th>\n",
       "      <th>50%</th>\n",
       "      <th>95%</th>\n",
       "      <th>97%</th>\n",
       "      <th>98%</th>\n",
       "      <th>99%</th>\n",
       "      <th>max</th>\n",
       "    </tr>\n",
       "  </thead>\n",
       "  <tbody>\n",
       "    <tr>\n",
       "      <th>age</th>\n",
       "      <td>41176.0</td>\n",
       "      <td>39.863318</td>\n",
       "      <td>9.778644</td>\n",
       "      <td>24.000</td>\n",
       "      <td>28.000</td>\n",
       "      <td>31.000</td>\n",
       "      <td>33.00</td>\n",
       "      <td>38.000</td>\n",
       "      <td>58.000</td>\n",
       "      <td>59.000</td>\n",
       "      <td>62.000</td>\n",
       "      <td>62.000</td>\n",
       "      <td>62.000</td>\n",
       "    </tr>\n",
       "    <tr>\n",
       "      <th>job</th>\n",
       "      <td>41176.0</td>\n",
       "      <td>3.716170</td>\n",
       "      <td>3.579310</td>\n",
       "      <td>0.000</td>\n",
       "      <td>0.000</td>\n",
       "      <td>0.000</td>\n",
       "      <td>1.00</td>\n",
       "      <td>2.000</td>\n",
       "      <td>9.000</td>\n",
       "      <td>10.000</td>\n",
       "      <td>10.000</td>\n",
       "      <td>10.000</td>\n",
       "      <td>10.000</td>\n",
       "    </tr>\n",
       "    <tr>\n",
       "      <th>marital</th>\n",
       "      <td>41176.0</td>\n",
       "      <td>1.170803</td>\n",
       "      <td>0.604652</td>\n",
       "      <td>0.000</td>\n",
       "      <td>0.000</td>\n",
       "      <td>1.000</td>\n",
       "      <td>1.00</td>\n",
       "      <td>1.000</td>\n",
       "      <td>2.000</td>\n",
       "      <td>2.000</td>\n",
       "      <td>2.000</td>\n",
       "      <td>2.000</td>\n",
       "      <td>2.000</td>\n",
       "    </tr>\n",
       "    <tr>\n",
       "      <th>education</th>\n",
       "      <td>41176.0</td>\n",
       "      <td>3.746916</td>\n",
       "      <td>2.136539</td>\n",
       "      <td>0.000</td>\n",
       "      <td>0.000</td>\n",
       "      <td>2.000</td>\n",
       "      <td>2.00</td>\n",
       "      <td>3.000</td>\n",
       "      <td>6.000</td>\n",
       "      <td>7.000</td>\n",
       "      <td>7.000</td>\n",
       "      <td>7.000</td>\n",
       "      <td>7.000</td>\n",
       "    </tr>\n",
       "    <tr>\n",
       "      <th>default</th>\n",
       "      <td>41176.0</td>\n",
       "      <td>0.208835</td>\n",
       "      <td>0.406481</td>\n",
       "      <td>0.000</td>\n",
       "      <td>0.000</td>\n",
       "      <td>0.000</td>\n",
       "      <td>0.00</td>\n",
       "      <td>0.000</td>\n",
       "      <td>1.000</td>\n",
       "      <td>1.000</td>\n",
       "      <td>1.000</td>\n",
       "      <td>1.000</td>\n",
       "      <td>1.000</td>\n",
       "    </tr>\n",
       "    <tr>\n",
       "      <th>housing</th>\n",
       "      <td>41176.0</td>\n",
       "      <td>1.071789</td>\n",
       "      <td>0.985305</td>\n",
       "      <td>0.000</td>\n",
       "      <td>0.000</td>\n",
       "      <td>0.000</td>\n",
       "      <td>0.00</td>\n",
       "      <td>2.000</td>\n",
       "      <td>2.000</td>\n",
       "      <td>2.000</td>\n",
       "      <td>2.000</td>\n",
       "      <td>2.000</td>\n",
       "      <td>2.000</td>\n",
       "    </tr>\n",
       "    <tr>\n",
       "      <th>loan</th>\n",
       "      <td>41176.0</td>\n",
       "      <td>0.327521</td>\n",
       "      <td>0.723700</td>\n",
       "      <td>0.000</td>\n",
       "      <td>0.000</td>\n",
       "      <td>0.000</td>\n",
       "      <td>0.00</td>\n",
       "      <td>0.000</td>\n",
       "      <td>2.000</td>\n",
       "      <td>2.000</td>\n",
       "      <td>2.000</td>\n",
       "      <td>2.000</td>\n",
       "      <td>2.000</td>\n",
       "    </tr>\n",
       "    <tr>\n",
       "      <th>contact</th>\n",
       "      <td>41176.0</td>\n",
       "      <td>0.365286</td>\n",
       "      <td>0.481516</td>\n",
       "      <td>0.000</td>\n",
       "      <td>0.000</td>\n",
       "      <td>0.000</td>\n",
       "      <td>0.00</td>\n",
       "      <td>0.000</td>\n",
       "      <td>1.000</td>\n",
       "      <td>1.000</td>\n",
       "      <td>1.000</td>\n",
       "      <td>1.000</td>\n",
       "      <td>1.000</td>\n",
       "    </tr>\n",
       "    <tr>\n",
       "      <th>month</th>\n",
       "      <td>41176.0</td>\n",
       "      <td>4.217190</td>\n",
       "      <td>2.294317</td>\n",
       "      <td>0.000</td>\n",
       "      <td>1.000</td>\n",
       "      <td>1.000</td>\n",
       "      <td>3.00</td>\n",
       "      <td>4.000</td>\n",
       "      <td>7.000</td>\n",
       "      <td>8.000</td>\n",
       "      <td>8.000</td>\n",
       "      <td>8.000</td>\n",
       "      <td>8.000</td>\n",
       "    </tr>\n",
       "    <tr>\n",
       "      <th>day_of_week</th>\n",
       "      <td>41176.0</td>\n",
       "      <td>2.004614</td>\n",
       "      <td>1.397692</td>\n",
       "      <td>0.000</td>\n",
       "      <td>0.000</td>\n",
       "      <td>1.000</td>\n",
       "      <td>1.00</td>\n",
       "      <td>2.000</td>\n",
       "      <td>4.000</td>\n",
       "      <td>4.000</td>\n",
       "      <td>4.000</td>\n",
       "      <td>4.000</td>\n",
       "      <td>4.000</td>\n",
       "    </tr>\n",
       "    <tr>\n",
       "      <th>duration</th>\n",
       "      <td>41176.0</td>\n",
       "      <td>251.357053</td>\n",
       "      <td>222.814149</td>\n",
       "      <td>17.000</td>\n",
       "      <td>59.000</td>\n",
       "      <td>89.000</td>\n",
       "      <td>116.00</td>\n",
       "      <td>180.000</td>\n",
       "      <td>753.000</td>\n",
       "      <td>911.000</td>\n",
       "      <td>1052.250</td>\n",
       "      <td>1052.500</td>\n",
       "      <td>1052.500</td>\n",
       "    </tr>\n",
       "    <tr>\n",
       "      <th>campaign</th>\n",
       "      <td>41176.0</td>\n",
       "      <td>2.458180</td>\n",
       "      <td>2.112593</td>\n",
       "      <td>1.000</td>\n",
       "      <td>1.000</td>\n",
       "      <td>1.000</td>\n",
       "      <td>1.00</td>\n",
       "      <td>2.000</td>\n",
       "      <td>7.000</td>\n",
       "      <td>9.000</td>\n",
       "      <td>11.000</td>\n",
       "      <td>11.000</td>\n",
       "      <td>11.000</td>\n",
       "    </tr>\n",
       "    <tr>\n",
       "      <th>pdays</th>\n",
       "      <td>41176.0</td>\n",
       "      <td>962.514912</td>\n",
       "      <td>186.680134</td>\n",
       "      <td>6.000</td>\n",
       "      <td>999.000</td>\n",
       "      <td>999.000</td>\n",
       "      <td>999.00</td>\n",
       "      <td>999.000</td>\n",
       "      <td>999.000</td>\n",
       "      <td>999.000</td>\n",
       "      <td>999.000</td>\n",
       "      <td>999.000</td>\n",
       "      <td>999.000</td>\n",
       "    </tr>\n",
       "    <tr>\n",
       "      <th>previous</th>\n",
       "      <td>41176.0</td>\n",
       "      <td>0.162449</td>\n",
       "      <td>0.433295</td>\n",
       "      <td>0.000</td>\n",
       "      <td>0.000</td>\n",
       "      <td>0.000</td>\n",
       "      <td>0.00</td>\n",
       "      <td>0.000</td>\n",
       "      <td>1.000</td>\n",
       "      <td>1.000</td>\n",
       "      <td>2.000</td>\n",
       "      <td>2.000</td>\n",
       "      <td>2.000</td>\n",
       "    </tr>\n",
       "    <tr>\n",
       "      <th>poutcome</th>\n",
       "      <td>41176.0</td>\n",
       "      <td>0.930081</td>\n",
       "      <td>0.362937</td>\n",
       "      <td>0.000</td>\n",
       "      <td>0.000</td>\n",
       "      <td>1.000</td>\n",
       "      <td>1.00</td>\n",
       "      <td>1.000</td>\n",
       "      <td>1.000</td>\n",
       "      <td>2.000</td>\n",
       "      <td>2.000</td>\n",
       "      <td>2.000</td>\n",
       "      <td>2.000</td>\n",
       "    </tr>\n",
       "    <tr>\n",
       "      <th>emp_var_rate</th>\n",
       "      <td>41176.0</td>\n",
       "      <td>0.081922</td>\n",
       "      <td>1.570883</td>\n",
       "      <td>-3.400</td>\n",
       "      <td>-1.800</td>\n",
       "      <td>-1.800</td>\n",
       "      <td>-1.70</td>\n",
       "      <td>1.100</td>\n",
       "      <td>1.400</td>\n",
       "      <td>1.400</td>\n",
       "      <td>1.400</td>\n",
       "      <td>1.400</td>\n",
       "      <td>1.400</td>\n",
       "    </tr>\n",
       "    <tr>\n",
       "      <th>cons_price_idx</th>\n",
       "      <td>41176.0</td>\n",
       "      <td>93.577436</td>\n",
       "      <td>0.568550</td>\n",
       "      <td>92.379</td>\n",
       "      <td>92.893</td>\n",
       "      <td>92.893</td>\n",
       "      <td>93.20</td>\n",
       "      <td>93.749</td>\n",
       "      <td>94.465</td>\n",
       "      <td>94.465</td>\n",
       "      <td>94.465</td>\n",
       "      <td>94.465</td>\n",
       "      <td>94.465</td>\n",
       "    </tr>\n",
       "    <tr>\n",
       "      <th>cons_conf_idx</th>\n",
       "      <td>41176.0</td>\n",
       "      <td>-40.496216</td>\n",
       "      <td>4.454717</td>\n",
       "      <td>-47.100</td>\n",
       "      <td>-46.200</td>\n",
       "      <td>-46.200</td>\n",
       "      <td>-42.70</td>\n",
       "      <td>-41.800</td>\n",
       "      <td>-33.600</td>\n",
       "      <td>-31.400</td>\n",
       "      <td>-30.100</td>\n",
       "      <td>-30.100</td>\n",
       "      <td>-30.100</td>\n",
       "    </tr>\n",
       "    <tr>\n",
       "      <th>euribor3m</th>\n",
       "      <td>41176.0</td>\n",
       "      <td>3.622150</td>\n",
       "      <td>1.732908</td>\n",
       "      <td>0.714</td>\n",
       "      <td>1.046</td>\n",
       "      <td>1.299</td>\n",
       "      <td>1.41</td>\n",
       "      <td>4.857</td>\n",
       "      <td>4.966</td>\n",
       "      <td>4.967</td>\n",
       "      <td>4.968</td>\n",
       "      <td>4.968</td>\n",
       "      <td>4.968</td>\n",
       "    </tr>\n",
       "    <tr>\n",
       "      <th>nr_employed</th>\n",
       "      <td>41176.0</td>\n",
       "      <td>5167.466675</td>\n",
       "      <td>71.108870</td>\n",
       "      <td>4991.600</td>\n",
       "      <td>5076.200</td>\n",
       "      <td>5099.100</td>\n",
       "      <td>5099.10</td>\n",
       "      <td>5191.000</td>\n",
       "      <td>5228.100</td>\n",
       "      <td>5228.100</td>\n",
       "      <td>5228.100</td>\n",
       "      <td>5228.100</td>\n",
       "      <td>5228.100</td>\n",
       "    </tr>\n",
       "    <tr>\n",
       "      <th>y</th>\n",
       "      <td>41176.0</td>\n",
       "      <td>0.112663</td>\n",
       "      <td>0.316184</td>\n",
       "      <td>0.000</td>\n",
       "      <td>0.000</td>\n",
       "      <td>0.000</td>\n",
       "      <td>0.00</td>\n",
       "      <td>0.000</td>\n",
       "      <td>1.000</td>\n",
       "      <td>1.000</td>\n",
       "      <td>1.000</td>\n",
       "      <td>1.000</td>\n",
       "      <td>1.000</td>\n",
       "    </tr>\n",
       "  </tbody>\n",
       "</table>\n",
       "</div>"
      ],
      "text/plain": [
       "                  count         mean         std       min       10%  \\\n",
       "age             41176.0    39.863318    9.778644    24.000    28.000   \n",
       "job             41176.0     3.716170    3.579310     0.000     0.000   \n",
       "marital         41176.0     1.170803    0.604652     0.000     0.000   \n",
       "education       41176.0     3.746916    2.136539     0.000     0.000   \n",
       "default         41176.0     0.208835    0.406481     0.000     0.000   \n",
       "housing         41176.0     1.071789    0.985305     0.000     0.000   \n",
       "loan            41176.0     0.327521    0.723700     0.000     0.000   \n",
       "contact         41176.0     0.365286    0.481516     0.000     0.000   \n",
       "month           41176.0     4.217190    2.294317     0.000     1.000   \n",
       "day_of_week     41176.0     2.004614    1.397692     0.000     0.000   \n",
       "duration        41176.0   251.357053  222.814149    17.000    59.000   \n",
       "campaign        41176.0     2.458180    2.112593     1.000     1.000   \n",
       "pdays           41176.0   962.514912  186.680134     6.000   999.000   \n",
       "previous        41176.0     0.162449    0.433295     0.000     0.000   \n",
       "poutcome        41176.0     0.930081    0.362937     0.000     0.000   \n",
       "emp_var_rate    41176.0     0.081922    1.570883    -3.400    -1.800   \n",
       "cons_price_idx  41176.0    93.577436    0.568550    92.379    92.893   \n",
       "cons_conf_idx   41176.0   -40.496216    4.454717   -47.100   -46.200   \n",
       "euribor3m       41176.0     3.622150    1.732908     0.714     1.046   \n",
       "nr_employed     41176.0  5167.466675   71.108870  4991.600  5076.200   \n",
       "y               41176.0     0.112663    0.316184     0.000     0.000   \n",
       "\n",
       "                     20%      30%       50%       95%       97%       98%  \\\n",
       "age               31.000    33.00    38.000    58.000    59.000    62.000   \n",
       "job                0.000     1.00     2.000     9.000    10.000    10.000   \n",
       "marital            1.000     1.00     1.000     2.000     2.000     2.000   \n",
       "education          2.000     2.00     3.000     6.000     7.000     7.000   \n",
       "default            0.000     0.00     0.000     1.000     1.000     1.000   \n",
       "housing            0.000     0.00     2.000     2.000     2.000     2.000   \n",
       "loan               0.000     0.00     0.000     2.000     2.000     2.000   \n",
       "contact            0.000     0.00     0.000     1.000     1.000     1.000   \n",
       "month              1.000     3.00     4.000     7.000     8.000     8.000   \n",
       "day_of_week        1.000     1.00     2.000     4.000     4.000     4.000   \n",
       "duration          89.000   116.00   180.000   753.000   911.000  1052.250   \n",
       "campaign           1.000     1.00     2.000     7.000     9.000    11.000   \n",
       "pdays            999.000   999.00   999.000   999.000   999.000   999.000   \n",
       "previous           0.000     0.00     0.000     1.000     1.000     2.000   \n",
       "poutcome           1.000     1.00     1.000     1.000     2.000     2.000   \n",
       "emp_var_rate      -1.800    -1.70     1.100     1.400     1.400     1.400   \n",
       "cons_price_idx    92.893    93.20    93.749    94.465    94.465    94.465   \n",
       "cons_conf_idx    -46.200   -42.70   -41.800   -33.600   -31.400   -30.100   \n",
       "euribor3m          1.299     1.41     4.857     4.966     4.967     4.968   \n",
       "nr_employed     5099.100  5099.10  5191.000  5228.100  5228.100  5228.100   \n",
       "y                  0.000     0.00     0.000     1.000     1.000     1.000   \n",
       "\n",
       "                     99%       max  \n",
       "age               62.000    62.000  \n",
       "job               10.000    10.000  \n",
       "marital            2.000     2.000  \n",
       "education          7.000     7.000  \n",
       "default            1.000     1.000  \n",
       "housing            2.000     2.000  \n",
       "loan               2.000     2.000  \n",
       "contact            1.000     1.000  \n",
       "month              8.000     8.000  \n",
       "day_of_week        4.000     4.000  \n",
       "duration        1052.500  1052.500  \n",
       "campaign          11.000    11.000  \n",
       "pdays            999.000   999.000  \n",
       "previous           2.000     2.000  \n",
       "poutcome           2.000     2.000  \n",
       "emp_var_rate       1.400     1.400  \n",
       "cons_price_idx    94.465    94.465  \n",
       "cons_conf_idx    -30.100   -30.100  \n",
       "euribor3m          4.968     4.968  \n",
       "nr_employed     5228.100  5228.100  \n",
       "y                  1.000     1.000  "
      ]
     },
     "execution_count": 32,
     "metadata": {},
     "output_type": "execute_result"
    }
   ],
   "source": [
    "df1.describe(percentiles=[0.1,0.2,0.3,0.5,0.95,0.97,0.98,0.99]).T"
   ]
  },
  {
   "cell_type": "markdown",
   "id": "5ad9fea1",
   "metadata": {},
   "source": [
    "### Studying correlation\n",
    "- To check the correlation between numerical variables, compute a correlation matrix and plot a heatmap for the correlation matrix"
   ]
  },
  {
   "cell_type": "code",
   "execution_count": 33,
   "id": "d8e95ccb",
   "metadata": {},
   "outputs": [
    {
     "data": {
      "text/html": [
       "<div>\n",
       "<style scoped>\n",
       "    .dataframe tbody tr th:only-of-type {\n",
       "        vertical-align: middle;\n",
       "    }\n",
       "\n",
       "    .dataframe tbody tr th {\n",
       "        vertical-align: top;\n",
       "    }\n",
       "\n",
       "    .dataframe thead th {\n",
       "        text-align: right;\n",
       "    }\n",
       "</style>\n",
       "<table border=\"1\" class=\"dataframe\">\n",
       "  <thead>\n",
       "    <tr style=\"text-align: right;\">\n",
       "      <th></th>\n",
       "      <th>age</th>\n",
       "      <th>job</th>\n",
       "      <th>marital</th>\n",
       "      <th>education</th>\n",
       "      <th>default</th>\n",
       "      <th>housing</th>\n",
       "      <th>loan</th>\n",
       "      <th>contact</th>\n",
       "      <th>month</th>\n",
       "      <th>day_of_week</th>\n",
       "      <th>...</th>\n",
       "      <th>campaign</th>\n",
       "      <th>pdays</th>\n",
       "      <th>previous</th>\n",
       "      <th>poutcome</th>\n",
       "      <th>emp_var_rate</th>\n",
       "      <th>cons_price_idx</th>\n",
       "      <th>cons_conf_idx</th>\n",
       "      <th>euribor3m</th>\n",
       "      <th>nr_employed</th>\n",
       "      <th>y</th>\n",
       "    </tr>\n",
       "  </thead>\n",
       "  <tbody>\n",
       "    <tr>\n",
       "      <th>age</th>\n",
       "      <td>1.000000</td>\n",
       "      <td>-0.003779</td>\n",
       "      <td>-0.398928</td>\n",
       "      <td>-0.112983</td>\n",
       "      <td>0.179492</td>\n",
       "      <td>-0.002503</td>\n",
       "      <td>-0.007837</td>\n",
       "      <td>0.017227</td>\n",
       "      <td>-0.030771</td>\n",
       "      <td>-0.020158</td>\n",
       "      <td>...</td>\n",
       "      <td>0.007301</td>\n",
       "      <td>-0.019503</td>\n",
       "      <td>0.006840</td>\n",
       "      <td>0.018569</td>\n",
       "      <td>0.027090</td>\n",
       "      <td>0.016213</td>\n",
       "      <td>0.122678</td>\n",
       "      <td>0.039340</td>\n",
       "      <td>0.015431</td>\n",
       "      <td>0.011304</td>\n",
       "    </tr>\n",
       "    <tr>\n",
       "      <th>job</th>\n",
       "      <td>-0.003779</td>\n",
       "      <td>1.000000</td>\n",
       "      <td>0.026811</td>\n",
       "      <td>0.134074</td>\n",
       "      <td>-0.030086</td>\n",
       "      <td>0.006935</td>\n",
       "      <td>-0.010306</td>\n",
       "      <td>-0.025744</td>\n",
       "      <td>-0.034980</td>\n",
       "      <td>-0.001165</td>\n",
       "      <td>...</td>\n",
       "      <td>-0.006909</td>\n",
       "      <td>-0.028325</td>\n",
       "      <td>0.019019</td>\n",
       "      <td>0.011084</td>\n",
       "      <td>-0.008872</td>\n",
       "      <td>-0.016564</td>\n",
       "      <td>0.054493</td>\n",
       "      <td>-0.008436</td>\n",
       "      <td>-0.018757</td>\n",
       "      <td>0.025359</td>\n",
       "    </tr>\n",
       "    <tr>\n",
       "      <th>marital</th>\n",
       "      <td>-0.398928</td>\n",
       "      <td>0.026811</td>\n",
       "      <td>1.000000</td>\n",
       "      <td>0.109150</td>\n",
       "      <td>-0.079421</td>\n",
       "      <td>0.011174</td>\n",
       "      <td>0.005913</td>\n",
       "      <td>-0.054725</td>\n",
       "      <td>-0.009060</td>\n",
       "      <td>0.002315</td>\n",
       "      <td>...</td>\n",
       "      <td>-0.009856</td>\n",
       "      <td>-0.037790</td>\n",
       "      <td>0.038887</td>\n",
       "      <td>0.002185</td>\n",
       "      <td>-0.084114</td>\n",
       "      <td>-0.057899</td>\n",
       "      <td>-0.033700</td>\n",
       "      <td>-0.091935</td>\n",
       "      <td>-0.086376</td>\n",
       "      <td>0.046195</td>\n",
       "    </tr>\n",
       "    <tr>\n",
       "      <th>education</th>\n",
       "      <td>-0.112983</td>\n",
       "      <td>0.134074</td>\n",
       "      <td>0.109150</td>\n",
       "      <td>1.000000</td>\n",
       "      <td>-0.186966</td>\n",
       "      <td>0.016891</td>\n",
       "      <td>0.006441</td>\n",
       "      <td>-0.105722</td>\n",
       "      <td>-0.085801</td>\n",
       "      <td>-0.017989</td>\n",
       "      <td>...</td>\n",
       "      <td>0.004378</td>\n",
       "      <td>-0.046647</td>\n",
       "      <td>0.035335</td>\n",
       "      <td>0.016987</td>\n",
       "      <td>-0.043695</td>\n",
       "      <td>-0.081941</td>\n",
       "      <td>0.083535</td>\n",
       "      <td>-0.036192</td>\n",
       "      <td>-0.040224</td>\n",
       "      <td>0.057776</td>\n",
       "    </tr>\n",
       "    <tr>\n",
       "      <th>default</th>\n",
       "      <td>0.179492</td>\n",
       "      <td>-0.030086</td>\n",
       "      <td>-0.079421</td>\n",
       "      <td>-0.186966</td>\n",
       "      <td>1.000000</td>\n",
       "      <td>-0.015725</td>\n",
       "      <td>-0.003744</td>\n",
       "      <td>0.135488</td>\n",
       "      <td>-0.013089</td>\n",
       "      <td>-0.008792</td>\n",
       "      <td>...</td>\n",
       "      <td>0.037194</td>\n",
       "      <td>0.080097</td>\n",
       "      <td>-0.106026</td>\n",
       "      <td>0.023580</td>\n",
       "      <td>0.203280</td>\n",
       "      <td>0.170146</td>\n",
       "      <td>0.026616</td>\n",
       "      <td>0.195283</td>\n",
       "      <td>0.190041</td>\n",
       "      <td>-0.099356</td>\n",
       "    </tr>\n",
       "    <tr>\n",
       "      <th>housing</th>\n",
       "      <td>-0.002503</td>\n",
       "      <td>0.006935</td>\n",
       "      <td>0.011174</td>\n",
       "      <td>0.016891</td>\n",
       "      <td>-0.015725</td>\n",
       "      <td>1.000000</td>\n",
       "      <td>0.044272</td>\n",
       "      <td>-0.082098</td>\n",
       "      <td>-0.018608</td>\n",
       "      <td>0.003339</td>\n",
       "      <td>...</td>\n",
       "      <td>-0.011835</td>\n",
       "      <td>-0.010528</td>\n",
       "      <td>0.021776</td>\n",
       "      <td>-0.011771</td>\n",
       "      <td>-0.060248</td>\n",
       "      <td>-0.082447</td>\n",
       "      <td>-0.033344</td>\n",
       "      <td>-0.059289</td>\n",
       "      <td>-0.046247</td>\n",
       "      <td>0.011613</td>\n",
       "    </tr>\n",
       "    <tr>\n",
       "      <th>loan</th>\n",
       "      <td>-0.007837</td>\n",
       "      <td>-0.010306</td>\n",
       "      <td>0.005913</td>\n",
       "      <td>0.006441</td>\n",
       "      <td>-0.003744</td>\n",
       "      <td>0.044272</td>\n",
       "      <td>1.000000</td>\n",
       "      <td>-0.008589</td>\n",
       "      <td>-0.005705</td>\n",
       "      <td>-0.009345</td>\n",
       "      <td>...</td>\n",
       "      <td>0.007990</td>\n",
       "      <td>0.000376</td>\n",
       "      <td>-0.000216</td>\n",
       "      <td>-0.001486</td>\n",
       "      <td>0.001840</td>\n",
       "      <td>-0.002620</td>\n",
       "      <td>-0.012103</td>\n",
       "      <td>0.000089</td>\n",
       "      <td>0.003630</td>\n",
       "      <td>-0.004922</td>\n",
       "    </tr>\n",
       "    <tr>\n",
       "      <th>contact</th>\n",
       "      <td>0.017227</td>\n",
       "      <td>-0.025744</td>\n",
       "      <td>-0.054725</td>\n",
       "      <td>-0.105722</td>\n",
       "      <td>0.135488</td>\n",
       "      <td>-0.082098</td>\n",
       "      <td>-0.008589</td>\n",
       "      <td>1.000000</td>\n",
       "      <td>0.282233</td>\n",
       "      <td>-0.009614</td>\n",
       "      <td>...</td>\n",
       "      <td>0.077773</td>\n",
       "      <td>0.117995</td>\n",
       "      <td>-0.227967</td>\n",
       "      <td>0.118773</td>\n",
       "      <td>0.393730</td>\n",
       "      <td>0.600379</td>\n",
       "      <td>0.260122</td>\n",
       "      <td>0.400004</td>\n",
       "      <td>0.271051</td>\n",
       "      <td>-0.144774</td>\n",
       "    </tr>\n",
       "    <tr>\n",
       "      <th>month</th>\n",
       "      <td>-0.030771</td>\n",
       "      <td>-0.034980</td>\n",
       "      <td>-0.009060</td>\n",
       "      <td>-0.085801</td>\n",
       "      <td>-0.013089</td>\n",
       "      <td>-0.018608</td>\n",
       "      <td>-0.005705</td>\n",
       "      <td>0.282233</td>\n",
       "      <td>1.000000</td>\n",
       "      <td>0.027649</td>\n",
       "      <td>...</td>\n",
       "      <td>-0.067271</td>\n",
       "      <td>-0.040546</td>\n",
       "      <td>0.099803</td>\n",
       "      <td>-0.067220</td>\n",
       "      <td>-0.172045</td>\n",
       "      <td>-0.014040</td>\n",
       "      <td>-0.003414</td>\n",
       "      <td>-0.109108</td>\n",
       "      <td>-0.202844</td>\n",
       "      <td>-0.012539</td>\n",
       "    </tr>\n",
       "    <tr>\n",
       "      <th>day_of_week</th>\n",
       "      <td>-0.020158</td>\n",
       "      <td>-0.001165</td>\n",
       "      <td>0.002315</td>\n",
       "      <td>-0.017989</td>\n",
       "      <td>-0.008792</td>\n",
       "      <td>0.003339</td>\n",
       "      <td>-0.009345</td>\n",
       "      <td>-0.009614</td>\n",
       "      <td>0.027649</td>\n",
       "      <td>1.000000</td>\n",
       "      <td>...</td>\n",
       "      <td>-0.042952</td>\n",
       "      <td>-0.009523</td>\n",
       "      <td>-0.006251</td>\n",
       "      <td>0.018733</td>\n",
       "      <td>0.033288</td>\n",
       "      <td>0.005734</td>\n",
       "      <td>0.041857</td>\n",
       "      <td>0.039095</td>\n",
       "      <td>0.029001</td>\n",
       "      <td>0.015970</td>\n",
       "    </tr>\n",
       "    <tr>\n",
       "      <th>duration</th>\n",
       "      <td>-0.001567</td>\n",
       "      <td>-0.005576</td>\n",
       "      <td>0.010120</td>\n",
       "      <td>-0.015646</td>\n",
       "      <td>-0.011593</td>\n",
       "      <td>-0.009330</td>\n",
       "      <td>-0.004274</td>\n",
       "      <td>-0.032971</td>\n",
       "      <td>0.004020</td>\n",
       "      <td>0.026292</td>\n",
       "      <td>...</td>\n",
       "      <td>-0.074564</td>\n",
       "      <td>-0.055781</td>\n",
       "      <td>0.025643</td>\n",
       "      <td>0.035670</td>\n",
       "      <td>-0.034119</td>\n",
       "      <td>0.003575</td>\n",
       "      <td>-0.009955</td>\n",
       "      <td>-0.040565</td>\n",
       "      <td>-0.053204</td>\n",
       "      <td>0.422698</td>\n",
       "    </tr>\n",
       "    <tr>\n",
       "      <th>campaign</th>\n",
       "      <td>0.007301</td>\n",
       "      <td>-0.006909</td>\n",
       "      <td>-0.009856</td>\n",
       "      <td>0.004378</td>\n",
       "      <td>0.037194</td>\n",
       "      <td>-0.011835</td>\n",
       "      <td>0.007990</td>\n",
       "      <td>0.077773</td>\n",
       "      <td>-0.067271</td>\n",
       "      <td>-0.042952</td>\n",
       "      <td>...</td>\n",
       "      <td>1.000000</td>\n",
       "      <td>0.058944</td>\n",
       "      <td>-0.091184</td>\n",
       "      <td>0.033230</td>\n",
       "      <td>0.157984</td>\n",
       "      <td>0.126510</td>\n",
       "      <td>-0.011963</td>\n",
       "      <td>0.139976</td>\n",
       "      <td>0.152063</td>\n",
       "      <td>-0.070627</td>\n",
       "    </tr>\n",
       "    <tr>\n",
       "      <th>pdays</th>\n",
       "      <td>-0.019503</td>\n",
       "      <td>-0.028325</td>\n",
       "      <td>-0.037790</td>\n",
       "      <td>-0.046647</td>\n",
       "      <td>0.080097</td>\n",
       "      <td>-0.010528</td>\n",
       "      <td>0.000376</td>\n",
       "      <td>0.117995</td>\n",
       "      <td>-0.040546</td>\n",
       "      <td>-0.009523</td>\n",
       "      <td>...</td>\n",
       "      <td>0.058944</td>\n",
       "      <td>1.000000</td>\n",
       "      <td>-0.571342</td>\n",
       "      <td>-0.475513</td>\n",
       "      <td>0.271043</td>\n",
       "      <td>0.080470</td>\n",
       "      <td>-0.097944</td>\n",
       "      <td>0.296432</td>\n",
       "      <td>0.368152</td>\n",
       "      <td>-0.324957</td>\n",
       "    </tr>\n",
       "    <tr>\n",
       "      <th>previous</th>\n",
       "      <td>0.006840</td>\n",
       "      <td>0.019019</td>\n",
       "      <td>0.038887</td>\n",
       "      <td>0.035335</td>\n",
       "      <td>-0.106026</td>\n",
       "      <td>0.021776</td>\n",
       "      <td>-0.000216</td>\n",
       "      <td>-0.227967</td>\n",
       "      <td>0.099803</td>\n",
       "      <td>-0.006251</td>\n",
       "      <td>...</td>\n",
       "      <td>-0.091184</td>\n",
       "      <td>-0.571342</td>\n",
       "      <td>1.000000</td>\n",
       "      <td>-0.379809</td>\n",
       "      <td>-0.453136</td>\n",
       "      <td>-0.253190</td>\n",
       "      <td>-0.059841</td>\n",
       "      <td>-0.479976</td>\n",
       "      <td>-0.510763</td>\n",
       "      <td>0.226449</td>\n",
       "    </tr>\n",
       "    <tr>\n",
       "      <th>poutcome</th>\n",
       "      <td>0.018569</td>\n",
       "      <td>0.011084</td>\n",
       "      <td>0.002185</td>\n",
       "      <td>0.016987</td>\n",
       "      <td>0.023580</td>\n",
       "      <td>-0.011771</td>\n",
       "      <td>-0.001486</td>\n",
       "      <td>0.118773</td>\n",
       "      <td>-0.067220</td>\n",
       "      <td>0.018733</td>\n",
       "      <td>...</td>\n",
       "      <td>0.033230</td>\n",
       "      <td>-0.475513</td>\n",
       "      <td>-0.379809</td>\n",
       "      <td>1.000000</td>\n",
       "      <td>0.193015</td>\n",
       "      <td>0.214435</td>\n",
       "      <td>0.187103</td>\n",
       "      <td>0.184458</td>\n",
       "      <td>0.123404</td>\n",
       "      <td>0.129810</td>\n",
       "    </tr>\n",
       "    <tr>\n",
       "      <th>emp_var_rate</th>\n",
       "      <td>0.027090</td>\n",
       "      <td>-0.008872</td>\n",
       "      <td>-0.084114</td>\n",
       "      <td>-0.043695</td>\n",
       "      <td>0.203280</td>\n",
       "      <td>-0.060248</td>\n",
       "      <td>0.001840</td>\n",
       "      <td>0.393730</td>\n",
       "      <td>-0.172045</td>\n",
       "      <td>0.033288</td>\n",
       "      <td>...</td>\n",
       "      <td>0.157984</td>\n",
       "      <td>0.271043</td>\n",
       "      <td>-0.453136</td>\n",
       "      <td>0.193015</td>\n",
       "      <td>1.000000</td>\n",
       "      <td>0.780345</td>\n",
       "      <td>0.212807</td>\n",
       "      <td>0.972480</td>\n",
       "      <td>0.916952</td>\n",
       "      <td>-0.298289</td>\n",
       "    </tr>\n",
       "    <tr>\n",
       "      <th>cons_price_idx</th>\n",
       "      <td>0.016213</td>\n",
       "      <td>-0.016564</td>\n",
       "      <td>-0.057899</td>\n",
       "      <td>-0.081941</td>\n",
       "      <td>0.170146</td>\n",
       "      <td>-0.082447</td>\n",
       "      <td>-0.002620</td>\n",
       "      <td>0.600379</td>\n",
       "      <td>-0.014040</td>\n",
       "      <td>0.005734</td>\n",
       "      <td>...</td>\n",
       "      <td>0.126510</td>\n",
       "      <td>0.080470</td>\n",
       "      <td>-0.253190</td>\n",
       "      <td>0.214435</td>\n",
       "      <td>0.780345</td>\n",
       "      <td>1.000000</td>\n",
       "      <td>0.099805</td>\n",
       "      <td>0.696189</td>\n",
       "      <td>0.548689</td>\n",
       "      <td>-0.137400</td>\n",
       "    </tr>\n",
       "    <tr>\n",
       "      <th>cons_conf_idx</th>\n",
       "      <td>0.122678</td>\n",
       "      <td>0.054493</td>\n",
       "      <td>-0.033700</td>\n",
       "      <td>0.083535</td>\n",
       "      <td>0.026616</td>\n",
       "      <td>-0.033344</td>\n",
       "      <td>-0.012103</td>\n",
       "      <td>0.260122</td>\n",
       "      <td>-0.003414</td>\n",
       "      <td>0.041857</td>\n",
       "      <td>...</td>\n",
       "      <td>-0.011963</td>\n",
       "      <td>-0.097944</td>\n",
       "      <td>-0.059841</td>\n",
       "      <td>0.187103</td>\n",
       "      <td>0.212807</td>\n",
       "      <td>0.099805</td>\n",
       "      <td>1.000000</td>\n",
       "      <td>0.290180</td>\n",
       "      <td>0.101513</td>\n",
       "      <td>0.059769</td>\n",
       "    </tr>\n",
       "    <tr>\n",
       "      <th>euribor3m</th>\n",
       "      <td>0.039340</td>\n",
       "      <td>-0.008436</td>\n",
       "      <td>-0.091935</td>\n",
       "      <td>-0.036192</td>\n",
       "      <td>0.195283</td>\n",
       "      <td>-0.059289</td>\n",
       "      <td>0.000089</td>\n",
       "      <td>0.400004</td>\n",
       "      <td>-0.109108</td>\n",
       "      <td>0.039095</td>\n",
       "      <td>...</td>\n",
       "      <td>0.139976</td>\n",
       "      <td>0.296432</td>\n",
       "      <td>-0.479976</td>\n",
       "      <td>0.184458</td>\n",
       "      <td>0.972480</td>\n",
       "      <td>0.696189</td>\n",
       "      <td>0.290180</td>\n",
       "      <td>1.000000</td>\n",
       "      <td>0.950664</td>\n",
       "      <td>-0.307305</td>\n",
       "    </tr>\n",
       "    <tr>\n",
       "      <th>nr_employed</th>\n",
       "      <td>0.015431</td>\n",
       "      <td>-0.018757</td>\n",
       "      <td>-0.086376</td>\n",
       "      <td>-0.040224</td>\n",
       "      <td>0.190041</td>\n",
       "      <td>-0.046247</td>\n",
       "      <td>0.003630</td>\n",
       "      <td>0.271051</td>\n",
       "      <td>-0.202844</td>\n",
       "      <td>0.029001</td>\n",
       "      <td>...</td>\n",
       "      <td>0.152063</td>\n",
       "      <td>0.368152</td>\n",
       "      <td>-0.510763</td>\n",
       "      <td>0.123404</td>\n",
       "      <td>0.916952</td>\n",
       "      <td>0.548689</td>\n",
       "      <td>0.101513</td>\n",
       "      <td>0.950664</td>\n",
       "      <td>1.000000</td>\n",
       "      <td>-0.353427</td>\n",
       "    </tr>\n",
       "    <tr>\n",
       "      <th>y</th>\n",
       "      <td>0.011304</td>\n",
       "      <td>0.025359</td>\n",
       "      <td>0.046195</td>\n",
       "      <td>0.057776</td>\n",
       "      <td>-0.099356</td>\n",
       "      <td>0.011613</td>\n",
       "      <td>-0.004922</td>\n",
       "      <td>-0.144774</td>\n",
       "      <td>-0.012539</td>\n",
       "      <td>0.015970</td>\n",
       "      <td>...</td>\n",
       "      <td>-0.070627</td>\n",
       "      <td>-0.324957</td>\n",
       "      <td>0.226449</td>\n",
       "      <td>0.129810</td>\n",
       "      <td>-0.298289</td>\n",
       "      <td>-0.137400</td>\n",
       "      <td>0.059769</td>\n",
       "      <td>-0.307305</td>\n",
       "      <td>-0.353427</td>\n",
       "      <td>1.000000</td>\n",
       "    </tr>\n",
       "  </tbody>\n",
       "</table>\n",
       "<p>21 rows × 21 columns</p>\n",
       "</div>"
      ],
      "text/plain": [
       "                     age       job   marital  education   default   housing  \\\n",
       "age             1.000000 -0.003779 -0.398928  -0.112983  0.179492 -0.002503   \n",
       "job            -0.003779  1.000000  0.026811   0.134074 -0.030086  0.006935   \n",
       "marital        -0.398928  0.026811  1.000000   0.109150 -0.079421  0.011174   \n",
       "education      -0.112983  0.134074  0.109150   1.000000 -0.186966  0.016891   \n",
       "default         0.179492 -0.030086 -0.079421  -0.186966  1.000000 -0.015725   \n",
       "housing        -0.002503  0.006935  0.011174   0.016891 -0.015725  1.000000   \n",
       "loan           -0.007837 -0.010306  0.005913   0.006441 -0.003744  0.044272   \n",
       "contact         0.017227 -0.025744 -0.054725  -0.105722  0.135488 -0.082098   \n",
       "month          -0.030771 -0.034980 -0.009060  -0.085801 -0.013089 -0.018608   \n",
       "day_of_week    -0.020158 -0.001165  0.002315  -0.017989 -0.008792  0.003339   \n",
       "duration       -0.001567 -0.005576  0.010120  -0.015646 -0.011593 -0.009330   \n",
       "campaign        0.007301 -0.006909 -0.009856   0.004378  0.037194 -0.011835   \n",
       "pdays          -0.019503 -0.028325 -0.037790  -0.046647  0.080097 -0.010528   \n",
       "previous        0.006840  0.019019  0.038887   0.035335 -0.106026  0.021776   \n",
       "poutcome        0.018569  0.011084  0.002185   0.016987  0.023580 -0.011771   \n",
       "emp_var_rate    0.027090 -0.008872 -0.084114  -0.043695  0.203280 -0.060248   \n",
       "cons_price_idx  0.016213 -0.016564 -0.057899  -0.081941  0.170146 -0.082447   \n",
       "cons_conf_idx   0.122678  0.054493 -0.033700   0.083535  0.026616 -0.033344   \n",
       "euribor3m       0.039340 -0.008436 -0.091935  -0.036192  0.195283 -0.059289   \n",
       "nr_employed     0.015431 -0.018757 -0.086376  -0.040224  0.190041 -0.046247   \n",
       "y               0.011304  0.025359  0.046195   0.057776 -0.099356  0.011613   \n",
       "\n",
       "                    loan   contact     month  day_of_week  ...  campaign  \\\n",
       "age            -0.007837  0.017227 -0.030771    -0.020158  ...  0.007301   \n",
       "job            -0.010306 -0.025744 -0.034980    -0.001165  ... -0.006909   \n",
       "marital         0.005913 -0.054725 -0.009060     0.002315  ... -0.009856   \n",
       "education       0.006441 -0.105722 -0.085801    -0.017989  ...  0.004378   \n",
       "default        -0.003744  0.135488 -0.013089    -0.008792  ...  0.037194   \n",
       "housing         0.044272 -0.082098 -0.018608     0.003339  ... -0.011835   \n",
       "loan            1.000000 -0.008589 -0.005705    -0.009345  ...  0.007990   \n",
       "contact        -0.008589  1.000000  0.282233    -0.009614  ...  0.077773   \n",
       "month          -0.005705  0.282233  1.000000     0.027649  ... -0.067271   \n",
       "day_of_week    -0.009345 -0.009614  0.027649     1.000000  ... -0.042952   \n",
       "duration       -0.004274 -0.032971  0.004020     0.026292  ... -0.074564   \n",
       "campaign        0.007990  0.077773 -0.067271    -0.042952  ...  1.000000   \n",
       "pdays           0.000376  0.117995 -0.040546    -0.009523  ...  0.058944   \n",
       "previous       -0.000216 -0.227967  0.099803    -0.006251  ... -0.091184   \n",
       "poutcome       -0.001486  0.118773 -0.067220     0.018733  ...  0.033230   \n",
       "emp_var_rate    0.001840  0.393730 -0.172045     0.033288  ...  0.157984   \n",
       "cons_price_idx -0.002620  0.600379 -0.014040     0.005734  ...  0.126510   \n",
       "cons_conf_idx  -0.012103  0.260122 -0.003414     0.041857  ... -0.011963   \n",
       "euribor3m       0.000089  0.400004 -0.109108     0.039095  ...  0.139976   \n",
       "nr_employed     0.003630  0.271051 -0.202844     0.029001  ...  0.152063   \n",
       "y              -0.004922 -0.144774 -0.012539     0.015970  ... -0.070627   \n",
       "\n",
       "                   pdays  previous  poutcome  emp_var_rate  cons_price_idx  \\\n",
       "age            -0.019503  0.006840  0.018569      0.027090        0.016213   \n",
       "job            -0.028325  0.019019  0.011084     -0.008872       -0.016564   \n",
       "marital        -0.037790  0.038887  0.002185     -0.084114       -0.057899   \n",
       "education      -0.046647  0.035335  0.016987     -0.043695       -0.081941   \n",
       "default         0.080097 -0.106026  0.023580      0.203280        0.170146   \n",
       "housing        -0.010528  0.021776 -0.011771     -0.060248       -0.082447   \n",
       "loan            0.000376 -0.000216 -0.001486      0.001840       -0.002620   \n",
       "contact         0.117995 -0.227967  0.118773      0.393730        0.600379   \n",
       "month          -0.040546  0.099803 -0.067220     -0.172045       -0.014040   \n",
       "day_of_week    -0.009523 -0.006251  0.018733      0.033288        0.005734   \n",
       "duration       -0.055781  0.025643  0.035670     -0.034119        0.003575   \n",
       "campaign        0.058944 -0.091184  0.033230      0.157984        0.126510   \n",
       "pdays           1.000000 -0.571342 -0.475513      0.271043        0.080470   \n",
       "previous       -0.571342  1.000000 -0.379809     -0.453136       -0.253190   \n",
       "poutcome       -0.475513 -0.379809  1.000000      0.193015        0.214435   \n",
       "emp_var_rate    0.271043 -0.453136  0.193015      1.000000        0.780345   \n",
       "cons_price_idx  0.080470 -0.253190  0.214435      0.780345        1.000000   \n",
       "cons_conf_idx  -0.097944 -0.059841  0.187103      0.212807        0.099805   \n",
       "euribor3m       0.296432 -0.479976  0.184458      0.972480        0.696189   \n",
       "nr_employed     0.368152 -0.510763  0.123404      0.916952        0.548689   \n",
       "y              -0.324957  0.226449  0.129810     -0.298289       -0.137400   \n",
       "\n",
       "                cons_conf_idx  euribor3m  nr_employed         y  \n",
       "age                  0.122678   0.039340     0.015431  0.011304  \n",
       "job                  0.054493  -0.008436    -0.018757  0.025359  \n",
       "marital             -0.033700  -0.091935    -0.086376  0.046195  \n",
       "education            0.083535  -0.036192    -0.040224  0.057776  \n",
       "default              0.026616   0.195283     0.190041 -0.099356  \n",
       "housing             -0.033344  -0.059289    -0.046247  0.011613  \n",
       "loan                -0.012103   0.000089     0.003630 -0.004922  \n",
       "contact              0.260122   0.400004     0.271051 -0.144774  \n",
       "month               -0.003414  -0.109108    -0.202844 -0.012539  \n",
       "day_of_week          0.041857   0.039095     0.029001  0.015970  \n",
       "duration            -0.009955  -0.040565    -0.053204  0.422698  \n",
       "campaign            -0.011963   0.139976     0.152063 -0.070627  \n",
       "pdays               -0.097944   0.296432     0.368152 -0.324957  \n",
       "previous            -0.059841  -0.479976    -0.510763  0.226449  \n",
       "poutcome             0.187103   0.184458     0.123404  0.129810  \n",
       "emp_var_rate         0.212807   0.972480     0.916952 -0.298289  \n",
       "cons_price_idx       0.099805   0.696189     0.548689 -0.137400  \n",
       "cons_conf_idx        1.000000   0.290180     0.101513  0.059769  \n",
       "euribor3m            0.290180   1.000000     0.950664 -0.307305  \n",
       "nr_employed          0.101513   0.950664     1.000000 -0.353427  \n",
       "y                    0.059769  -0.307305    -0.353427  1.000000  \n",
       "\n",
       "[21 rows x 21 columns]"
      ]
     },
     "execution_count": 33,
     "metadata": {},
     "output_type": "execute_result"
    }
   ],
   "source": [
    "corr = df1.corr()\n",
    "corr"
   ]
  },
  {
   "cell_type": "code",
   "execution_count": 34,
   "id": "d994a4db",
   "metadata": {},
   "outputs": [
    {
     "data": {
      "image/png": "[encoded data removed]",
      "text/plain": [
       "<Figure size 1440x1152 with 2 Axes>"
      ]
     },
     "metadata": {
      "needs_background": "light"
     },
     "output_type": "display_data"
    }
   ],
   "source": [
    "plt.figure(figsize=(20,16))\n",
    "sns.heatmap(corr,annot=True,cmap='coolwarm')\n",
    "plt.show()"
   ]
  },
  {
   "cell_type": "code",
   "execution_count": 35,
   "id": "ab98a6c2",
   "metadata": {},
   "outputs": [
    {
     "name": "stdout",
     "output_type": "stream",
     "text": [
      "['cons_price_idx', 'euribor3m', 'nr_employed']\n",
      "3\n"
     ]
    }
   ],
   "source": [
    "def high_corr(data, thresh):\n",
    "    res = set()\n",
    "    corr = data.corr()\n",
    "    for i in range(len(corr.columns)):\n",
    "        for j in range(i):\n",
    "            if corr.iloc[i,j] >= thresh:\n",
    "                res.add(corr.columns[i])\n",
    "    return list(res)\n",
    "\n",
    "multicoll_cols = high_corr(df1,0.7)\n",
    "print(multicoll_cols)\n",
    "print(len(multicoll_cols))"
   ]
  },
  {
   "cell_type": "markdown",
   "id": "388f0c38",
   "metadata": {},
   "source": [
    "### Inference\n",
    "- Columns with multicollinearity are:<br>\n",
    "['cons_price_idx', 'nr_employed', 'euribor3m']"
   ]
  },
  {
   "cell_type": "code",
   "execution_count": 36,
   "id": "cade906c",
   "metadata": {},
   "outputs": [],
   "source": [
    "df2=df1.copy()"
   ]
  },
  {
   "cell_type": "code",
   "execution_count": 37,
   "id": "aed9e235",
   "metadata": {},
   "outputs": [
    {
     "name": "stdout",
     "output_type": "stream",
     "text": [
      "18\n",
      "Index(['age', 'job', 'marital', 'education', 'default', 'housing', 'loan',\n",
      "       'contact', 'month', 'day_of_week', 'duration', 'campaign', 'pdays',\n",
      "       'previous', 'poutcome', 'emp_var_rate', 'cons_conf_idx', 'y'],\n",
      "      dtype='object')\n"
     ]
    }
   ],
   "source": [
    "df2.drop(['cons_price_idx', 'nr_employed', 'euribor3m'],axis=1,inplace=True)\n",
    "print(len(df2.columns))\n",
    "print(df2.columns)"
   ]
  },
  {
   "cell_type": "code",
   "execution_count": 38,
   "id": "7959f26d",
   "metadata": {},
   "outputs": [
    {
     "data": {
      "text/plain": [
       "float64    11\n",
       "int64       7\n",
       "dtype: int64"
      ]
     },
     "execution_count": 38,
     "metadata": {},
     "output_type": "execute_result"
    }
   ],
   "source": [
    "df2.dtypes.value_counts()"
   ]
  },
  {
   "cell_type": "markdown",
   "id": "e9291459",
   "metadata": {},
   "source": [
    "### We will now train models: \n",
    "#### Training models with multicollinearity"
   ]
  },
  {
   "cell_type": "code",
   "execution_count": 39,
   "id": "bd8b83f7",
   "metadata": {},
   "outputs": [
    {
     "name": "stdout",
     "output_type": "stream",
     "text": [
      "(41176, 20)\n",
      "(41176,)\n",
      "Index(['age', 'job', 'marital', 'education', 'default', 'housing', 'loan',\n",
      "       'contact', 'month', 'day_of_week', 'duration', 'campaign', 'pdays',\n",
      "       'previous', 'poutcome', 'emp_var_rate', 'cons_price_idx',\n",
      "       'cons_conf_idx', 'euribor3m', 'nr_employed'],\n",
      "      dtype='object')\n"
     ]
    }
   ],
   "source": [
    "x = df1.drop('y',axis=1)\n",
    "y = df1['y']\n",
    "print(x.shape)\n",
    "print(y.shape)\n",
    "print(x.columns)"
   ]
  },
  {
   "cell_type": "markdown",
   "id": "2c5fdaa1",
   "metadata": {},
   "source": [
    "## Logistic Regression-1"
   ]
  },
  {
   "cell_type": "markdown",
   "id": "47ec49f2",
   "metadata": {},
   "source": [
    "<b>1. Split the data into training and test sets"
   ]
  },
  {
   "cell_type": "code",
   "execution_count": 40,
   "id": "1d7d73d7",
   "metadata": {},
   "outputs": [],
   "source": [
    "from sklearn.model_selection import train_test_split"
   ]
  },
  {
   "cell_type": "code",
   "execution_count": 41,
   "id": "d53859e4",
   "metadata": {},
   "outputs": [
    {
     "name": "stdout",
     "output_type": "stream",
     "text": [
      "(26764, 20)\n",
      "(14412, 20)\n",
      "(26764,)\n",
      "(14412,)\n"
     ]
    }
   ],
   "source": [
    "x_train,x_test,y_train,y_test = train_test_split(x,y,test_size=0.35,random_state=42)\n",
    "print(x_train.shape)\n",
    "print(x_test.shape)\n",
    "print(y_train.shape)\n",
    "print(y_test.shape)"
   ]
  },
  {
   "cell_type": "markdown",
   "id": "f05c974a",
   "metadata": {},
   "source": [
    "<b> 2. Building a Model"
   ]
  },
  {
   "cell_type": "code",
   "execution_count": 42,
   "id": "3a013e72",
   "metadata": {},
   "outputs": [],
   "source": [
    "from sklearn.linear_model import LogisticRegression\n",
    "from sklearn.metrics import roc_auc_score,f1_score,accuracy_score,confusion_matrix,classification_report"
   ]
  },
  {
   "cell_type": "code",
   "execution_count": 43,
   "id": "0a3839be",
   "metadata": {},
   "outputs": [
    {
     "data": {
      "text/html": [
       "<style>#sk-container-id-1 {color: black;background-color: white;}#sk-container-id-1 pre{padding: 0;}#sk-container-id-1 div.sk-toggleable {background-color: white;}#sk-container-id-1 label.sk-toggleable__label {cursor: pointer;display: block;width: 100%;margin-bottom: 0;padding: 0.3em;box-sizing: border-box;text-align: center;}#sk-container-id-1 label.sk-toggleable__label-arrow:before {content: \"▸\";float: left;margin-right: 0.25em;color: #696969;}#sk-container-id-1 label.sk-toggleable__label-arrow:hover:before {color: black;}#sk-container-id-1 div.sk-estimator:hover label.sk-toggleable__label-arrow:before {color: black;}#sk-container-id-1 div.sk-toggleable__content {max-height: 0;max-width: 0;overflow: hidden;text-align: left;background-color: #f0f8ff;}#sk-container-id-1 div.sk-toggleable__content pre {margin: 0.2em;color: black;border-radius: 0.25em;background-color: #f0f8ff;}#sk-container-id-1 input.sk-toggleable__control:checked~div.sk-toggleable__content {max-height: 200px;max-width: 100%;overflow: auto;}#sk-container-id-1 input.sk-toggleable__control:checked~label.sk-toggleable__label-arrow:before {content: \"▾\";}#sk-container-id-1 div.sk-estimator input.sk-toggleable__control:checked~label.sk-toggleable__label {background-color: #d4ebff;}#sk-container-id-1 div.sk-label input.sk-toggleable__control:checked~label.sk-toggleable__label {background-color: #d4ebff;}#sk-container-id-1 input.sk-hidden--visually {border: 0;clip: rect(1px 1px 1px 1px);clip: rect(1px, 1px, 1px, 1px);height: 1px;margin: -1px;overflow: hidden;padding: 0;position: absolute;width: 1px;}#sk-container-id-1 div.sk-estimator {font-family: monospace;background-color: #f0f8ff;border: 1px dotted black;border-radius: 0.25em;box-sizing: border-box;margin-bottom: 0.5em;}#sk-container-id-1 div.sk-estimator:hover {background-color: #d4ebff;}#sk-container-id-1 div.sk-parallel-item::after {content: \"\";width: 100%;border-bottom: 1px solid gray;flex-grow: 1;}#sk-container-id-1 div.sk-label:hover label.sk-toggleable__label {background-color: #d4ebff;}#sk-container-id-1 div.sk-serial::before {content: \"\";position: absolute;border-left: 1px solid gray;box-sizing: border-box;top: 0;bottom: 0;left: 50%;z-index: 0;}#sk-container-id-1 div.sk-serial {display: flex;flex-direction: column;align-items: center;background-color: white;padding-right: 0.2em;padding-left: 0.2em;position: relative;}#sk-container-id-1 div.sk-item {position: relative;z-index: 1;}#sk-container-id-1 div.sk-parallel {display: flex;align-items: stretch;justify-content: center;background-color: white;position: relative;}#sk-container-id-1 div.sk-item::before, #sk-container-id-1 div.sk-parallel-item::before {content: \"\";position: absolute;border-left: 1px solid gray;box-sizing: border-box;top: 0;bottom: 0;left: 50%;z-index: -1;}#sk-container-id-1 div.sk-parallel-item {display: flex;flex-direction: column;z-index: 1;position: relative;background-color: white;}#sk-container-id-1 div.sk-parallel-item:first-child::after {align-self: flex-end;width: 50%;}#sk-container-id-1 div.sk-parallel-item:last-child::after {align-self: flex-start;width: 50%;}#sk-container-id-1 div.sk-parallel-item:only-child::after {width: 0;}#sk-container-id-1 div.sk-dashed-wrapped {border: 1px dashed gray;margin: 0 0.4em 0.5em 0.4em;box-sizing: border-box;padding-bottom: 0.4em;background-color: white;}#sk-container-id-1 div.sk-label label {font-family: monospace;font-weight: bold;display: inline-block;line-height: 1.2em;}#sk-container-id-1 div.sk-label-container {text-align: center;}#sk-container-id-1 div.sk-container {/* jupyter's `normalize.less` sets `[hidden] { display: none; }` but bootstrap.min.css set `[hidden] { display: none !important; }` so we also need the `!important` here to be able to override the default hidden behavior on the sphinx rendered scikit-learn.org. See: https://github.com/scikit-learn/scikit-learn/issues/21755 */display: inline-block !important;position: relative;}#sk-container-id-1 div.sk-text-repr-fallback {display: none;}</style><div id=\"sk-container-id-1\" class=\"sk-top-container\"><div class=\"sk-text-repr-fallback\"><pre>LogisticRegression(max_iter=1000)</pre><b>In a Jupyter environment, please rerun this cell to show the HTML representation or trust the notebook. <br />On GitHub, the HTML representation is unable to render, please try loading this page with nbviewer.org.</b></div><div class=\"sk-container\" hidden><div class=\"sk-item\"><div class=\"sk-estimator sk-toggleable\"><input class=\"sk-toggleable__control sk-hidden--visually\" id=\"sk-estimator-id-1\" type=\"checkbox\" checked><label for=\"sk-estimator-id-1\" class=\"sk-toggleable__label sk-toggleable__label-arrow\">LogisticRegression</label><div class=\"sk-toggleable__content\"><pre>LogisticRegression(max_iter=1000)</pre></div></div></div></div></div>"
      ],
      "text/plain": [
       "LogisticRegression(max_iter=1000)"
      ]
     },
     "execution_count": 43,
     "metadata": {},
     "output_type": "execute_result"
    }
   ],
   "source": [
    "m1 = LogisticRegression(max_iter=1000)\n",
    "m1.fit(x_train,y_train)"
   ]
  },
  {
   "cell_type": "markdown",
   "id": "be0abee4",
   "metadata": {},
   "source": [
    "<b> 3. Predicting the Y-Pred Values"
   ]
  },
  {
   "cell_type": "code",
   "execution_count": 44,
   "id": "27c2c036",
   "metadata": {},
   "outputs": [
    {
     "name": "stdout",
     "output_type": "stream",
     "text": [
      "[0 0 0 ... 0 0 0]\n"
     ]
    }
   ],
   "source": [
    "ypred_m1 = m1.predict(x_test)\n",
    "print(ypred_m1)"
   ]
  },
  {
   "cell_type": "markdown",
   "id": "f1638a6e",
   "metadata": {},
   "source": [
    "<b>4. Computing accuracy measures"
   ]
  },
  {
   "cell_type": "code",
   "execution_count": 45,
   "id": "b4da32a3",
   "metadata": {},
   "outputs": [],
   "source": [
    "def gen_metrics(model,x_train,x_test,y_train,y_test,ypred):\n",
    "    print('Training score',model.score(x_train,y_train))\n",
    "    print('Testing score',model.score(x_test,y_test))\n",
    "    cm = confusion_matrix(y_test,ypred)\n",
    "    print(cm)\n",
    "    print(classification_report(y_test,ypred))"
   ]
  },
  {
   "cell_type": "code",
   "execution_count": 46,
   "id": "48ea6e63",
   "metadata": {},
   "outputs": [
    {
     "name": "stdout",
     "output_type": "stream",
     "text": [
      "Training score 0.9121954864743685\n",
      "Testing score 0.9095892311962254\n",
      "[[12350   447]\n",
      " [  856   759]]\n",
      "              precision    recall  f1-score   support\n",
      "\n",
      "           0       0.94      0.97      0.95     12797\n",
      "           1       0.63      0.47      0.54      1615\n",
      "\n",
      "    accuracy                           0.91     14412\n",
      "   macro avg       0.78      0.72      0.74     14412\n",
      "weighted avg       0.90      0.91      0.90     14412\n",
      "\n"
     ]
    }
   ],
   "source": [
    "gen_metrics(m1,x_train,x_test,y_train,y_test,ypred_m1)"
   ]
  },
  {
   "cell_type": "code",
   "execution_count": 47,
   "id": "f45c49ad",
   "metadata": {},
   "outputs": [],
   "source": [
    "from sklearn.metrics import roc_auc_score,roc_curve"
   ]
  },
  {
   "cell_type": "code",
   "execution_count": 48,
   "id": "41f49fb4",
   "metadata": {},
   "outputs": [
    {
     "name": "stdout",
     "output_type": "stream",
     "text": [
      "Area Under Curve 0.9269081061229765\n"
     ]
    }
   ],
   "source": [
    "auc_score = roc_auc_score(y_test,m1.predict_proba(x_test)[:,1])\n",
    "print('Area Under Curve',auc_score)"
   ]
  },
  {
   "cell_type": "code",
   "execution_count": 49,
   "id": "6fd9e868",
   "metadata": {},
   "outputs": [
    {
     "data": {
      "image/png": "[encoded data removed]",
      "text/plain": [
       "<Figure size 432x288 with 1 Axes>"
      ]
     },
     "metadata": {
      "needs_background": "light"
     },
     "output_type": "display_data"
    }
   ],
   "source": [
    "fpr,tpr,thresh = roc_curve(y_test,m1.predict_proba(x_test)[:,1])\n",
    "plt.plot(fpr,tpr,color='orange')\n",
    "plt.plot([0,1],[0,1],label='TPR=FPR')\n",
    "plt.title('ROC_AUC Curve')\n",
    "plt.xlabel('FPR')\n",
    "plt.ylabel('TPR')\n",
    "plt.grid()\n",
    "plt.legend()\n",
    "plt.show()"
   ]
  },
  {
   "cell_type": "markdown",
   "id": "bff84e33",
   "metadata": {},
   "source": [
    "### Cross Validation"
   ]
  },
  {
   "cell_type": "code",
   "execution_count": 50,
   "id": "5d0e78ec",
   "metadata": {},
   "outputs": [],
   "source": [
    "from sklearn.model_selection import cross_val_score,KFold"
   ]
  },
  {
   "cell_type": "code",
   "execution_count": 51,
   "id": "13c5c44e",
   "metadata": {},
   "outputs": [
    {
     "name": "stdout",
     "output_type": "stream",
     "text": [
      "[0.90602234 0.9137931  0.91743565 0.90723652 0.905051   0.91427878\n",
      " 0.90769978 0.90867136 0.91328637 0.91668691]\n",
      "0.9110161812633694\n"
     ]
    }
   ],
   "source": [
    "kf = KFold(n_splits=10)\n",
    "m2 = LogisticRegression(max_iter=1000)\n",
    "m2.fit(x_train,y_train)\n",
    "scores = cross_val_score(m2,x,y,cv=kf,scoring='accuracy')\n",
    "print(scores)\n",
    "print(scores.mean())"
   ]
  },
  {
   "cell_type": "markdown",
   "id": "6737f403",
   "metadata": {},
   "source": [
    "<b> So the range of our accuracy is between 0.905 to 0.917 but generally 0.911 on average"
   ]
  },
  {
   "cell_type": "code",
   "execution_count": 52,
   "id": "003e73bf",
   "metadata": {},
   "outputs": [
    {
     "data": {
      "image/png": "[encoded data removed]",
      "text/plain": [
       "<Figure size 432x288 with 1 Axes>"
      ]
     },
     "metadata": {
      "needs_background": "light"
     },
     "output_type": "display_data"
    }
   ],
   "source": [
    "fpr,tpr,thresh = roc_curve(y_test,m2.predict_proba(x_test)[:,1])\n",
    "plt.plot(fpr,tpr,color='orange')\n",
    "plt.plot([0,1],[0,1],label='TPR=FPR')\n",
    "plt.title('ROC_AUC Curve')\n",
    "plt.xlabel('FPR')\n",
    "plt.ylabel('TPR')\n",
    "plt.grid()\n",
    "plt.legend()\n",
    "plt.show()"
   ]
  },
  {
   "cell_type": "markdown",
   "id": "8bab5ca5",
   "metadata": {},
   "source": [
    "### SGDClassifier-1"
   ]
  },
  {
   "cell_type": "code",
   "execution_count": 53,
   "id": "0b9b2287",
   "metadata": {},
   "outputs": [],
   "source": [
    "from sklearn.linear_model import SGDClassifier"
   ]
  },
  {
   "cell_type": "code",
   "execution_count": 87,
   "id": "24fe47ae",
   "metadata": {},
   "outputs": [
    {
     "data": {
      "text/html": [
       "<style>#sk-container-id-4 {color: black;background-color: white;}#sk-container-id-4 pre{padding: 0;}#sk-container-id-4 div.sk-toggleable {background-color: white;}#sk-container-id-4 label.sk-toggleable__label {cursor: pointer;display: block;width: 100%;margin-bottom: 0;padding: 0.3em;box-sizing: border-box;text-align: center;}#sk-container-id-4 label.sk-toggleable__label-arrow:before {content: \"▸\";float: left;margin-right: 0.25em;color: #696969;}#sk-container-id-4 label.sk-toggleable__label-arrow:hover:before {color: black;}#sk-container-id-4 div.sk-estimator:hover label.sk-toggleable__label-arrow:before {color: black;}#sk-container-id-4 div.sk-toggleable__content {max-height: 0;max-width: 0;overflow: hidden;text-align: left;background-color: #f0f8ff;}#sk-container-id-4 div.sk-toggleable__content pre {margin: 0.2em;color: black;border-radius: 0.25em;background-color: #f0f8ff;}#sk-container-id-4 input.sk-toggleable__control:checked~div.sk-toggleable__content {max-height: 200px;max-width: 100%;overflow: auto;}#sk-container-id-4 input.sk-toggleable__control:checked~label.sk-toggleable__label-arrow:before {content: \"▾\";}#sk-container-id-4 div.sk-estimator input.sk-toggleable__control:checked~label.sk-toggleable__label {background-color: #d4ebff;}#sk-container-id-4 div.sk-label input.sk-toggleable__control:checked~label.sk-toggleable__label {background-color: #d4ebff;}#sk-container-id-4 input.sk-hidden--visually {border: 0;clip: rect(1px 1px 1px 1px);clip: rect(1px, 1px, 1px, 1px);height: 1px;margin: -1px;overflow: hidden;padding: 0;position: absolute;width: 1px;}#sk-container-id-4 div.sk-estimator {font-family: monospace;background-color: #f0f8ff;border: 1px dotted black;border-radius: 0.25em;box-sizing: border-box;margin-bottom: 0.5em;}#sk-container-id-4 div.sk-estimator:hover {background-color: #d4ebff;}#sk-container-id-4 div.sk-parallel-item::after {content: \"\";width: 100%;border-bottom: 1px solid gray;flex-grow: 1;}#sk-container-id-4 div.sk-label:hover label.sk-toggleable__label {background-color: #d4ebff;}#sk-container-id-4 div.sk-serial::before {content: \"\";position: absolute;border-left: 1px solid gray;box-sizing: border-box;top: 0;bottom: 0;left: 50%;z-index: 0;}#sk-container-id-4 div.sk-serial {display: flex;flex-direction: column;align-items: center;background-color: white;padding-right: 0.2em;padding-left: 0.2em;position: relative;}#sk-container-id-4 div.sk-item {position: relative;z-index: 1;}#sk-container-id-4 div.sk-parallel {display: flex;align-items: stretch;justify-content: center;background-color: white;position: relative;}#sk-container-id-4 div.sk-item::before, #sk-container-id-4 div.sk-parallel-item::before {content: \"\";position: absolute;border-left: 1px solid gray;box-sizing: border-box;top: 0;bottom: 0;left: 50%;z-index: -1;}#sk-container-id-4 div.sk-parallel-item {display: flex;flex-direction: column;z-index: 1;position: relative;background-color: white;}#sk-container-id-4 div.sk-parallel-item:first-child::after {align-self: flex-end;width: 50%;}#sk-container-id-4 div.sk-parallel-item:last-child::after {align-self: flex-start;width: 50%;}#sk-container-id-4 div.sk-parallel-item:only-child::after {width: 0;}#sk-container-id-4 div.sk-dashed-wrapped {border: 1px dashed gray;margin: 0 0.4em 0.5em 0.4em;box-sizing: border-box;padding-bottom: 0.4em;background-color: white;}#sk-container-id-4 div.sk-label label {font-family: monospace;font-weight: bold;display: inline-block;line-height: 1.2em;}#sk-container-id-4 div.sk-label-container {text-align: center;}#sk-container-id-4 div.sk-container {/* jupyter's `normalize.less` sets `[hidden] { display: none; }` but bootstrap.min.css set `[hidden] { display: none !important; }` so we also need the `!important` here to be able to override the default hidden behavior on the sphinx rendered scikit-learn.org. See: https://github.com/scikit-learn/scikit-learn/issues/21755 */display: inline-block !important;position: relative;}#sk-container-id-4 div.sk-text-repr-fallback {display: none;}</style><div id=\"sk-container-id-4\" class=\"sk-top-container\"><div class=\"sk-text-repr-fallback\"><pre>SGDClassifier(eta0=0.001, loss=&#x27;log&#x27;, max_iter=250)</pre><b>In a Jupyter environment, please rerun this cell to show the HTML representation or trust the notebook. <br />On GitHub, the HTML representation is unable to render, please try loading this page with nbviewer.org.</b></div><div class=\"sk-container\" hidden><div class=\"sk-item\"><div class=\"sk-estimator sk-toggleable\"><input class=\"sk-toggleable__control sk-hidden--visually\" id=\"sk-estimator-id-4\" type=\"checkbox\" checked><label for=\"sk-estimator-id-4\" class=\"sk-toggleable__label sk-toggleable__label-arrow\">SGDClassifier</label><div class=\"sk-toggleable__content\"><pre>SGDClassifier(eta0=0.001, loss=&#x27;log&#x27;, max_iter=250)</pre></div></div></div></div></div>"
      ],
      "text/plain": [
       "SGDClassifier(eta0=0.001, loss='log', max_iter=250)"
      ]
     },
     "execution_count": 87,
     "metadata": {},
     "output_type": "execute_result"
    }
   ],
   "source": [
    "m4 = SGDClassifier(max_iter=250,eta0=0.001,loss='log')\n",
    "m4.fit(x_train,y_train)"
   ]
  },
  {
   "cell_type": "code",
   "execution_count": 88,
   "id": "9388b011",
   "metadata": {},
   "outputs": [
    {
     "name": "stdout",
     "output_type": "stream",
     "text": [
      "[0 0 0 ... 0 0 0]\n"
     ]
    }
   ],
   "source": [
    "ypred_m4 = m4.predict(x_test)\n",
    "print(ypred_m4)"
   ]
  },
  {
   "cell_type": "code",
   "execution_count": 89,
   "id": "8521b4af",
   "metadata": {},
   "outputs": [
    {
     "name": "stdout",
     "output_type": "stream",
     "text": [
      "Training score 0.898557764160813\n",
      "Testing score 0.8927282819872329\n",
      "[[11935   862]\n",
      " [  684   931]]\n",
      "              precision    recall  f1-score   support\n",
      "\n",
      "           0       0.95      0.93      0.94     12797\n",
      "           1       0.52      0.58      0.55      1615\n",
      "\n",
      "    accuracy                           0.89     14412\n",
      "   macro avg       0.73      0.75      0.74     14412\n",
      "weighted avg       0.90      0.89      0.90     14412\n",
      "\n"
     ]
    }
   ],
   "source": [
    "gen_metrics(m4,x_train,x_test,y_train,y_test,ypred_m4)"
   ]
  },
  {
   "cell_type": "code",
   "execution_count": 90,
   "id": "3a127374",
   "metadata": {},
   "outputs": [],
   "source": [
    "y_pred_prob_sgd = m4.predict_proba(x_test)[:,1]\n",
    "y_pred_sgd = m4.predict(x_test)"
   ]
  },
  {
   "cell_type": "code",
   "execution_count": 91,
   "id": "28c5f821",
   "metadata": {},
   "outputs": [
    {
     "name": "stdout",
     "output_type": "stream",
     "text": [
      "Area Under Curve 0.7618526352562799\n"
     ]
    }
   ],
   "source": [
    "auc_score = roc_auc_score(y_test,m4.predict_proba(x_test)[:,1])\n",
    "print('Area Under Curve',auc_score)"
   ]
  },
  {
   "cell_type": "code",
   "execution_count": 92,
   "id": "ba395b24",
   "metadata": {},
   "outputs": [
    {
     "data": {
      "image/png": "[encoded data removed]",
      "text/plain": [
       "<Figure size 432x288 with 1 Axes>"
      ]
     },
     "metadata": {
      "needs_background": "light"
     },
     "output_type": "display_data"
    }
   ],
   "source": [
    "fpr,tpr,thresh = roc_curve(y_test,m4.predict_proba(x_test)[:,1])\n",
    "plt.plot(fpr,tpr,color='orange')\n",
    "plt.plot([0,1],[0,1],label='TPR=FPR')\n",
    "plt.title('ROC_AUC Curve')\n",
    "plt.xlabel('FPR')\n",
    "plt.ylabel('TPR')\n",
    "plt.grid()\n",
    "plt.legend()\n",
    "plt.show()"
   ]
  },
  {
   "cell_type": "markdown",
   "id": "713e993c",
   "metadata": {},
   "source": [
    "### MLE Model-1"
   ]
  },
  {
   "cell_type": "code",
   "execution_count": 60,
   "id": "1ad3e2c2",
   "metadata": {},
   "outputs": [],
   "source": [
    "import statsmodels.api as sm"
   ]
  },
  {
   "cell_type": "code",
   "execution_count": 61,
   "id": "9785201e",
   "metadata": {},
   "outputs": [
    {
     "name": "stdout",
     "output_type": "stream",
     "text": [
      "Optimization terminated successfully.\n",
      "         Current function value: 0.202649\n",
      "         Iterations 8\n"
     ]
    },
    {
     "data": {
      "text/html": [
       "<table class=\"simpletable\">\n",
       "<caption>Logit Regression Results</caption>\n",
       "<tr>\n",
       "  <th>Dep. Variable:</th>           <td>y</td>        <th>  No. Observations:  </th>  <td> 26764</td> \n",
       "</tr>\n",
       "<tr>\n",
       "  <th>Model:</th>                 <td>Logit</td>      <th>  Df Residuals:      </th>  <td> 26744</td> \n",
       "</tr>\n",
       "<tr>\n",
       "  <th>Method:</th>                 <td>MLE</td>       <th>  Df Model:          </th>  <td>    19</td> \n",
       "</tr>\n",
       "<tr>\n",
       "  <th>Date:</th>            <td>Sat, 23 Jul 2022</td> <th>  Pseudo R-squ.:     </th>  <td>0.4255</td> \n",
       "</tr>\n",
       "<tr>\n",
       "  <th>Time:</th>                <td>16:18:10</td>     <th>  Log-Likelihood:    </th> <td> -5423.7</td>\n",
       "</tr>\n",
       "<tr>\n",
       "  <th>converged:</th>             <td>True</td>       <th>  LL-Null:           </th> <td> -9440.1</td>\n",
       "</tr>\n",
       "<tr>\n",
       "  <th>Covariance Type:</th>     <td>nonrobust</td>    <th>  LLR p-value:       </th>  <td> 0.000</td> \n",
       "</tr>\n",
       "</table>\n",
       "<table class=\"simpletable\">\n",
       "<tr>\n",
       "         <td></td>           <th>coef</th>     <th>std err</th>      <th>z</th>      <th>P>|z|</th>  <th>[0.025</th>    <th>0.975]</th>  \n",
       "</tr>\n",
       "<tr>\n",
       "  <th>age</th>            <td>    0.0035</td> <td>    0.003</td> <td>    1.274</td> <td> 0.203</td> <td>   -0.002</td> <td>    0.009</td>\n",
       "</tr>\n",
       "<tr>\n",
       "  <th>job</th>            <td>    0.0092</td> <td>    0.007</td> <td>    1.295</td> <td> 0.195</td> <td>   -0.005</td> <td>    0.023</td>\n",
       "</tr>\n",
       "<tr>\n",
       "  <th>marital</th>        <td>    0.1213</td> <td>    0.047</td> <td>    2.577</td> <td> 0.010</td> <td>    0.029</td> <td>    0.213</td>\n",
       "</tr>\n",
       "<tr>\n",
       "  <th>education</th>      <td>    0.0498</td> <td>    0.012</td> <td>    3.995</td> <td> 0.000</td> <td>    0.025</td> <td>    0.074</td>\n",
       "</tr>\n",
       "<tr>\n",
       "  <th>default</th>        <td>   -0.3732</td> <td>    0.082</td> <td>   -4.524</td> <td> 0.000</td> <td>   -0.535</td> <td>   -0.211</td>\n",
       "</tr>\n",
       "<tr>\n",
       "  <th>housing</th>        <td>    0.0227</td> <td>    0.026</td> <td>    0.877</td> <td> 0.380</td> <td>   -0.028</td> <td>    0.073</td>\n",
       "</tr>\n",
       "<tr>\n",
       "  <th>loan</th>           <td>   -0.0231</td> <td>    0.035</td> <td>   -0.654</td> <td> 0.513</td> <td>   -0.092</td> <td>    0.046</td>\n",
       "</tr>\n",
       "<tr>\n",
       "  <th>contact</th>        <td>   -0.7486</td> <td>    0.076</td> <td>   -9.857</td> <td> 0.000</td> <td>   -0.898</td> <td>   -0.600</td>\n",
       "</tr>\n",
       "<tr>\n",
       "  <th>month</th>          <td>   -0.1152</td> <td>    0.011</td> <td>  -10.755</td> <td> 0.000</td> <td>   -0.136</td> <td>   -0.094</td>\n",
       "</tr>\n",
       "<tr>\n",
       "  <th>day_of_week</th>    <td>    0.0578</td> <td>    0.018</td> <td>    3.135</td> <td> 0.002</td> <td>    0.022</td> <td>    0.094</td>\n",
       "</tr>\n",
       "<tr>\n",
       "  <th>duration</th>       <td>    0.0057</td> <td>    0.000</td> <td>   55.718</td> <td> 0.000</td> <td>    0.005</td> <td>    0.006</td>\n",
       "</tr>\n",
       "<tr>\n",
       "  <th>campaign</th>       <td>   -0.0424</td> <td>    0.016</td> <td>   -2.648</td> <td> 0.008</td> <td>   -0.074</td> <td>   -0.011</td>\n",
       "</tr>\n",
       "<tr>\n",
       "  <th>pdays</th>          <td>   -0.0009</td> <td>    0.000</td> <td>   -3.620</td> <td> 0.000</td> <td>   -0.001</td> <td>   -0.000</td>\n",
       "</tr>\n",
       "<tr>\n",
       "  <th>previous</th>       <td>   -0.0686</td> <td>    0.107</td> <td>   -0.643</td> <td> 0.520</td> <td>   -0.278</td> <td>    0.141</td>\n",
       "</tr>\n",
       "<tr>\n",
       "  <th>poutcome</th>       <td>    0.6176</td> <td>    0.120</td> <td>    5.137</td> <td> 0.000</td> <td>    0.382</td> <td>    0.853</td>\n",
       "</tr>\n",
       "<tr>\n",
       "  <th>emp_var_rate</th>   <td>   -0.9524</td> <td>    0.082</td> <td>  -11.643</td> <td> 0.000</td> <td>   -1.113</td> <td>   -0.792</td>\n",
       "</tr>\n",
       "<tr>\n",
       "  <th>cons_price_idx</th> <td>    0.7661</td> <td>    0.043</td> <td>   17.781</td> <td> 0.000</td> <td>    0.682</td> <td>    0.851</td>\n",
       "</tr>\n",
       "<tr>\n",
       "  <th>cons_conf_idx</th>  <td>    0.0217</td> <td>    0.006</td> <td>    3.462</td> <td> 0.001</td> <td>    0.009</td> <td>    0.034</td>\n",
       "</tr>\n",
       "<tr>\n",
       "  <th>euribor3m</th>      <td>    0.6938</td> <td>    0.097</td> <td>    7.139</td> <td> 0.000</td> <td>    0.503</td> <td>    0.884</td>\n",
       "</tr>\n",
       "<tr>\n",
       "  <th>nr_employed</th>    <td>   -0.0150</td> <td>    0.001</td> <td>  -17.615</td> <td> 0.000</td> <td>   -0.017</td> <td>   -0.013</td>\n",
       "</tr>\n",
       "</table>"
      ],
      "text/plain": [
       "<class 'statsmodels.iolib.summary.Summary'>\n",
       "\"\"\"\n",
       "                           Logit Regression Results                           \n",
       "==============================================================================\n",
       "Dep. Variable:                      y   No. Observations:                26764\n",
       "Model:                          Logit   Df Residuals:                    26744\n",
       "Method:                           MLE   Df Model:                           19\n",
       "Date:                Sat, 23 Jul 2022   Pseudo R-squ.:                  0.4255\n",
       "Time:                        16:18:10   Log-Likelihood:                -5423.7\n",
       "converged:                       True   LL-Null:                       -9440.1\n",
       "Covariance Type:            nonrobust   LLR p-value:                     0.000\n",
       "==================================================================================\n",
       "                     coef    std err          z      P>|z|      [0.025      0.975]\n",
       "----------------------------------------------------------------------------------\n",
       "age                0.0035      0.003      1.274      0.203      -0.002       0.009\n",
       "job                0.0092      0.007      1.295      0.195      -0.005       0.023\n",
       "marital            0.1213      0.047      2.577      0.010       0.029       0.213\n",
       "education          0.0498      0.012      3.995      0.000       0.025       0.074\n",
       "default           -0.3732      0.082     -4.524      0.000      -0.535      -0.211\n",
       "housing            0.0227      0.026      0.877      0.380      -0.028       0.073\n",
       "loan              -0.0231      0.035     -0.654      0.513      -0.092       0.046\n",
       "contact           -0.7486      0.076     -9.857      0.000      -0.898      -0.600\n",
       "month             -0.1152      0.011    -10.755      0.000      -0.136      -0.094\n",
       "day_of_week        0.0578      0.018      3.135      0.002       0.022       0.094\n",
       "duration           0.0057      0.000     55.718      0.000       0.005       0.006\n",
       "campaign          -0.0424      0.016     -2.648      0.008      -0.074      -0.011\n",
       "pdays             -0.0009      0.000     -3.620      0.000      -0.001      -0.000\n",
       "previous          -0.0686      0.107     -0.643      0.520      -0.278       0.141\n",
       "poutcome           0.6176      0.120      5.137      0.000       0.382       0.853\n",
       "emp_var_rate      -0.9524      0.082    -11.643      0.000      -1.113      -0.792\n",
       "cons_price_idx     0.7661      0.043     17.781      0.000       0.682       0.851\n",
       "cons_conf_idx      0.0217      0.006      3.462      0.001       0.009       0.034\n",
       "euribor3m          0.6938      0.097      7.139      0.000       0.503       0.884\n",
       "nr_employed       -0.0150      0.001    -17.615      0.000      -0.017      -0.013\n",
       "==================================================================================\n",
       "\"\"\""
      ]
     },
     "execution_count": 61,
     "metadata": {},
     "output_type": "execute_result"
    }
   ],
   "source": [
    "log_mle_model = sm.Logit(y_train,x_train).fit()\n",
    "log_mle_model.summary()"
   ]
  },
  {
   "cell_type": "code",
   "execution_count": 62,
   "id": "6e6ba97b",
   "metadata": {},
   "outputs": [],
   "source": [
    "y_pred_prob_mle = log_mle_model.predict(x_test)\n",
    "y_pred_mle = [0 if x < 0.5 else 1 for x in y_pred_prob_mle]"
   ]
  },
  {
   "cell_type": "code",
   "execution_count": 63,
   "id": "d07fae41",
   "metadata": {},
   "outputs": [
    {
     "name": "stdout",
     "output_type": "stream",
     "text": [
      "[[12367   430]\n",
      " [  874   741]]\n",
      "              precision    recall  f1-score   support\n",
      "\n",
      "           0       0.93      0.97      0.95     12797\n",
      "           1       0.63      0.46      0.53      1615\n",
      "\n",
      "    accuracy                           0.91     14412\n",
      "   macro avg       0.78      0.71      0.74     14412\n",
      "weighted avg       0.90      0.91      0.90     14412\n",
      "\n"
     ]
    }
   ],
   "source": [
    "cm = confusion_matrix(y_test,y_pred_mle)\n",
    "print(cm)\n",
    "print(classification_report(y_test,y_pred_mle))"
   ]
  },
  {
   "cell_type": "code",
   "execution_count": 64,
   "id": "61747c29",
   "metadata": {},
   "outputs": [
    {
     "data": {
      "image/png": "[encoded data removed]",
      "text/plain": [
       "<Figure size 432x288 with 1 Axes>"
      ]
     },
     "metadata": {
      "needs_background": "light"
     },
     "output_type": "display_data"
    }
   ],
   "source": [
    "fpr,tpr,thresh = roc_curve(y_test,y_pred_prob_mle)\n",
    "plt.plot(fpr,tpr,color='orange')\n",
    "plt.plot([0,1],[0,1],label='TPR=FPR')\n",
    "plt.title('ROC_AUC Curve')\n",
    "plt.xlabel('FPR')\n",
    "plt.ylabel('TPR')\n",
    "plt.text(x = 0.02, y = 0.9, s = ('AUC Score:',round(roc_auc_score(y_test, y_pred_prob_mle),4)))\n",
    "plt.grid()\n",
    "plt.legend()\n",
    "plt.show()"
   ]
  },
  {
   "cell_type": "markdown",
   "id": "0ee066ed",
   "metadata": {},
   "source": [
    "### Training models without multicollinearity:"
   ]
  },
  {
   "cell_type": "code",
   "execution_count": 65,
   "id": "e6573e8a",
   "metadata": {},
   "outputs": [
    {
     "name": "stdout",
     "output_type": "stream",
     "text": [
      "(41176, 17)\n",
      "(41176,)\n",
      "Index(['age', 'job', 'marital', 'education', 'default', 'housing', 'loan',\n",
      "       'contact', 'month', 'day_of_week', 'duration', 'campaign', 'pdays',\n",
      "       'previous', 'poutcome', 'emp_var_rate', 'cons_conf_idx'],\n",
      "      dtype='object')\n"
     ]
    }
   ],
   "source": [
    "x1 = df2.drop('y',axis=1)\n",
    "y1 = df2['y']\n",
    "print(x1.shape)\n",
    "print(y1.shape)\n",
    "print(x1.columns)"
   ]
  },
  {
   "cell_type": "code",
   "execution_count": 66,
   "id": "d6cf6c5e",
   "metadata": {},
   "outputs": [
    {
     "name": "stdout",
     "output_type": "stream",
     "text": [
      "(26764, 17)\n",
      "(14412, 17)\n",
      "(26764,)\n",
      "(14412,)\n"
     ]
    }
   ],
   "source": [
    "x_train1,x_test1,y_train1,y_test1 = train_test_split(x1,y1,test_size=0.35,random_state=42)\n",
    "print(x_train1.shape)\n",
    "print(x_test1.shape)\n",
    "print(y_train1.shape)\n",
    "print(y_test1.shape)"
   ]
  },
  {
   "cell_type": "markdown",
   "id": "b9ae9021",
   "metadata": {},
   "source": [
    "### Logistic Regression-2"
   ]
  },
  {
   "cell_type": "code",
   "execution_count": 67,
   "id": "542f7a7c",
   "metadata": {},
   "outputs": [
    {
     "name": "stdout",
     "output_type": "stream",
     "text": [
      "[0 0 0 ... 0 0 0]\n"
     ]
    }
   ],
   "source": [
    "m3 = LogisticRegression(max_iter=1000)\n",
    "m3.fit(x_train1,y_train1)\n",
    "ypred_m3 = m3.predict(x_test1)\n",
    "print(ypred_m3)"
   ]
  },
  {
   "cell_type": "code",
   "execution_count": 68,
   "id": "f126313e",
   "metadata": {},
   "outputs": [
    {
     "name": "stdout",
     "output_type": "stream",
     "text": [
      "Training score 0.9071513973994919\n",
      "Testing score 0.9075076325284485\n",
      "[[12372   425]\n",
      " [  908   707]]\n",
      "              precision    recall  f1-score   support\n",
      "\n",
      "           0       0.93      0.97      0.95     12797\n",
      "           1       0.62      0.44      0.51      1615\n",
      "\n",
      "    accuracy                           0.91     14412\n",
      "   macro avg       0.78      0.70      0.73     14412\n",
      "weighted avg       0.90      0.91      0.90     14412\n",
      "\n"
     ]
    }
   ],
   "source": [
    "gen_metrics(m3,x_train1,x_test1,y_train1,y_test1,ypred_m3)"
   ]
  },
  {
   "cell_type": "code",
   "execution_count": 69,
   "id": "7a47fc66",
   "metadata": {},
   "outputs": [
    {
     "data": {
      "image/png": "[encoded data removed]",
      "text/plain": [
       "<Figure size 432x288 with 1 Axes>"
      ]
     },
     "metadata": {
      "needs_background": "light"
     },
     "output_type": "display_data"
    }
   ],
   "source": [
    "fpr,tpr,thresh = roc_curve(y_test,m3.predict_proba(x_test1)[:,1])\n",
    "plt.plot(fpr,tpr,color='orange')\n",
    "plt.plot([0,1],[0,1],label='TPR=FPR')\n",
    "plt.title('ROC_AUC Curve')\n",
    "plt.xlabel('FPR')\n",
    "plt.ylabel('TPR')\n",
    "plt.grid()\n",
    "plt.legend()\n",
    "plt.show()"
   ]
  },
  {
   "cell_type": "markdown",
   "id": "81773fe3",
   "metadata": {},
   "source": [
    "### SGDClassifier-2"
   ]
  },
  {
   "cell_type": "code",
   "execution_count": 99,
   "id": "05bd0e81",
   "metadata": {},
   "outputs": [
    {
     "data": {
      "text/html": [
       "<style>#sk-container-id-6 {color: black;background-color: white;}#sk-container-id-6 pre{padding: 0;}#sk-container-id-6 div.sk-toggleable {background-color: white;}#sk-container-id-6 label.sk-toggleable__label {cursor: pointer;display: block;width: 100%;margin-bottom: 0;padding: 0.3em;box-sizing: border-box;text-align: center;}#sk-container-id-6 label.sk-toggleable__label-arrow:before {content: \"▸\";float: left;margin-right: 0.25em;color: #696969;}#sk-container-id-6 label.sk-toggleable__label-arrow:hover:before {color: black;}#sk-container-id-6 div.sk-estimator:hover label.sk-toggleable__label-arrow:before {color: black;}#sk-container-id-6 div.sk-toggleable__content {max-height: 0;max-width: 0;overflow: hidden;text-align: left;background-color: #f0f8ff;}#sk-container-id-6 div.sk-toggleable__content pre {margin: 0.2em;color: black;border-radius: 0.25em;background-color: #f0f8ff;}#sk-container-id-6 input.sk-toggleable__control:checked~div.sk-toggleable__content {max-height: 200px;max-width: 100%;overflow: auto;}#sk-container-id-6 input.sk-toggleable__control:checked~label.sk-toggleable__label-arrow:before {content: \"▾\";}#sk-container-id-6 div.sk-estimator input.sk-toggleable__control:checked~label.sk-toggleable__label {background-color: #d4ebff;}#sk-container-id-6 div.sk-label input.sk-toggleable__control:checked~label.sk-toggleable__label {background-color: #d4ebff;}#sk-container-id-6 input.sk-hidden--visually {border: 0;clip: rect(1px 1px 1px 1px);clip: rect(1px, 1px, 1px, 1px);height: 1px;margin: -1px;overflow: hidden;padding: 0;position: absolute;width: 1px;}#sk-container-id-6 div.sk-estimator {font-family: monospace;background-color: #f0f8ff;border: 1px dotted black;border-radius: 0.25em;box-sizing: border-box;margin-bottom: 0.5em;}#sk-container-id-6 div.sk-estimator:hover {background-color: #d4ebff;}#sk-container-id-6 div.sk-parallel-item::after {content: \"\";width: 100%;border-bottom: 1px solid gray;flex-grow: 1;}#sk-container-id-6 div.sk-label:hover label.sk-toggleable__label {background-color: #d4ebff;}#sk-container-id-6 div.sk-serial::before {content: \"\";position: absolute;border-left: 1px solid gray;box-sizing: border-box;top: 0;bottom: 0;left: 50%;z-index: 0;}#sk-container-id-6 div.sk-serial {display: flex;flex-direction: column;align-items: center;background-color: white;padding-right: 0.2em;padding-left: 0.2em;position: relative;}#sk-container-id-6 div.sk-item {position: relative;z-index: 1;}#sk-container-id-6 div.sk-parallel {display: flex;align-items: stretch;justify-content: center;background-color: white;position: relative;}#sk-container-id-6 div.sk-item::before, #sk-container-id-6 div.sk-parallel-item::before {content: \"\";position: absolute;border-left: 1px solid gray;box-sizing: border-box;top: 0;bottom: 0;left: 50%;z-index: -1;}#sk-container-id-6 div.sk-parallel-item {display: flex;flex-direction: column;z-index: 1;position: relative;background-color: white;}#sk-container-id-6 div.sk-parallel-item:first-child::after {align-self: flex-end;width: 50%;}#sk-container-id-6 div.sk-parallel-item:last-child::after {align-self: flex-start;width: 50%;}#sk-container-id-6 div.sk-parallel-item:only-child::after {width: 0;}#sk-container-id-6 div.sk-dashed-wrapped {border: 1px dashed gray;margin: 0 0.4em 0.5em 0.4em;box-sizing: border-box;padding-bottom: 0.4em;background-color: white;}#sk-container-id-6 div.sk-label label {font-family: monospace;font-weight: bold;display: inline-block;line-height: 1.2em;}#sk-container-id-6 div.sk-label-container {text-align: center;}#sk-container-id-6 div.sk-container {/* jupyter's `normalize.less` sets `[hidden] { display: none; }` but bootstrap.min.css set `[hidden] { display: none !important; }` so we also need the `!important` here to be able to override the default hidden behavior on the sphinx rendered scikit-learn.org. See: https://github.com/scikit-learn/scikit-learn/issues/21755 */display: inline-block !important;position: relative;}#sk-container-id-6 div.sk-text-repr-fallback {display: none;}</style><div id=\"sk-container-id-6\" class=\"sk-top-container\"><div class=\"sk-text-repr-fallback\"><pre>SGDClassifier(eta0=0.001, loss=&#x27;log&#x27;, max_iter=250)</pre><b>In a Jupyter environment, please rerun this cell to show the HTML representation or trust the notebook. <br />On GitHub, the HTML representation is unable to render, please try loading this page with nbviewer.org.</b></div><div class=\"sk-container\" hidden><div class=\"sk-item\"><div class=\"sk-estimator sk-toggleable\"><input class=\"sk-toggleable__control sk-hidden--visually\" id=\"sk-estimator-id-6\" type=\"checkbox\" checked><label for=\"sk-estimator-id-6\" class=\"sk-toggleable__label sk-toggleable__label-arrow\">SGDClassifier</label><div class=\"sk-toggleable__content\"><pre>SGDClassifier(eta0=0.001, loss=&#x27;log&#x27;, max_iter=250)</pre></div></div></div></div></div>"
      ],
      "text/plain": [
       "SGDClassifier(eta0=0.001, loss='log', max_iter=250)"
      ]
     },
     "execution_count": 99,
     "metadata": {},
     "output_type": "execute_result"
    }
   ],
   "source": [
    "m5 = SGDClassifier(max_iter=250,eta0=0.001,loss='log')\n",
    "m5.fit(x_train1,y_train1)"
   ]
  },
  {
   "cell_type": "code",
   "execution_count": 100,
   "id": "bc773ef1",
   "metadata": {},
   "outputs": [
    {
     "name": "stdout",
     "output_type": "stream",
     "text": [
      "[0 0 0 ... 0 0 0]\n"
     ]
    }
   ],
   "source": [
    "ypred_m5 = m5.predict(x_test1)\n",
    "print(ypred_m5)"
   ]
  },
  {
   "cell_type": "code",
   "execution_count": 101,
   "id": "36fe9e34",
   "metadata": {},
   "outputs": [
    {
     "name": "stdout",
     "output_type": "stream",
     "text": [
      "Training score 0.9047974891645494\n",
      "Testing score 0.9055648071051902\n",
      "[[12449   348]\n",
      " [ 1013   602]]\n",
      "              precision    recall  f1-score   support\n",
      "\n",
      "           0       0.92      0.97      0.95     12797\n",
      "           1       0.63      0.37      0.47      1615\n",
      "\n",
      "    accuracy                           0.91     14412\n",
      "   macro avg       0.78      0.67      0.71     14412\n",
      "weighted avg       0.89      0.91      0.89     14412\n",
      "\n"
     ]
    }
   ],
   "source": [
    "gen_metrics(m5,x_train1,x_test1,y_train1,y_test1,ypred_m5)"
   ]
  },
  {
   "cell_type": "code",
   "execution_count": 102,
   "id": "45d5144e",
   "metadata": {},
   "outputs": [],
   "source": [
    "y_pred_prob_sgd2= m5.predict_proba(x_test1)[:,1]\n",
    "y_pred_sgd2 = m5.predict(x_test1)"
   ]
  },
  {
   "cell_type": "code",
   "execution_count": 103,
   "id": "b02acd3a",
   "metadata": {},
   "outputs": [
    {
     "name": "stdout",
     "output_type": "stream",
     "text": [
      "Area Under Curve 0.7846369517236408\n"
     ]
    }
   ],
   "source": [
    "auc_score = roc_auc_score(y_test1,m5.predict_proba(x_test1)[:,1])\n",
    "print('Area Under Curve',auc_score)"
   ]
  },
  {
   "cell_type": "code",
   "execution_count": 104,
   "id": "ceb00f75",
   "metadata": {},
   "outputs": [
    {
     "data": {
      "image/png": "[encoded data removed]",
      "text/plain": [
       "<Figure size 432x288 with 1 Axes>"
      ]
     },
     "metadata": {
      "needs_background": "light"
     },
     "output_type": "display_data"
    }
   ],
   "source": [
    "fpr,tpr,thresh = roc_curve(y_test1,m5.predict_proba(x_test1)[:,1])\n",
    "plt.plot(fpr,tpr,color='orange')\n",
    "plt.plot([0,1],[0,1],label='TPR=FPR')\n",
    "plt.title('ROC_AUC Curve')\n",
    "plt.xlabel('FPR')\n",
    "plt.ylabel('TPR')\n",
    "plt.grid()\n",
    "plt.legend()\n",
    "plt.show()"
   ]
  },
  {
   "cell_type": "markdown",
   "id": "d692dff7",
   "metadata": {},
   "source": [
    "### MLE Model-2"
   ]
  },
  {
   "cell_type": "code",
   "execution_count": 76,
   "id": "0805daa8",
   "metadata": {},
   "outputs": [
    {
     "name": "stdout",
     "output_type": "stream",
     "text": [
      "Optimization terminated successfully.\n",
      "         Current function value: 0.213155\n",
      "         Iterations 8\n"
     ]
    },
    {
     "data": {
      "text/html": [
       "<table class=\"simpletable\">\n",
       "<caption>Logit Regression Results</caption>\n",
       "<tr>\n",
       "  <th>Dep. Variable:</th>           <td>y</td>        <th>  No. Observations:  </th>  <td> 26764</td> \n",
       "</tr>\n",
       "<tr>\n",
       "  <th>Model:</th>                 <td>Logit</td>      <th>  Df Residuals:      </th>  <td> 26747</td> \n",
       "</tr>\n",
       "<tr>\n",
       "  <th>Method:</th>                 <td>MLE</td>       <th>  Df Model:          </th>  <td>    16</td> \n",
       "</tr>\n",
       "<tr>\n",
       "  <th>Date:</th>            <td>Sat, 23 Jul 2022</td> <th>  Pseudo R-squ.:     </th>  <td>0.3957</td> \n",
       "</tr>\n",
       "<tr>\n",
       "  <th>Time:</th>                <td>16:18:13</td>     <th>  Log-Likelihood:    </th> <td> -5704.9</td>\n",
       "</tr>\n",
       "<tr>\n",
       "  <th>converged:</th>             <td>True</td>       <th>  LL-Null:           </th> <td> -9440.1</td>\n",
       "</tr>\n",
       "<tr>\n",
       "  <th>Covariance Type:</th>     <td>nonrobust</td>    <th>  LLR p-value:       </th>  <td> 0.000</td> \n",
       "</tr>\n",
       "</table>\n",
       "<table class=\"simpletable\">\n",
       "<tr>\n",
       "        <td></td>           <th>coef</th>     <th>std err</th>      <th>z</th>      <th>P>|z|</th>  <th>[0.025</th>    <th>0.975]</th>  \n",
       "</tr>\n",
       "<tr>\n",
       "  <th>age</th>           <td>   -0.0002</td> <td>    0.002</td> <td>   -0.061</td> <td> 0.951</td> <td>   -0.005</td> <td>    0.005</td>\n",
       "</tr>\n",
       "<tr>\n",
       "  <th>job</th>           <td>    0.0089</td> <td>    0.007</td> <td>    1.289</td> <td> 0.197</td> <td>   -0.005</td> <td>    0.022</td>\n",
       "</tr>\n",
       "<tr>\n",
       "  <th>marital</th>       <td>    0.0859</td> <td>    0.045</td> <td>    1.929</td> <td> 0.054</td> <td>   -0.001</td> <td>    0.173</td>\n",
       "</tr>\n",
       "<tr>\n",
       "  <th>education</th>     <td>    0.0438</td> <td>    0.012</td> <td>    3.639</td> <td> 0.000</td> <td>    0.020</td> <td>    0.067</td>\n",
       "</tr>\n",
       "<tr>\n",
       "  <th>default</th>       <td>   -0.4826</td> <td>    0.081</td> <td>   -5.964</td> <td> 0.000</td> <td>   -0.641</td> <td>   -0.324</td>\n",
       "</tr>\n",
       "<tr>\n",
       "  <th>housing</th>       <td>    0.0141</td> <td>    0.025</td> <td>    0.561</td> <td> 0.575</td> <td>   -0.035</td> <td>    0.064</td>\n",
       "</tr>\n",
       "<tr>\n",
       "  <th>loan</th>          <td>   -0.0291</td> <td>    0.034</td> <td>   -0.844</td> <td> 0.398</td> <td>   -0.097</td> <td>    0.038</td>\n",
       "</tr>\n",
       "<tr>\n",
       "  <th>contact</th>       <td>   -0.3887</td> <td>    0.070</td> <td>   -5.562</td> <td> 0.000</td> <td>   -0.526</td> <td>   -0.252</td>\n",
       "</tr>\n",
       "<tr>\n",
       "  <th>month</th>         <td>   -0.0767</td> <td>    0.010</td> <td>   -7.765</td> <td> 0.000</td> <td>   -0.096</td> <td>   -0.057</td>\n",
       "</tr>\n",
       "<tr>\n",
       "  <th>day_of_week</th>   <td>    0.0364</td> <td>    0.018</td> <td>    2.044</td> <td> 0.041</td> <td>    0.002</td> <td>    0.071</td>\n",
       "</tr>\n",
       "<tr>\n",
       "  <th>duration</th>      <td>    0.0055</td> <td>  9.8e-05</td> <td>   56.232</td> <td> 0.000</td> <td>    0.005</td> <td>    0.006</td>\n",
       "</tr>\n",
       "<tr>\n",
       "  <th>campaign</th>      <td>   -0.0552</td> <td>    0.016</td> <td>   -3.536</td> <td> 0.000</td> <td>   -0.086</td> <td>   -0.025</td>\n",
       "</tr>\n",
       "<tr>\n",
       "  <th>pdays</th>         <td>   -0.0020</td> <td>    0.000</td> <td>  -12.610</td> <td> 0.000</td> <td>   -0.002</td> <td>   -0.002</td>\n",
       "</tr>\n",
       "<tr>\n",
       "  <th>previous</th>      <td>   -0.1071</td> <td>    0.074</td> <td>   -1.445</td> <td> 0.148</td> <td>   -0.252</td> <td>    0.038</td>\n",
       "</tr>\n",
       "<tr>\n",
       "  <th>poutcome</th>      <td>    0.2722</td> <td>    0.078</td> <td>    3.493</td> <td> 0.000</td> <td>    0.119</td> <td>    0.425</td>\n",
       "</tr>\n",
       "<tr>\n",
       "  <th>emp_var_rate</th>  <td>   -0.6065</td> <td>    0.018</td> <td>  -33.284</td> <td> 0.000</td> <td>   -0.642</td> <td>   -0.571</td>\n",
       "</tr>\n",
       "<tr>\n",
       "  <th>cons_conf_idx</th> <td>    0.0594</td> <td>    0.004</td> <td>   14.256</td> <td> 0.000</td> <td>    0.051</td> <td>    0.068</td>\n",
       "</tr>\n",
       "</table>"
      ],
      "text/plain": [
       "<class 'statsmodels.iolib.summary.Summary'>\n",
       "\"\"\"\n",
       "                           Logit Regression Results                           \n",
       "==============================================================================\n",
       "Dep. Variable:                      y   No. Observations:                26764\n",
       "Model:                          Logit   Df Residuals:                    26747\n",
       "Method:                           MLE   Df Model:                           16\n",
       "Date:                Sat, 23 Jul 2022   Pseudo R-squ.:                  0.3957\n",
       "Time:                        16:18:13   Log-Likelihood:                -5704.9\n",
       "converged:                       True   LL-Null:                       -9440.1\n",
       "Covariance Type:            nonrobust   LLR p-value:                     0.000\n",
       "=================================================================================\n",
       "                    coef    std err          z      P>|z|      [0.025      0.975]\n",
       "---------------------------------------------------------------------------------\n",
       "age              -0.0002      0.002     -0.061      0.951      -0.005       0.005\n",
       "job               0.0089      0.007      1.289      0.197      -0.005       0.022\n",
       "marital           0.0859      0.045      1.929      0.054      -0.001       0.173\n",
       "education         0.0438      0.012      3.639      0.000       0.020       0.067\n",
       "default          -0.4826      0.081     -5.964      0.000      -0.641      -0.324\n",
       "housing           0.0141      0.025      0.561      0.575      -0.035       0.064\n",
       "loan             -0.0291      0.034     -0.844      0.398      -0.097       0.038\n",
       "contact          -0.3887      0.070     -5.562      0.000      -0.526      -0.252\n",
       "month            -0.0767      0.010     -7.765      0.000      -0.096      -0.057\n",
       "day_of_week       0.0364      0.018      2.044      0.041       0.002       0.071\n",
       "duration          0.0055    9.8e-05     56.232      0.000       0.005       0.006\n",
       "campaign         -0.0552      0.016     -3.536      0.000      -0.086      -0.025\n",
       "pdays            -0.0020      0.000    -12.610      0.000      -0.002      -0.002\n",
       "previous         -0.1071      0.074     -1.445      0.148      -0.252       0.038\n",
       "poutcome          0.2722      0.078      3.493      0.000       0.119       0.425\n",
       "emp_var_rate     -0.6065      0.018    -33.284      0.000      -0.642      -0.571\n",
       "cons_conf_idx     0.0594      0.004     14.256      0.000       0.051       0.068\n",
       "=================================================================================\n",
       "\"\"\""
      ]
     },
     "execution_count": 76,
     "metadata": {},
     "output_type": "execute_result"
    }
   ],
   "source": [
    "log_mle_model2 = sm.Logit(y_train1,x_train1).fit()\n",
    "log_mle_model2.summary()"
   ]
  },
  {
   "cell_type": "code",
   "execution_count": 77,
   "id": "b13b6441",
   "metadata": {},
   "outputs": [],
   "source": [
    "y_pred_prob_mle2 = log_mle_model2.predict(x_test1)\n",
    "y_pred_mle2 = [0 if x < 0.5 else 1 for x in y_pred_prob_mle2]"
   ]
  },
  {
   "cell_type": "code",
   "execution_count": 78,
   "id": "7cadf3c4",
   "metadata": {},
   "outputs": [
    {
     "name": "stdout",
     "output_type": "stream",
     "text": [
      "[[12375   422]\n",
      " [  906   709]]\n",
      "              precision    recall  f1-score   support\n",
      "\n",
      "           0       0.93      0.97      0.95     12797\n",
      "           1       0.63      0.44      0.52      1615\n",
      "\n",
      "    accuracy                           0.91     14412\n",
      "   macro avg       0.78      0.70      0.73     14412\n",
      "weighted avg       0.90      0.91      0.90     14412\n",
      "\n"
     ]
    }
   ],
   "source": [
    "cm1 = confusion_matrix(y_test1,y_pred_mle2)\n",
    "print(cm1)\n",
    "print(classification_report(y_test1,y_pred_mle2))"
   ]
  },
  {
   "cell_type": "code",
   "execution_count": 79,
   "id": "21473487",
   "metadata": {},
   "outputs": [
    {
     "data": {
      "image/png": "[encoded data removed]",
      "text/plain": [
       "<Figure size 432x288 with 1 Axes>"
      ]
     },
     "metadata": {
      "needs_background": "light"
     },
     "output_type": "display_data"
    }
   ],
   "source": [
    "fpr,tpr,thresh = roc_curve(y_test1,y_pred_prob_mle2)\n",
    "plt.plot(fpr,tpr,color='orange')\n",
    "plt.plot([0,1],[0,1],label='TPR=FPR')\n",
    "plt.title('ROC_AUC Curve')\n",
    "plt.xlabel('FPR')\n",
    "plt.ylabel('TPR')\n",
    "plt.text(x = 0.02, y = 0.9, s = ('AUC Score:',round(roc_auc_score(y_test1, y_pred_prob_mle2),4)))\n",
    "plt.grid()\n",
    "plt.legend()\n",
    "plt.show()"
   ]
  },
  {
   "cell_type": "markdown",
   "id": "78ba655a",
   "metadata": {},
   "source": [
    "### MLE Model-3 \n",
    "<b>- after removing columns having P>|z| value greater than 0.5"
   ]
  },
  {
   "cell_type": "code",
   "execution_count": 80,
   "id": "a56e2360",
   "metadata": {},
   "outputs": [],
   "source": [
    "x_train2=x_train1.drop(['age','housing'],axis=1)\n",
    "x_test2=x_test1.drop(['age','housing'],axis=1)"
   ]
  },
  {
   "cell_type": "code",
   "execution_count": 81,
   "id": "7e634570",
   "metadata": {},
   "outputs": [
    {
     "name": "stdout",
     "output_type": "stream",
     "text": [
      "Optimization terminated successfully.\n",
      "         Current function value: 0.213161\n",
      "         Iterations 8\n"
     ]
    },
    {
     "data": {
      "text/html": [
       "<table class=\"simpletable\">\n",
       "<caption>Logit Regression Results</caption>\n",
       "<tr>\n",
       "  <th>Dep. Variable:</th>           <td>y</td>        <th>  No. Observations:  </th>  <td> 26764</td> \n",
       "</tr>\n",
       "<tr>\n",
       "  <th>Model:</th>                 <td>Logit</td>      <th>  Df Residuals:      </th>  <td> 26749</td> \n",
       "</tr>\n",
       "<tr>\n",
       "  <th>Method:</th>                 <td>MLE</td>       <th>  Df Model:          </th>  <td>    14</td> \n",
       "</tr>\n",
       "<tr>\n",
       "  <th>Date:</th>            <td>Sat, 23 Jul 2022</td> <th>  Pseudo R-squ.:     </th>  <td>0.3957</td> \n",
       "</tr>\n",
       "<tr>\n",
       "  <th>Time:</th>                <td>16:18:14</td>     <th>  Log-Likelihood:    </th> <td> -5705.0</td>\n",
       "</tr>\n",
       "<tr>\n",
       "  <th>converged:</th>             <td>True</td>       <th>  LL-Null:           </th> <td> -9440.1</td>\n",
       "</tr>\n",
       "<tr>\n",
       "  <th>Covariance Type:</th>     <td>nonrobust</td>    <th>  LLR p-value:       </th>  <td> 0.000</td> \n",
       "</tr>\n",
       "</table>\n",
       "<table class=\"simpletable\">\n",
       "<tr>\n",
       "        <td></td>           <th>coef</th>     <th>std err</th>      <th>z</th>      <th>P>|z|</th>  <th>[0.025</th>    <th>0.975]</th>  \n",
       "</tr>\n",
       "<tr>\n",
       "  <th>job</th>           <td>    0.0089</td> <td>    0.007</td> <td>    1.295</td> <td> 0.195</td> <td>   -0.005</td> <td>    0.022</td>\n",
       "</tr>\n",
       "<tr>\n",
       "  <th>marital</th>       <td>    0.0871</td> <td>    0.041</td> <td>    2.139</td> <td> 0.032</td> <td>    0.007</td> <td>    0.167</td>\n",
       "</tr>\n",
       "<tr>\n",
       "  <th>education</th>     <td>    0.0440</td> <td>    0.012</td> <td>    3.663</td> <td> 0.000</td> <td>    0.020</td> <td>    0.068</td>\n",
       "</tr>\n",
       "<tr>\n",
       "  <th>default</th>       <td>   -0.4831</td> <td>    0.080</td> <td>   -6.017</td> <td> 0.000</td> <td>   -0.640</td> <td>   -0.326</td>\n",
       "</tr>\n",
       "<tr>\n",
       "  <th>loan</th>          <td>   -0.0282</td> <td>    0.034</td> <td>   -0.819</td> <td> 0.413</td> <td>   -0.096</td> <td>    0.039</td>\n",
       "</tr>\n",
       "<tr>\n",
       "  <th>contact</th>       <td>   -0.3902</td> <td>    0.070</td> <td>   -5.589</td> <td> 0.000</td> <td>   -0.527</td> <td>   -0.253</td>\n",
       "</tr>\n",
       "<tr>\n",
       "  <th>month</th>         <td>   -0.0767</td> <td>    0.010</td> <td>   -7.764</td> <td> 0.000</td> <td>   -0.096</td> <td>   -0.057</td>\n",
       "</tr>\n",
       "<tr>\n",
       "  <th>day_of_week</th>   <td>    0.0365</td> <td>    0.018</td> <td>    2.050</td> <td> 0.040</td> <td>    0.002</td> <td>    0.071</td>\n",
       "</tr>\n",
       "<tr>\n",
       "  <th>duration</th>      <td>    0.0055</td> <td> 9.79e-05</td> <td>   56.241</td> <td> 0.000</td> <td>    0.005</td> <td>    0.006</td>\n",
       "</tr>\n",
       "<tr>\n",
       "  <th>campaign</th>      <td>   -0.0551</td> <td>    0.016</td> <td>   -3.532</td> <td> 0.000</td> <td>   -0.086</td> <td>   -0.025</td>\n",
       "</tr>\n",
       "<tr>\n",
       "  <th>pdays</th>         <td>   -0.0020</td> <td>    0.000</td> <td>  -14.502</td> <td> 0.000</td> <td>   -0.002</td> <td>   -0.002</td>\n",
       "</tr>\n",
       "<tr>\n",
       "  <th>previous</th>      <td>   -0.1070</td> <td>    0.067</td> <td>   -1.601</td> <td> 0.109</td> <td>   -0.238</td> <td>    0.024</td>\n",
       "</tr>\n",
       "<tr>\n",
       "  <th>poutcome</th>      <td>    0.2731</td> <td>    0.068</td> <td>    3.992</td> <td> 0.000</td> <td>    0.139</td> <td>    0.407</td>\n",
       "</tr>\n",
       "<tr>\n",
       "  <th>emp_var_rate</th>  <td>   -0.6067</td> <td>    0.018</td> <td>  -33.581</td> <td> 0.000</td> <td>   -0.642</td> <td>   -0.571</td>\n",
       "</tr>\n",
       "<tr>\n",
       "  <th>cons_conf_idx</th> <td>    0.0593</td> <td>    0.004</td> <td>   14.247</td> <td> 0.000</td> <td>    0.051</td> <td>    0.067</td>\n",
       "</tr>\n",
       "</table>"
      ],
      "text/plain": [
       "<class 'statsmodels.iolib.summary.Summary'>\n",
       "\"\"\"\n",
       "                           Logit Regression Results                           \n",
       "==============================================================================\n",
       "Dep. Variable:                      y   No. Observations:                26764\n",
       "Model:                          Logit   Df Residuals:                    26749\n",
       "Method:                           MLE   Df Model:                           14\n",
       "Date:                Sat, 23 Jul 2022   Pseudo R-squ.:                  0.3957\n",
       "Time:                        16:18:14   Log-Likelihood:                -5705.0\n",
       "converged:                       True   LL-Null:                       -9440.1\n",
       "Covariance Type:            nonrobust   LLR p-value:                     0.000\n",
       "=================================================================================\n",
       "                    coef    std err          z      P>|z|      [0.025      0.975]\n",
       "---------------------------------------------------------------------------------\n",
       "job               0.0089      0.007      1.295      0.195      -0.005       0.022\n",
       "marital           0.0871      0.041      2.139      0.032       0.007       0.167\n",
       "education         0.0440      0.012      3.663      0.000       0.020       0.068\n",
       "default          -0.4831      0.080     -6.017      0.000      -0.640      -0.326\n",
       "loan             -0.0282      0.034     -0.819      0.413      -0.096       0.039\n",
       "contact          -0.3902      0.070     -5.589      0.000      -0.527      -0.253\n",
       "month            -0.0767      0.010     -7.764      0.000      -0.096      -0.057\n",
       "day_of_week       0.0365      0.018      2.050      0.040       0.002       0.071\n",
       "duration          0.0055   9.79e-05     56.241      0.000       0.005       0.006\n",
       "campaign         -0.0551      0.016     -3.532      0.000      -0.086      -0.025\n",
       "pdays            -0.0020      0.000    -14.502      0.000      -0.002      -0.002\n",
       "previous         -0.1070      0.067     -1.601      0.109      -0.238       0.024\n",
       "poutcome          0.2731      0.068      3.992      0.000       0.139       0.407\n",
       "emp_var_rate     -0.6067      0.018    -33.581      0.000      -0.642      -0.571\n",
       "cons_conf_idx     0.0593      0.004     14.247      0.000       0.051       0.067\n",
       "=================================================================================\n",
       "\"\"\""
      ]
     },
     "execution_count": 81,
     "metadata": {},
     "output_type": "execute_result"
    }
   ],
   "source": [
    "log_mle_model3 = sm.Logit(y_train1,x_train2).fit()\n",
    "log_mle_model3.summary()"
   ]
  },
  {
   "cell_type": "code",
   "execution_count": 82,
   "id": "94dd8589",
   "metadata": {},
   "outputs": [],
   "source": [
    "y_pred_prob_mle3 = log_mle_model3.predict(x_test2)\n",
    "y_pred_mle3 = [0 if x < 0.5 else 1 for x in y_pred_prob_mle3]"
   ]
  },
  {
   "cell_type": "code",
   "execution_count": 83,
   "id": "0d1b26cc",
   "metadata": {},
   "outputs": [
    {
     "name": "stdout",
     "output_type": "stream",
     "text": [
      "[[12374   423]\n",
      " [  907   708]]\n",
      "              precision    recall  f1-score   support\n",
      "\n",
      "           0       0.93      0.97      0.95     12797\n",
      "           1       0.63      0.44      0.52      1615\n",
      "\n",
      "    accuracy                           0.91     14412\n",
      "   macro avg       0.78      0.70      0.73     14412\n",
      "weighted avg       0.90      0.91      0.90     14412\n",
      "\n"
     ]
    }
   ],
   "source": [
    "cm1 = confusion_matrix(y_test1,y_pred_mle3)\n",
    "print(cm1)\n",
    "print(classification_report(y_test1,y_pred_mle3))"
   ]
  },
  {
   "cell_type": "code",
   "execution_count": 84,
   "id": "ae5bdd08",
   "metadata": {
    "scrolled": true
   },
   "outputs": [
    {
     "data": {
      "image/png": "[encoded data removed]",
      "text/plain": [
       "<Figure size 432x288 with 1 Axes>"
      ]
     },
     "metadata": {
      "needs_background": "light"
     },
     "output_type": "display_data"
    }
   ],
   "source": [
    "fpr,tpr,thresh = roc_curve(y_test1,y_pred_prob_mle3)\n",
    "plt.plot(fpr,tpr,color='orange')\n",
    "plt.plot([0,1],[0,1],label='TPR=FPR')\n",
    "plt.title('ROC_AUC Curve')\n",
    "plt.xlabel('FPR')\n",
    "plt.ylabel('TPR')\n",
    "plt.text(x = 0.02, y = 0.9, s = ('AUC Score:',round(roc_auc_score(y_test1, y_pred_prob_mle2),4)))\n",
    "plt.grid()\n",
    "plt.legend()\n",
    "plt.show()"
   ]
  },
  {
   "cell_type": "markdown",
   "id": "43e6c499",
   "metadata": {},
   "source": [
    "### Tabulating the result after adding new columns and applying MLE & SGD Models"
   ]
  },
  {
   "cell_type": "code",
   "execution_count": 85,
   "id": "208e9770",
   "metadata": {},
   "outputs": [],
   "source": [
    "from sklearn import metrics"
   ]
  },
  {
   "cell_type": "code",
   "execution_count": 105,
   "id": "e68dc1e3",
   "metadata": {},
   "outputs": [
    {
     "data": {
      "text/html": [
       "<div>\n",
       "<style scoped>\n",
       "    .dataframe tbody tr th:only-of-type {\n",
       "        vertical-align: middle;\n",
       "    }\n",
       "\n",
       "    .dataframe tbody tr th {\n",
       "        vertical-align: top;\n",
       "    }\n",
       "\n",
       "    .dataframe thead th {\n",
       "        text-align: right;\n",
       "    }\n",
       "</style>\n",
       "<table border=\"1\" class=\"dataframe\">\n",
       "  <thead>\n",
       "    <tr style=\"text-align: right;\">\n",
       "      <th></th>\n",
       "      <th>Model</th>\n",
       "      <th>AUC Score</th>\n",
       "      <th>Precision Score</th>\n",
       "      <th>Recall Score</th>\n",
       "      <th>Accuracy Score</th>\n",
       "      <th>F1-Score</th>\n",
       "    </tr>\n",
       "  </thead>\n",
       "  <tbody>\n",
       "    <tr>\n",
       "      <th>0</th>\n",
       "      <td>Maximum Likelihood Estimation-1</td>\n",
       "      <td>0.930564</td>\n",
       "      <td>0.632792</td>\n",
       "      <td>0.458824</td>\n",
       "      <td>0.909520</td>\n",
       "      <td>0.531945</td>\n",
       "    </tr>\n",
       "    <tr>\n",
       "      <th>1</th>\n",
       "      <td>Stochastic Gradient Descent-1</td>\n",
       "      <td>0.761853</td>\n",
       "      <td>0.519241</td>\n",
       "      <td>0.576471</td>\n",
       "      <td>0.892728</td>\n",
       "      <td>0.546362</td>\n",
       "    </tr>\n",
       "    <tr>\n",
       "      <th>2</th>\n",
       "      <td>Maximum Likelihood Estimation-2</td>\n",
       "      <td>0.924200</td>\n",
       "      <td>0.626879</td>\n",
       "      <td>0.439009</td>\n",
       "      <td>0.907855</td>\n",
       "      <td>0.516387</td>\n",
       "    </tr>\n",
       "    <tr>\n",
       "      <th>3</th>\n",
       "      <td>Stochastic Gradient Descent-2</td>\n",
       "      <td>0.784637</td>\n",
       "      <td>0.633684</td>\n",
       "      <td>0.372755</td>\n",
       "      <td>0.905565</td>\n",
       "      <td>0.469396</td>\n",
       "    </tr>\n",
       "    <tr>\n",
       "      <th>4</th>\n",
       "      <td>Maximum Likelihood Estimation-3</td>\n",
       "      <td>0.924235</td>\n",
       "      <td>0.625995</td>\n",
       "      <td>0.438390</td>\n",
       "      <td>0.907716</td>\n",
       "      <td>0.515659</td>\n",
       "    </tr>\n",
       "  </tbody>\n",
       "</table>\n",
       "</div>"
      ],
      "text/plain": [
       "                             Model  AUC Score  Precision Score  Recall Score  \\\n",
       "0  Maximum Likelihood Estimation-1   0.930564         0.632792      0.458824   \n",
       "1    Stochastic Gradient Descent-1   0.761853         0.519241      0.576471   \n",
       "2  Maximum Likelihood Estimation-2   0.924200         0.626879      0.439009   \n",
       "3    Stochastic Gradient Descent-2   0.784637         0.633684      0.372755   \n",
       "4  Maximum Likelihood Estimation-3   0.924235         0.625995      0.438390   \n",
       "\n",
       "   Accuracy Score  F1-Score  \n",
       "0        0.909520  0.531945  \n",
       "1        0.892728  0.546362  \n",
       "2        0.907855  0.516387  \n",
       "3        0.905565  0.469396  \n",
       "4        0.907716  0.515659  "
      ]
     },
     "execution_count": 105,
     "metadata": {},
     "output_type": "execute_result"
    }
   ],
   "source": [
    "pd.DataFrame({\"Model\":[\"Maximum Likelihood Estimation-1\",\"Stochastic Gradient Descent-1\",\"Maximum Likelihood Estimation-2\",\"Stochastic Gradient Descent-2\",'Maximum Likelihood Estimation-3'],\n",
    "         \"AUC Score\":[roc_auc_score(y_test, y_pred_prob_mle),roc_auc_score(y_test, y_pred_prob_sgd),roc_auc_score(y_test1, y_pred_prob_mle2),roc_auc_score(y_test1, y_pred_prob_sgd2),roc_auc_score(y_test1, y_pred_prob_mle3)],\n",
    "        \"Precision Score\":[metrics.precision_score(y_test,y_pred_mle),metrics.precision_score(y_test,y_pred_sgd),metrics.precision_score(y_test1,y_pred_mle2),metrics.precision_score(y_test1,y_pred_sgd2),metrics.precision_score(y_test1,y_pred_mle3)],\n",
    "        \"Recall Score\":[metrics.recall_score(y_test, y_pred_mle),metrics.recall_score(y_test, y_pred_sgd),metrics.recall_score(y_test1, y_pred_mle2),metrics.recall_score(y_test1, y_pred_sgd2),metrics.recall_score(y_test1, y_pred_mle3)],\n",
    "        \"Accuracy Score\":[metrics.accuracy_score(y_test, y_pred_mle),metrics.accuracy_score(y_test, y_pred_sgd),metrics.accuracy_score(y_test1, y_pred_mle2),metrics.accuracy_score(y_test1, y_pred_sgd2),metrics.accuracy_score(y_test1, y_pred_mle3)],\n",
    "        \"F1-Score\": [metrics.f1_score(y_test, y_pred_mle),metrics.f1_score(y_test, y_pred_sgd),metrics.f1_score(y_test1, y_pred_mle2),metrics.f1_score(y_test1, y_pred_sgd2),metrics.f1_score(y_test1, y_pred_mle3)]})"
   ]
  },
  {
   "cell_type": "markdown",
   "id": "16ed4432",
   "metadata": {},
   "source": [
    "### Conclusion:\n",
    "- With both SGD models and MLE Models; we see that the accuracy score and roc_auc curve are similar and are providing good results with around 90% accuracy. There precision and recall values are also similar.\n",
    "- Overall, MLE Model-1 is performing better.(but it has multicollinearity)\n",
    "- MLE Model-2 is the best one."
   ]
  },
  {
   "cell_type": "code",
   "execution_count": null,
   "id": "f9c51a5f",
   "metadata": {},
   "outputs": [],
   "source": []
  }
 ],
 "metadata": {
  "kernelspec": {
   "display_name": "Python 3 (ipykernel)",
   "language": "python",
   "name": "python3"
  },
  "language_info": {
   "codemirror_mode": {
    "name": "ipython",
    "version": 3
   },
   "file_extension": ".py",
   "mimetype": "text/x-python",
   "name": "python",
   "nbconvert_exporter": "python",
   "pygments_lexer": "ipython3",
   "version": "3.9.7"
  }
 },
 "nbformat": 4,
 "nbformat_minor": 5
}
